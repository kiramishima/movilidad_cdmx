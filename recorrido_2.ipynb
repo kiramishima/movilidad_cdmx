{
 "cells": [
  {
   "cell_type": "code",
   "execution_count": 1,
   "metadata": {
    "collapsed": true,
    "pycharm": {
     "name": "#%%\n"
    }
   },
   "outputs": [],
   "source": [
    "# Import matplotlib.pyplot\n",
    "from random import random\n",
    "\n",
    "import matplotlib.pyplot as plt\n",
    "# Import pandas\n",
    "import pandas as pd\n",
    "# Import geopandas\n",
    "import geopandas as gpd\n",
    "# import Folium\n",
    "import folium\n",
    "import shapely.geometry"
   ]
  },
  {
   "cell_type": "code",
   "execution_count": 4,
   "outputs": [
    {
     "data": {
      "text/plain": "                                Coordenadas Tipo Transporte  \\\n0   (19.383082625228962, -99.1906271466764)         CAMINAR   \n1   (19.38367013560702, -99.19071438138118)         CAMINAR   \n2  (19.382961076037986, -99.18416246474426)         CAMINAR   \n3   (19.38377832377402, -99.18375208678239)         CAMINAR   \n4  (19.382705527130742, -99.18137564967644)         CAMINAR   \n\n  Coordenadas de Accidente Tipo Accidente Tiempo  Costo Descripcion Accidente  \n0                  Ninguna        Ninguno  05:30  $0.00                   NaN  \n1                  Ninguna        Ninguno  05:33  $0.00                   NaN  \n2                  Ninguna        Ninguno  05:40  $0.00                   NaN  \n3                  Ninguna        Ninguno  05:43  $0.00                   NaN  \n4                  Ninguna        Ninguno  05:48  $0.00                   NaN  ",
      "text/html": "<div>\n<style scoped>\n    .dataframe tbody tr th:only-of-type {\n        vertical-align: middle;\n    }\n\n    .dataframe tbody tr th {\n        vertical-align: top;\n    }\n\n    .dataframe thead th {\n        text-align: right;\n    }\n</style>\n<table border=\"1\" class=\"dataframe\">\n  <thead>\n    <tr style=\"text-align: right;\">\n      <th></th>\n      <th>Coordenadas</th>\n      <th>Tipo Transporte</th>\n      <th>Coordenadas de Accidente</th>\n      <th>Tipo Accidente</th>\n      <th>Tiempo</th>\n      <th>Costo</th>\n      <th>Descripcion Accidente</th>\n    </tr>\n  </thead>\n  <tbody>\n    <tr>\n      <th>0</th>\n      <td>(19.383082625228962, -99.1906271466764)</td>\n      <td>CAMINAR</td>\n      <td>Ninguna</td>\n      <td>Ninguno</td>\n      <td>05:30</td>\n      <td>$0.00</td>\n      <td>NaN</td>\n    </tr>\n    <tr>\n      <th>1</th>\n      <td>(19.38367013560702, -99.19071438138118)</td>\n      <td>CAMINAR</td>\n      <td>Ninguna</td>\n      <td>Ninguno</td>\n      <td>05:33</td>\n      <td>$0.00</td>\n      <td>NaN</td>\n    </tr>\n    <tr>\n      <th>2</th>\n      <td>(19.382961076037986, -99.18416246474426)</td>\n      <td>CAMINAR</td>\n      <td>Ninguna</td>\n      <td>Ninguno</td>\n      <td>05:40</td>\n      <td>$0.00</td>\n      <td>NaN</td>\n    </tr>\n    <tr>\n      <th>3</th>\n      <td>(19.38377832377402, -99.18375208678239)</td>\n      <td>CAMINAR</td>\n      <td>Ninguna</td>\n      <td>Ninguno</td>\n      <td>05:43</td>\n      <td>$0.00</td>\n      <td>NaN</td>\n    </tr>\n    <tr>\n      <th>4</th>\n      <td>(19.382705527130742, -99.18137564967644)</td>\n      <td>CAMINAR</td>\n      <td>Ninguna</td>\n      <td>Ninguno</td>\n      <td>05:48</td>\n      <td>$0.00</td>\n      <td>NaN</td>\n    </tr>\n  </tbody>\n</table>\n</div>"
     },
     "execution_count": 4,
     "metadata": {},
     "output_type": "execute_result"
    }
   ],
   "source": [
    "# Vamos por nuestros datos\n",
    "df = pd.read_csv('DATASET/recorrido_2.csv')\n",
    "# Vemos su contenido\n",
    "df.head()"
   ],
   "metadata": {
    "collapsed": false,
    "pycharm": {
     "name": "#%%\n"
    }
   }
  },
  {
   "cell_type": "code",
   "execution_count": 5,
   "outputs": [
    {
     "name": "stdout",
     "output_type": "stream",
     "text": [
      "<class 'pandas.core.frame.DataFrame'>\n",
      "RangeIndex: 30 entries, 0 to 29\n",
      "Data columns (total 7 columns):\n",
      " #   Column                    Non-Null Count  Dtype \n",
      "---  ------                    --------------  ----- \n",
      " 0   Coordenadas               30 non-null     object\n",
      " 1   Tipo Transporte           30 non-null     object\n",
      " 2   Coordenadas de Accidente  30 non-null     object\n",
      " 3   Tipo Accidente            30 non-null     object\n",
      " 4   Tiempo                    30 non-null     object\n",
      " 5   Costo                     30 non-null     object\n",
      " 6   Descripcion Accidente     1 non-null      object\n",
      "dtypes: object(7)\n",
      "memory usage: 1.8+ KB\n"
     ]
    },
    {
     "data": {
      "text/plain": "(30, 7)"
     },
     "execution_count": 5,
     "metadata": {},
     "output_type": "execute_result"
    }
   ],
   "source": [
    "# Vemos su descripcion\n",
    "df.info()\n",
    "\n",
    "# Vemos su tamaño mxn , m = filas, n = columnas\n",
    "df.shape"
   ],
   "metadata": {
    "collapsed": false,
    "pycharm": {
     "name": "#%%\n"
    }
   }
  },
  {
   "cell_type": "code",
   "execution_count": 6,
   "outputs": [],
   "source": [
    "# Acomodamos los datos\n",
    "df.Coordenadas =  df.Coordenadas.str.strip('()')\n",
    "df[['Latitude', 'Longitude']] = df.Coordenadas.str.split(',', expand=True)\n",
    "df.Costo =  df.Costo.str.strip('$')\n",
    "# Casteamos los datos al tipo de dato\n",
    "df = df.astype({'Longitude': float, 'Latitude': float, 'Costo': float})"
   ],
   "metadata": {
    "collapsed": false,
    "pycharm": {
     "name": "#%%\n"
    }
   }
  },
  {
   "cell_type": "code",
   "execution_count": 7,
   "outputs": [
    {
     "data": {
      "text/plain": "  Tipo Transporte Tiempo  Costo   Latitude  Longitude\n0         CAMINAR  05:30    0.0  19.383083 -99.190627\n1         CAMINAR  05:33    0.0  19.383670 -99.190714\n2         CAMINAR  05:40    0.0  19.382961 -99.184162\n3         CAMINAR  05:43    0.0  19.383778 -99.183752\n4         CAMINAR  05:48    0.0  19.382706 -99.181376",
      "text/html": "<div>\n<style scoped>\n    .dataframe tbody tr th:only-of-type {\n        vertical-align: middle;\n    }\n\n    .dataframe tbody tr th {\n        vertical-align: top;\n    }\n\n    .dataframe thead th {\n        text-align: right;\n    }\n</style>\n<table border=\"1\" class=\"dataframe\">\n  <thead>\n    <tr style=\"text-align: right;\">\n      <th></th>\n      <th>Tipo Transporte</th>\n      <th>Tiempo</th>\n      <th>Costo</th>\n      <th>Latitude</th>\n      <th>Longitude</th>\n    </tr>\n  </thead>\n  <tbody>\n    <tr>\n      <th>0</th>\n      <td>CAMINAR</td>\n      <td>05:30</td>\n      <td>0.0</td>\n      <td>19.383083</td>\n      <td>-99.190627</td>\n    </tr>\n    <tr>\n      <th>1</th>\n      <td>CAMINAR</td>\n      <td>05:33</td>\n      <td>0.0</td>\n      <td>19.383670</td>\n      <td>-99.190714</td>\n    </tr>\n    <tr>\n      <th>2</th>\n      <td>CAMINAR</td>\n      <td>05:40</td>\n      <td>0.0</td>\n      <td>19.382961</td>\n      <td>-99.184162</td>\n    </tr>\n    <tr>\n      <th>3</th>\n      <td>CAMINAR</td>\n      <td>05:43</td>\n      <td>0.0</td>\n      <td>19.383778</td>\n      <td>-99.183752</td>\n    </tr>\n    <tr>\n      <th>4</th>\n      <td>CAMINAR</td>\n      <td>05:48</td>\n      <td>0.0</td>\n      <td>19.382706</td>\n      <td>-99.181376</td>\n    </tr>\n  </tbody>\n</table>\n</div>"
     },
     "execution_count": 7,
     "metadata": {},
     "output_type": "execute_result"
    }
   ],
   "source": [
    "# Eliminamos la columna Coordenadas\n",
    "df = df.drop('Coordenadas', axis=1)\n",
    "df = df.drop('Coordenadas de Accidente', axis=1)\n",
    "df = df.drop('Tipo Accidente', axis=1)\n",
    "df = df.drop('Descripcion Accidente', axis=1)\n",
    "# El resultado\n",
    "df.head()"
   ],
   "metadata": {
    "collapsed": false,
    "pycharm": {
     "name": "#%%\n"
    }
   }
  },
  {
   "cell_type": "code",
   "execution_count": 8,
   "outputs": [
    {
     "name": "stdout",
     "output_type": "stream",
     "text": [
      "<class 'pandas.core.frame.DataFrame'>\n",
      "RangeIndex: 30 entries, 0 to 29\n",
      "Data columns (total 5 columns):\n",
      " #   Column           Non-Null Count  Dtype  \n",
      "---  ------           --------------  -----  \n",
      " 0   Tipo Transporte  30 non-null     object \n",
      " 1   Tiempo           30 non-null     object \n",
      " 2   Costo            30 non-null     float64\n",
      " 3   Latitude         30 non-null     float64\n",
      " 4   Longitude        30 non-null     float64\n",
      "dtypes: float64(3), object(2)\n",
      "memory usage: 1.3+ KB\n"
     ]
    },
    {
     "data": {
      "text/plain": "(30, 5)"
     },
     "execution_count": 8,
     "metadata": {},
     "output_type": "execute_result"
    }
   ],
   "source": [
    "df.info()\n",
    "\n",
    "df.shape"
   ],
   "metadata": {
    "collapsed": false,
    "pycharm": {
     "name": "#%%\n"
    }
   }
  },
  {
   "cell_type": "code",
   "execution_count": 9,
   "outputs": [
    {
     "name": "stdout",
     "output_type": "stream",
     "text": [
      "<class 'geopandas.geodataframe.GeoDataFrame'>\n",
      "RangeIndex: 30 entries, 0 to 29\n",
      "Data columns (total 7 columns):\n",
      " #   Column           Non-Null Count  Dtype   \n",
      "---  ------           --------------  -----   \n",
      " 0   Tipo Transporte  30 non-null     object  \n",
      " 1   Tiempo           30 non-null     object  \n",
      " 2   Costo            30 non-null     float64 \n",
      " 3   Latitude         30 non-null     float64 \n",
      " 4   Longitude        30 non-null     float64 \n",
      " 5   geometry         30 non-null     geometry\n",
      " 6   loc              30 non-null     object  \n",
      "dtypes: float64(3), geometry(1), object(3)\n",
      "memory usage: 1.8+ KB\n"
     ]
    }
   ],
   "source": [
    "# Pasamos la informacion a un GeoDataframe\n",
    "gdf = gpd.GeoDataFrame(df, geometry=gpd.points_from_xy(df.Longitude, df.Latitude), crs =\"EPSG:4326\")\n",
    "\n",
    "gdf['loc'] = gdf.geometry.apply(lambda x:shapely.geometry.mapping(x))\n",
    "# Show\n",
    "gdf.info()"
   ],
   "metadata": {
    "collapsed": false,
    "pycharm": {
     "name": "#%%\n"
    }
   }
  },
  {
   "cell_type": "code",
   "execution_count": 10,
   "outputs": [
    {
     "data": {
      "text/plain": "  Tipo Transporte Tiempo  Costo   Latitude  Longitude  \\\n0         CAMINAR  05:30    0.0  19.383083 -99.190627   \n1         CAMINAR  05:33    0.0  19.383670 -99.190714   \n2         CAMINAR  05:40    0.0  19.382961 -99.184162   \n3         CAMINAR  05:43    0.0  19.383778 -99.183752   \n4         CAMINAR  05:48    0.0  19.382706 -99.181376   \n\n                     geometry  \\\n0  POINT (-99.19063 19.38308)   \n1  POINT (-99.19071 19.38367)   \n2  POINT (-99.18416 19.38296)   \n3  POINT (-99.18375 19.38378)   \n4  POINT (-99.18138 19.38271)   \n\n                                                 loc  \n0  {'type': 'Point', 'coordinates': (-99.19062714...  \n1  {'type': 'Point', 'coordinates': (-99.19071438...  \n2  {'type': 'Point', 'coordinates': (-99.18416246...  \n3  {'type': 'Point', 'coordinates': (-99.18375208...  \n4  {'type': 'Point', 'coordinates': (-99.18137564...  ",
      "text/html": "<div>\n<style scoped>\n    .dataframe tbody tr th:only-of-type {\n        vertical-align: middle;\n    }\n\n    .dataframe tbody tr th {\n        vertical-align: top;\n    }\n\n    .dataframe thead th {\n        text-align: right;\n    }\n</style>\n<table border=\"1\" class=\"dataframe\">\n  <thead>\n    <tr style=\"text-align: right;\">\n      <th></th>\n      <th>Tipo Transporte</th>\n      <th>Tiempo</th>\n      <th>Costo</th>\n      <th>Latitude</th>\n      <th>Longitude</th>\n      <th>geometry</th>\n      <th>loc</th>\n    </tr>\n  </thead>\n  <tbody>\n    <tr>\n      <th>0</th>\n      <td>CAMINAR</td>\n      <td>05:30</td>\n      <td>0.0</td>\n      <td>19.383083</td>\n      <td>-99.190627</td>\n      <td>POINT (-99.19063 19.38308)</td>\n      <td>{'type': 'Point', 'coordinates': (-99.19062714...</td>\n    </tr>\n    <tr>\n      <th>1</th>\n      <td>CAMINAR</td>\n      <td>05:33</td>\n      <td>0.0</td>\n      <td>19.383670</td>\n      <td>-99.190714</td>\n      <td>POINT (-99.19071 19.38367)</td>\n      <td>{'type': 'Point', 'coordinates': (-99.19071438...</td>\n    </tr>\n    <tr>\n      <th>2</th>\n      <td>CAMINAR</td>\n      <td>05:40</td>\n      <td>0.0</td>\n      <td>19.382961</td>\n      <td>-99.184162</td>\n      <td>POINT (-99.18416 19.38296)</td>\n      <td>{'type': 'Point', 'coordinates': (-99.18416246...</td>\n    </tr>\n    <tr>\n      <th>3</th>\n      <td>CAMINAR</td>\n      <td>05:43</td>\n      <td>0.0</td>\n      <td>19.383778</td>\n      <td>-99.183752</td>\n      <td>POINT (-99.18375 19.38378)</td>\n      <td>{'type': 'Point', 'coordinates': (-99.18375208...</td>\n    </tr>\n    <tr>\n      <th>4</th>\n      <td>CAMINAR</td>\n      <td>05:48</td>\n      <td>0.0</td>\n      <td>19.382706</td>\n      <td>-99.181376</td>\n      <td>POINT (-99.18138 19.38271)</td>\n      <td>{'type': 'Point', 'coordinates': (-99.18137564...</td>\n    </tr>\n  </tbody>\n</table>\n</div>"
     },
     "execution_count": 10,
     "metadata": {},
     "output_type": "execute_result"
    }
   ],
   "source": [
    "gdf.head()"
   ],
   "metadata": {
    "collapsed": false,
    "pycharm": {
     "name": "#%%\n"
    }
   }
  },
  {
   "cell_type": "code",
   "execution_count": 11,
   "outputs": [],
   "source": [
    "cdmx = [19.432608, -99.133209]\n",
    "\n",
    "# Creamos el mapa\n",
    "m = folium.Map(location=cdmx, zoom_start=12, tiles='cartodbpositron')"
   ],
   "metadata": {
    "collapsed": false,
    "pycharm": {
     "name": "#%%\n"
    }
   }
  },
  {
   "cell_type": "code",
   "execution_count": null,
   "outputs": [],
   "source": [
    "geopath = gdf.geometry.to_json()\n",
    "#print(geopath)\n",
    "poligonos = folium.features.GeoJson(geopath)\n",
    "m.add_child(poligonos)\n",
    "folium.LayerControl().add_to(m)\n",
    "m"
   ],
   "metadata": {
    "collapsed": false,
    "pycharm": {
     "name": "#%%\n"
    }
   }
  },
  {
   "cell_type": "code",
   "execution_count": 16,
   "outputs": [
    {
     "data": {
      "text/plain": "<folium.folium.Map at 0x27983876b60>",
      "text/html": "<div style=\"width:100%;\"><div style=\"position:relative;width:100%;height:0;padding-bottom:60%;\"><span style=\"color:#565656\">Make this Notebook Trusted to load map: File -> Trust Notebook</span><iframe srcdoc=\"&lt;!DOCTYPE html&gt;\n&lt;head&gt;    \n    &lt;meta http-equiv=&quot;content-type&quot; content=&quot;text/html; charset=UTF-8&quot; /&gt;\n    \n        &lt;script&gt;\n            L_NO_TOUCH = false;\n            L_DISABLE_3D = false;\n        &lt;/script&gt;\n    \n    &lt;style&gt;html, body {width: 100%;height: 100%;margin: 0;padding: 0;}&lt;/style&gt;\n    &lt;style&gt;#map {position:absolute;top:0;bottom:0;right:0;left:0;}&lt;/style&gt;\n    &lt;script src=&quot;https://cdn.jsdelivr.net/npm/leaflet@1.6.0/dist/leaflet.js&quot;&gt;&lt;/script&gt;\n    &lt;script src=&quot;https://code.jquery.com/jquery-1.12.4.min.js&quot;&gt;&lt;/script&gt;\n    &lt;script src=&quot;https://maxcdn.bootstrapcdn.com/bootstrap/3.2.0/js/bootstrap.min.js&quot;&gt;&lt;/script&gt;\n    &lt;script src=&quot;https://cdnjs.cloudflare.com/ajax/libs/Leaflet.awesome-markers/2.0.2/leaflet.awesome-markers.js&quot;&gt;&lt;/script&gt;\n    &lt;link rel=&quot;stylesheet&quot; href=&quot;https://cdn.jsdelivr.net/npm/leaflet@1.6.0/dist/leaflet.css&quot;/&gt;\n    &lt;link rel=&quot;stylesheet&quot; href=&quot;https://maxcdn.bootstrapcdn.com/bootstrap/3.2.0/css/bootstrap.min.css&quot;/&gt;\n    &lt;link rel=&quot;stylesheet&quot; href=&quot;https://maxcdn.bootstrapcdn.com/bootstrap/3.2.0/css/bootstrap-theme.min.css&quot;/&gt;\n    &lt;link rel=&quot;stylesheet&quot; href=&quot;https://maxcdn.bootstrapcdn.com/font-awesome/4.6.3/css/font-awesome.min.css&quot;/&gt;\n    &lt;link rel=&quot;stylesheet&quot; href=&quot;https://cdnjs.cloudflare.com/ajax/libs/Leaflet.awesome-markers/2.0.2/leaflet.awesome-markers.css&quot;/&gt;\n    &lt;link rel=&quot;stylesheet&quot; href=&quot;https://cdn.jsdelivr.net/gh/python-visualization/folium/folium/templates/leaflet.awesome.rotate.min.css&quot;/&gt;\n    \n            &lt;meta name=&quot;viewport&quot; content=&quot;width=device-width,\n                initial-scale=1.0, maximum-scale=1.0, user-scalable=no&quot; /&gt;\n            &lt;style&gt;\n                #map_f41b36f2e8d2bb7adce42ddf264bcae0 {\n                    position: relative;\n                    width: 100.0%;\n                    height: 100.0%;\n                    left: 0.0%;\n                    top: 0.0%;\n                }\n            &lt;/style&gt;\n        \n    \n                    &lt;style&gt;\n                        .foliumtooltip {\n                            \n                        }\n                       .foliumtooltip table{\n                            margin: auto;\n                        }\n                        .foliumtooltip tr{\n                            text-align: left;\n                        }\n                        .foliumtooltip th{\n                            padding: 2px; padding-right: 8px;\n                        }\n                    &lt;/style&gt;\n            \n&lt;/head&gt;\n&lt;body&gt;    \n    \n            &lt;div class=&quot;folium-map&quot; id=&quot;map_f41b36f2e8d2bb7adce42ddf264bcae0&quot; &gt;&lt;/div&gt;\n        \n&lt;/body&gt;\n&lt;script&gt;    \n    \n            var map_f41b36f2e8d2bb7adce42ddf264bcae0 = L.map(\n                &quot;map_f41b36f2e8d2bb7adce42ddf264bcae0&quot;,\n                {\n                    center: [19.3316259637757, -99.167557595944],\n                    crs: L.CRS.EPSG3857,\n                    zoom: 10,\n                    zoomControl: true,\n                    preferCanvas: false,\n                }\n            );\n            L.control.scale().addTo(map_f41b36f2e8d2bb7adce42ddf264bcae0);\n\n            \n\n        \n    \n            var tile_layer_bf890151b42f89bc263658180455137b = L.tileLayer(\n                &quot;https://a.basemaps.cartocdn.com/light_all/{z}/{x}/{y}{r}.png&quot;,\n                {&quot;attribution&quot;: &quot;\\u0026copy; \\u003ca href=\\&quot;https://www.openstreetmap.org/copyright\\&quot;\\u003eOpenStreetMap\\u003c/a\\u003e contributors \\u0026copy; \\u003ca href=\\&quot;https://carto.com/attributions\\&quot;\\u003eCARTO\\u003c/a\\u003e&quot;, &quot;detectRetina&quot;: false, &quot;maxNativeZoom&quot;: 20, &quot;maxZoom&quot;: 20, &quot;minZoom&quot;: 0, &quot;noWrap&quot;: false, &quot;opacity&quot;: 1, &quot;subdomains&quot;: &quot;abc&quot;, &quot;tms&quot;: false}\n            ).addTo(map_f41b36f2e8d2bb7adce42ddf264bcae0);\n        \n    \n            map_f41b36f2e8d2bb7adce42ddf264bcae0.fitBounds(\n                [[19.27947360377738, -99.19071438138118], [19.38377832377402, -99.14440081050682]],\n                {}\n            );\n        \n    \n        function geo_json_1de77f8ee04b9bfbdd9752ddf1f76d49_styler(feature) {\n            switch(feature.id) {\n                default:\n                    return {&quot;fillOpacity&quot;: 0.5, &quot;weight&quot;: 2};\n            }\n        }\n        function geo_json_1de77f8ee04b9bfbdd9752ddf1f76d49_highlighter(feature) {\n            switch(feature.id) {\n                default:\n                    return {&quot;fillOpacity&quot;: 0.75};\n            }\n        }\n        function geo_json_1de77f8ee04b9bfbdd9752ddf1f76d49_pointToLayer(feature, latlng) {\n            var opts = {&quot;bubblingMouseEvents&quot;: true, &quot;color&quot;: &quot;#3388ff&quot;, &quot;dashArray&quot;: null, &quot;dashOffset&quot;: null, &quot;fill&quot;: true, &quot;fillColor&quot;: &quot;#3388ff&quot;, &quot;fillOpacity&quot;: 0.2, &quot;fillRule&quot;: &quot;evenodd&quot;, &quot;lineCap&quot;: &quot;round&quot;, &quot;lineJoin&quot;: &quot;round&quot;, &quot;opacity&quot;: 1.0, &quot;radius&quot;: 2, &quot;stroke&quot;: true, &quot;weight&quot;: 3};\n            \n            let style = geo_json_1de77f8ee04b9bfbdd9752ddf1f76d49_styler(feature)\n            Object.assign(opts, style)\n            \n            return new L.CircleMarker(latlng, opts)\n        }\n\n        function geo_json_1de77f8ee04b9bfbdd9752ddf1f76d49_onEachFeature(feature, layer) {\n            layer.on({\n                mouseout: function(e) {\n                    if(typeof e.target.setStyle === &quot;function&quot;){\n                        geo_json_1de77f8ee04b9bfbdd9752ddf1f76d49.resetStyle(e.target);\n                    }\n                },\n                mouseover: function(e) {\n                    if(typeof e.target.setStyle === &quot;function&quot;){\n                        const highlightStyle = geo_json_1de77f8ee04b9bfbdd9752ddf1f76d49_highlighter(e.target.feature)\n                        e.target.setStyle(highlightStyle);\n                    }\n                },\n            });\n        };\n        var geo_json_1de77f8ee04b9bfbdd9752ddf1f76d49 = L.geoJson(null, {\n                onEachFeature: geo_json_1de77f8ee04b9bfbdd9752ddf1f76d49_onEachFeature,\n            \n                style: geo_json_1de77f8ee04b9bfbdd9752ddf1f76d49_styler,\n                pointToLayer: geo_json_1de77f8ee04b9bfbdd9752ddf1f76d49_pointToLayer\n        });\n\n        function geo_json_1de77f8ee04b9bfbdd9752ddf1f76d49_add (data) {\n            geo_json_1de77f8ee04b9bfbdd9752ddf1f76d49\n                .addData(data)\n                .addTo(map_f41b36f2e8d2bb7adce42ddf264bcae0);\n        }\n            geo_json_1de77f8ee04b9bfbdd9752ddf1f76d49_add({&quot;bbox&quot;: [-99.19071438138118, 19.27947360377738, -99.14440081050682, 19.38377832377402], &quot;features&quot;: [{&quot;bbox&quot;: [-99.1906271466764, 19.383082625228962, -99.1906271466764, 19.383082625228962], &quot;geometry&quot;: {&quot;coordinates&quot;: [-99.1906271466764, 19.383082625228962], &quot;type&quot;: &quot;Point&quot;}, &quot;id&quot;: &quot;0&quot;, &quot;properties&quot;: {&quot;Costo&quot;: 0.0, &quot;Latitude&quot;: 19.383082625228962, &quot;Longitude&quot;: -99.1906271466764, &quot;Tiempo&quot;: &quot;05:30&quot;, &quot;Tipo Transporte&quot;: &quot;CAMINAR&quot;, &quot;loc&quot;: {&quot;coordinates&quot;: [-99.1906271466764, 19.383082625228962], &quot;type&quot;: &quot;Point&quot;}}, &quot;type&quot;: &quot;Feature&quot;}, {&quot;bbox&quot;: [-99.19071438138118, 19.38367013560702, -99.19071438138118, 19.38367013560702], &quot;geometry&quot;: {&quot;coordinates&quot;: [-99.19071438138118, 19.38367013560702], &quot;type&quot;: &quot;Point&quot;}, &quot;id&quot;: &quot;1&quot;, &quot;properties&quot;: {&quot;Costo&quot;: 0.0, &quot;Latitude&quot;: 19.38367013560702, &quot;Longitude&quot;: -99.19071438138118, &quot;Tiempo&quot;: &quot;05:33&quot;, &quot;Tipo Transporte&quot;: &quot;CAMINAR&quot;, &quot;loc&quot;: {&quot;coordinates&quot;: [-99.19071438138118, 19.38367013560702], &quot;type&quot;: &quot;Point&quot;}}, &quot;type&quot;: &quot;Feature&quot;}, {&quot;bbox&quot;: [-99.18416246474426, 19.382961076037986, -99.18416246474426, 19.382961076037986], &quot;geometry&quot;: {&quot;coordinates&quot;: [-99.18416246474426, 19.382961076037986], &quot;type&quot;: &quot;Point&quot;}, &quot;id&quot;: &quot;2&quot;, &quot;properties&quot;: {&quot;Costo&quot;: 0.0, &quot;Latitude&quot;: 19.382961076037986, &quot;Longitude&quot;: -99.18416246474426, &quot;Tiempo&quot;: &quot;05:40&quot;, &quot;Tipo Transporte&quot;: &quot;CAMINAR&quot;, &quot;loc&quot;: {&quot;coordinates&quot;: [-99.18416246474426, 19.382961076037986], &quot;type&quot;: &quot;Point&quot;}}, &quot;type&quot;: &quot;Feature&quot;}, {&quot;bbox&quot;: [-99.18375208678239, 19.38377832377402, -99.18375208678239, 19.38377832377402], &quot;geometry&quot;: {&quot;coordinates&quot;: [-99.18375208678239, 19.38377832377402], &quot;type&quot;: &quot;Point&quot;}, &quot;id&quot;: &quot;3&quot;, &quot;properties&quot;: {&quot;Costo&quot;: 0.0, &quot;Latitude&quot;: 19.38377832377402, &quot;Longitude&quot;: -99.18375208678239, &quot;Tiempo&quot;: &quot;05:43&quot;, &quot;Tipo Transporte&quot;: &quot;CAMINAR&quot;, &quot;loc&quot;: {&quot;coordinates&quot;: [-99.18375208678239, 19.38377832377402], &quot;type&quot;: &quot;Point&quot;}}, &quot;type&quot;: &quot;Feature&quot;}, {&quot;bbox&quot;: [-99.18137564967644, 19.382705527130742, -99.18137564967644, 19.382705527130742], &quot;geometry&quot;: {&quot;coordinates&quot;: [-99.18137564967644, 19.382705527130742], &quot;type&quot;: &quot;Point&quot;}, &quot;id&quot;: &quot;4&quot;, &quot;properties&quot;: {&quot;Costo&quot;: 0.0, &quot;Latitude&quot;: 19.382705527130742, &quot;Longitude&quot;: -99.18137564967644, &quot;Tiempo&quot;: &quot;05:48&quot;, &quot;Tipo Transporte&quot;: &quot;CAMINAR&quot;, &quot;loc&quot;: {&quot;coordinates&quot;: [-99.18137564967644, 19.382705527130742], &quot;type&quot;: &quot;Point&quot;}}, &quot;type&quot;: &quot;Feature&quot;}, {&quot;bbox&quot;: [-99.1794927391155, 19.3816681463057, -99.1794927391155, 19.3816681463057], &quot;geometry&quot;: {&quot;coordinates&quot;: [-99.1794927391155, 19.3816681463057], &quot;type&quot;: &quot;Point&quot;}, &quot;id&quot;: &quot;5&quot;, &quot;properties&quot;: {&quot;Costo&quot;: 0.0, &quot;Latitude&quot;: 19.3816681463057, &quot;Longitude&quot;: -99.1794927391155, &quot;Tiempo&quot;: &quot;05:52&quot;, &quot;Tipo Transporte&quot;: &quot;CAMINAR&quot;, &quot;loc&quot;: {&quot;coordinates&quot;: [-99.1794927391155, 19.3816681463057], &quot;type&quot;: &quot;Point&quot;}}, &quot;type&quot;: &quot;Feature&quot;}, {&quot;bbox&quot;: [-99.17617752875515, 19.382839627094555, -99.17617752875515, 19.382839627094555], &quot;geometry&quot;: {&quot;coordinates&quot;: [-99.17617752875515, 19.382839627094555], &quot;type&quot;: &quot;Point&quot;}, &quot;id&quot;: &quot;6&quot;, &quot;properties&quot;: {&quot;Costo&quot;: 0.0, &quot;Latitude&quot;: 19.382839627094555, &quot;Longitude&quot;: -99.17617752875515, &quot;Tiempo&quot;: &quot;06:00&quot;, &quot;Tipo Transporte&quot;: &quot;CAMINAR&quot;, &quot;loc&quot;: {&quot;coordinates&quot;: [-99.17617752875515, 19.382839627094555], &quot;type&quot;: &quot;Point&quot;}}, &quot;type&quot;: &quot;Feature&quot;}, {&quot;bbox&quot;: [-99.17615338887623, 19.38250058168496, -99.17615338887623, 19.38250058168496], &quot;geometry&quot;: {&quot;coordinates&quot;: [-99.17615338887623, 19.38250058168496], &quot;type&quot;: &quot;Point&quot;}, &quot;id&quot;: &quot;7&quot;, &quot;properties&quot;: {&quot;Costo&quot;: 6.0, &quot;Latitude&quot;: 19.38250058168496, &quot;Longitude&quot;: -99.17615338887623, &quot;Tiempo&quot;: &quot;06:15&quot;, &quot;Tipo Transporte&quot;: &quot;METROBUS&quot;, &quot;loc&quot;: {&quot;coordinates&quot;: [-99.17615338887623, 19.38250058168496], &quot;type&quot;: &quot;Point&quot;}}, &quot;type&quot;: &quot;Feature&quot;}, {&quot;bbox&quot;: [-99.19045862470468, 19.33979501073667, -99.19045862470468, 19.33979501073667], &quot;geometry&quot;: {&quot;coordinates&quot;: [-99.19045862470468, 19.33979501073667], &quot;type&quot;: &quot;Point&quot;}, &quot;id&quot;: &quot;8&quot;, &quot;properties&quot;: {&quot;Costo&quot;: 0.0, &quot;Latitude&quot;: 19.33979501073667, &quot;Longitude&quot;: -99.19045862470468, &quot;Tiempo&quot;: &quot;07:25&quot;, &quot;Tipo Transporte&quot;: &quot;METROBUS&quot;, &quot;loc&quot;: {&quot;coordinates&quot;: [-99.19045862470468, 19.33979501073667], &quot;type&quot;: &quot;Point&quot;}}, &quot;type&quot;: &quot;Feature&quot;}, {&quot;bbox&quot;: [-99.18500837633597, 19.29577244917112, -99.18500837633597, 19.29577244917112], &quot;geometry&quot;: {&quot;coordinates&quot;: [-99.18500837633597, 19.29577244917112], &quot;type&quot;: &quot;Point&quot;}, &quot;id&quot;: &quot;9&quot;, &quot;properties&quot;: {&quot;Costo&quot;: 0.0, &quot;Latitude&quot;: 19.29577244917112, &quot;Longitude&quot;: -99.18500837633597, &quot;Tiempo&quot;: &quot;07:45&quot;, &quot;Tipo Transporte&quot;: &quot;METROBUS&quot;, &quot;loc&quot;: {&quot;coordinates&quot;: [-99.18500837633597, 19.29577244917112], &quot;type&quot;: &quot;Point&quot;}}, &quot;type&quot;: &quot;Feature&quot;}, {&quot;bbox&quot;: [-99.17370018345714, 19.29071942361733, -99.17370018345714, 19.29071942361733], &quot;geometry&quot;: {&quot;coordinates&quot;: [-99.17370018345714, 19.29071942361733], &quot;type&quot;: &quot;Point&quot;}, &quot;id&quot;: &quot;10&quot;, &quot;properties&quot;: {&quot;Costo&quot;: 0.0, &quot;Latitude&quot;: 19.29071942361733, &quot;Longitude&quot;: -99.17370018345714, &quot;Tiempo&quot;: &quot;07:58&quot;, &quot;Tipo Transporte&quot;: &quot;METROBUS&quot;, &quot;loc&quot;: {&quot;coordinates&quot;: [-99.17370018345714, 19.29071942361733], &quot;type&quot;: &quot;Point&quot;}}, &quot;type&quot;: &quot;Feature&quot;}, {&quot;bbox&quot;: [-99.17584595047266, 19.28463330819647, -99.17584595047266, 19.28463330819647], &quot;geometry&quot;: {&quot;coordinates&quot;: [-99.17584595047266, 19.28463330819647], &quot;type&quot;: &quot;Point&quot;}, &quot;id&quot;: &quot;11&quot;, &quot;properties&quot;: {&quot;Costo&quot;: 0.0, &quot;Latitude&quot;: 19.28463330819647, &quot;Longitude&quot;: -99.17584595047266, &quot;Tiempo&quot;: &quot;08:05&quot;, &quot;Tipo Transporte&quot;: &quot;METROBUS&quot;, &quot;loc&quot;: {&quot;coordinates&quot;: [-99.17584595047266, 19.28463330819647], &quot;type&quot;: &quot;Point&quot;}}, &quot;type&quot;: &quot;Feature&quot;}, {&quot;bbox&quot;: [-99.17499837220686, 19.28268894403653, -99.17499837220686, 19.28268894403653], &quot;geometry&quot;: {&quot;coordinates&quot;: [-99.17499837220686, 19.28268894403653], &quot;type&quot;: &quot;Point&quot;}, &quot;id&quot;: &quot;12&quot;, &quot;properties&quot;: {&quot;Costo&quot;: 0.0, &quot;Latitude&quot;: 19.28268894403653, &quot;Longitude&quot;: -99.17499837220686, &quot;Tiempo&quot;: &quot;08:15&quot;, &quot;Tipo Transporte&quot;: &quot;METROBUS&quot;, &quot;loc&quot;: {&quot;coordinates&quot;: [-99.17499837220686, 19.28268894403653], &quot;type&quot;: &quot;Point&quot;}}, &quot;type&quot;: &quot;Feature&quot;}, {&quot;bbox&quot;: [-99.17006310807118, 19.280339473298586, -99.17006310807118, 19.280339473298586], &quot;geometry&quot;: {&quot;coordinates&quot;: [-99.17006310807118, 19.280339473298586], &quot;type&quot;: &quot;Point&quot;}, &quot;id&quot;: &quot;13&quot;, &quot;properties&quot;: {&quot;Costo&quot;: 0.0, &quot;Latitude&quot;: 19.280339473298586, &quot;Longitude&quot;: -99.17006310807118, &quot;Tiempo&quot;: &quot;08:25&quot;, &quot;Tipo Transporte&quot;: &quot;METROBUS&quot;, &quot;loc&quot;: {&quot;coordinates&quot;: [-99.17006310807118, 19.280339473298586], &quot;type&quot;: &quot;Point&quot;}}, &quot;type&quot;: &quot;Feature&quot;}, {&quot;bbox&quot;: [-99.16795757381107, 19.27947360377738, -99.16795757381107, 19.27947360377738], &quot;geometry&quot;: {&quot;coordinates&quot;: [-99.16795757381107, 19.27947360377738], &quot;type&quot;: &quot;Point&quot;}, &quot;id&quot;: &quot;14&quot;, &quot;properties&quot;: {&quot;Costo&quot;: 0.0, &quot;Latitude&quot;: 19.27947360377738, &quot;Longitude&quot;: -99.16795757381107, &quot;Tiempo&quot;: &quot;08:29&quot;, &quot;Tipo Transporte&quot;: &quot;CAMINAR&quot;, &quot;loc&quot;: {&quot;coordinates&quot;: [-99.16795757381107, 19.27947360377738], &quot;type&quot;: &quot;Point&quot;}}, &quot;type&quot;: &quot;Feature&quot;}, {&quot;bbox&quot;: [-99.16673180433538, 19.279612219151442, -99.16673180433538, 19.279612219151442], &quot;geometry&quot;: {&quot;coordinates&quot;: [-99.16673180433538, 19.279612219151442], &quot;type&quot;: &quot;Point&quot;}, &quot;id&quot;: &quot;15&quot;, &quot;properties&quot;: {&quot;Costo&quot;: 0.0, &quot;Latitude&quot;: 19.279612219151442, &quot;Longitude&quot;: -99.16673180433538, &quot;Tiempo&quot;: &quot;08:31&quot;, &quot;Tipo Transporte&quot;: &quot;CAMINAR, TOMA CAMION&quot;, &quot;loc&quot;: {&quot;coordinates&quot;: [-99.16673180433538, 19.279612219151442], &quot;type&quot;: &quot;Point&quot;}}, &quot;type&quot;: &quot;Feature&quot;}, {&quot;bbox&quot;: [-99.16221067774308, 19.29011799530174, -99.16221067774308, 19.29011799530174], &quot;geometry&quot;: {&quot;coordinates&quot;: [-99.16221067774308, 19.29011799530174], &quot;type&quot;: &quot;Point&quot;}, &quot;id&quot;: &quot;16&quot;, &quot;properties&quot;: {&quot;Costo&quot;: 7.5, &quot;Latitude&quot;: 19.29011799530174, &quot;Longitude&quot;: -99.16221067774308, &quot;Tiempo&quot;: &quot;08:35&quot;, &quot;Tipo Transporte&quot;: &quot;CAMION&quot;, &quot;loc&quot;: {&quot;coordinates&quot;: [-99.16221067774308, 19.29011799530174], &quot;type&quot;: &quot;Point&quot;}}, &quot;type&quot;: &quot;Feature&quot;}, {&quot;bbox&quot;: [-99.14440081050682, 19.304962766722397, -99.14440081050682, 19.304962766722397], &quot;geometry&quot;: {&quot;coordinates&quot;: [-99.14440081050682, 19.304962766722397], &quot;type&quot;: &quot;Point&quot;}, &quot;id&quot;: &quot;17&quot;, &quot;properties&quot;: {&quot;Costo&quot;: 0.0, &quot;Latitude&quot;: 19.304962766722397, &quot;Longitude&quot;: -99.14440081050682, &quot;Tiempo&quot;: &quot;08:40&quot;, &quot;Tipo Transporte&quot;: &quot;CAMION&quot;, &quot;loc&quot;: {&quot;coordinates&quot;: [-99.14440081050682, 19.304962766722397], &quot;type&quot;: &quot;Point&quot;}}, &quot;type&quot;: &quot;Feature&quot;}, {&quot;bbox&quot;: [-99.14475486206437, 19.305286784907125, -99.14475486206437, 19.305286784907125], &quot;geometry&quot;: {&quot;coordinates&quot;: [-99.14475486206437, 19.305286784907125], &quot;type&quot;: &quot;Point&quot;}, &quot;id&quot;: &quot;18&quot;, &quot;properties&quot;: {&quot;Costo&quot;: 0.0, &quot;Latitude&quot;: 19.305286784907125, &quot;Longitude&quot;: -99.14475486206437, &quot;Tiempo&quot;: &quot;08:45&quot;, &quot;Tipo Transporte&quot;: &quot;CAMION&quot;, &quot;loc&quot;: {&quot;coordinates&quot;: [-99.14475486206437, 19.305286784907125], &quot;type&quot;: &quot;Point&quot;}}, &quot;type&quot;: &quot;Feature&quot;}, {&quot;bbox&quot;: [-99.15205046991713, 19.297955716470298, -99.15205046991713, 19.297955716470298], &quot;geometry&quot;: {&quot;coordinates&quot;: [-99.15205046991713, 19.297955716470298], &quot;type&quot;: &quot;Point&quot;}, &quot;id&quot;: &quot;19&quot;, &quot;properties&quot;: {&quot;Costo&quot;: 0.0, &quot;Latitude&quot;: 19.297955716470298, &quot;Longitude&quot;: -99.15205046991713, &quot;Tiempo&quot;: &quot;08:49&quot;, &quot;Tipo Transporte&quot;: &quot;CAMION&quot;, &quot;loc&quot;: {&quot;coordinates&quot;: [-99.15205046991713, 19.297955716470298], &quot;type&quot;: &quot;Point&quot;}}, &quot;type&quot;: &quot;Feature&quot;}, {&quot;bbox&quot;: [-99.15646002113401, 19.29700386857389, -99.15646002113401, 19.29700386857389], &quot;geometry&quot;: {&quot;coordinates&quot;: [-99.15646002113401, 19.29700386857389], &quot;type&quot;: &quot;Point&quot;}, &quot;id&quot;: &quot;20&quot;, &quot;properties&quot;: {&quot;Costo&quot;: 0.0, &quot;Latitude&quot;: 19.29700386857389, &quot;Longitude&quot;: -99.15646002113401, &quot;Tiempo&quot;: &quot;08:53&quot;, &quot;Tipo Transporte&quot;: &quot;CAMION&quot;, &quot;loc&quot;: {&quot;coordinates&quot;: [-99.15646002113401, 19.29700386857389], &quot;type&quot;: &quot;Point&quot;}}, &quot;type&quot;: &quot;Feature&quot;}, {&quot;bbox&quot;: [-99.16091248769119, 19.30130739211318, -99.16091248769119, 19.30130739211318], &quot;geometry&quot;: {&quot;coordinates&quot;: [-99.16091248769119, 19.30130739211318], &quot;type&quot;: &quot;Point&quot;}, &quot;id&quot;: &quot;21&quot;, &quot;properties&quot;: {&quot;Costo&quot;: 0.0, &quot;Latitude&quot;: 19.30130739211318, &quot;Longitude&quot;: -99.16091248769119, &quot;Tiempo&quot;: &quot;08:55&quot;, &quot;Tipo Transporte&quot;: &quot;CAMION&quot;, &quot;loc&quot;: {&quot;coordinates&quot;: [-99.16091248769119, 19.30130739211318], &quot;type&quot;: &quot;Point&quot;}}, &quot;type&quot;: &quot;Feature&quot;}, {&quot;bbox&quot;: [-99.16109487788752, 19.302249089227733, -99.16109487788752, 19.302249089227733], &quot;geometry&quot;: {&quot;coordinates&quot;: [-99.16109487788752, 19.302249089227733], &quot;type&quot;: &quot;Point&quot;}, &quot;id&quot;: &quot;22&quot;, &quot;properties&quot;: {&quot;Costo&quot;: 0.0, &quot;Latitude&quot;: 19.302249089227733, &quot;Longitude&quot;: -99.16109487788752, &quot;Tiempo&quot;: &quot;08:57&quot;, &quot;Tipo Transporte&quot;: &quot;CAMION&quot;, &quot;loc&quot;: {&quot;coordinates&quot;: [-99.16109487788752, 19.302249089227733], &quot;type&quot;: &quot;Point&quot;}}, &quot;type&quot;: &quot;Feature&quot;}, {&quot;bbox&quot;: [-99.15983960418345, 19.303292037770092, -99.15983960418345, 19.303292037770092], &quot;geometry&quot;: {&quot;coordinates&quot;: [-99.15983960418345, 19.303292037770092], &quot;type&quot;: &quot;Point&quot;}, &quot;id&quot;: &quot;23&quot;, &quot;properties&quot;: {&quot;Costo&quot;: 0.0, &quot;Latitude&quot;: 19.303292037770092, &quot;Longitude&quot;: -99.15983960418345, &quot;Tiempo&quot;: &quot;08:59&quot;, &quot;Tipo Transporte&quot;: &quot;CAMION&quot;, &quot;loc&quot;: {&quot;coordinates&quot;: [-99.15983960418345, 19.303292037770092], &quot;type&quot;: &quot;Point&quot;}}, &quot;type&quot;: &quot;Feature&quot;}, {&quot;bbox&quot;: [-99.15809080406581, 19.302340220918882, -99.15809080406581, 19.302340220918882], &quot;geometry&quot;: {&quot;coordinates&quot;: [-99.15809080406581, 19.302340220918882], &quot;type&quot;: &quot;Point&quot;}, &quot;id&quot;: &quot;24&quot;, &quot;properties&quot;: {&quot;Costo&quot;: 0.0, &quot;Latitude&quot;: 19.302340220918882, &quot;Longitude&quot;: -99.15809080406581, &quot;Tiempo&quot;: &quot;09:03&quot;, &quot;Tipo Transporte&quot;: &quot;CAMION&quot;, &quot;loc&quot;: {&quot;coordinates&quot;: [-99.15809080406581, 19.302340220918882], &quot;type&quot;: &quot;Point&quot;}}, &quot;type&quot;: &quot;Feature&quot;}, {&quot;bbox&quot;: [-99.15795535252295, 19.30242818826706, -99.15795535252295, 19.30242818826706], &quot;geometry&quot;: {&quot;coordinates&quot;: [-99.15795535252295, 19.30242818826706], &quot;type&quot;: &quot;Point&quot;}, &quot;id&quot;: &quot;25&quot;, &quot;properties&quot;: {&quot;Costo&quot;: 0.0, &quot;Latitude&quot;: 19.30242818826706, &quot;Longitude&quot;: -99.15795535252295, &quot;Tiempo&quot;: &quot;09:07&quot;, &quot;Tipo Transporte&quot;: &quot;CAMION&quot;, &quot;loc&quot;: {&quot;coordinates&quot;: [-99.15795535252295, 19.30242818826706], &quot;type&quot;: &quot;Point&quot;}}, &quot;type&quot;: &quot;Feature&quot;}, {&quot;bbox&quot;: [-99.16088633667069, 19.305281722202317, -99.16088633667069, 19.305281722202317], &quot;geometry&quot;: {&quot;coordinates&quot;: [-99.16088633667069, 19.305281722202317], &quot;type&quot;: &quot;Point&quot;}, &quot;id&quot;: &quot;26&quot;, &quot;properties&quot;: {&quot;Costo&quot;: 0.0, &quot;Latitude&quot;: 19.305281722202317, &quot;Longitude&quot;: -99.16088633667069, &quot;Tiempo&quot;: &quot;09:10&quot;, &quot;Tipo Transporte&quot;: &quot;CAMION&quot;, &quot;loc&quot;: {&quot;coordinates&quot;: [-99.16088633667069, 19.305281722202317], &quot;type&quot;: &quot;Point&quot;}}, &quot;type&quot;: &quot;Feature&quot;}, {&quot;bbox&quot;: [-99.16098289619842, 19.30804344501267, -99.16098289619842, 19.30804344501267], &quot;geometry&quot;: {&quot;coordinates&quot;: [-99.16098289619842, 19.30804344501267], &quot;type&quot;: &quot;Point&quot;}, &quot;id&quot;: &quot;27&quot;, &quot;properties&quot;: {&quot;Costo&quot;: 0.0, &quot;Latitude&quot;: 19.30804344501267, &quot;Longitude&quot;: -99.16098289619842, &quot;Tiempo&quot;: &quot;09:15&quot;, &quot;Tipo Transporte&quot;: &quot;CAMINAR&quot;, &quot;loc&quot;: {&quot;coordinates&quot;: [-99.16098289619842, 19.30804344501267], &quot;type&quot;: &quot;Point&quot;}}, &quot;type&quot;: &quot;Feature&quot;}, {&quot;bbox&quot;: [-99.16073613299064, 19.308987634714825, -99.16073613299064, 19.308987634714825], &quot;geometry&quot;: {&quot;coordinates&quot;: [-99.16073613299064, 19.308987634714825], &quot;type&quot;: &quot;Point&quot;}, &quot;id&quot;: &quot;28&quot;, &quot;properties&quot;: {&quot;Costo&quot;: 0.0, &quot;Latitude&quot;: 19.308987634714825, &quot;Longitude&quot;: -99.16073613299064, &quot;Tiempo&quot;: &quot;09:18&quot;, &quot;Tipo Transporte&quot;: &quot;CAMINAR&quot;, &quot;loc&quot;: {&quot;coordinates&quot;: [-99.16073613299064, 19.308987634714825], &quot;type&quot;: &quot;Point&quot;}}, &quot;type&quot;: &quot;Feature&quot;}, {&quot;bbox&quot;: [-99.15997706790888, 19.308820566699055, -99.15997706790888, 19.308820566699055], &quot;geometry&quot;: {&quot;coordinates&quot;: [-99.15997706790888, 19.308820566699055], &quot;type&quot;: &quot;Point&quot;}, &quot;id&quot;: &quot;29&quot;, &quot;properties&quot;: {&quot;Costo&quot;: 0.0, &quot;Latitude&quot;: 19.308820566699055, &quot;Longitude&quot;: -99.15997706790888, &quot;Tiempo&quot;: &quot;09:22&quot;, &quot;Tipo Transporte&quot;: &quot;CAMINAR&quot;, &quot;loc&quot;: {&quot;coordinates&quot;: [-99.15997706790888, 19.308820566699055], &quot;type&quot;: &quot;Point&quot;}}, &quot;type&quot;: &quot;Feature&quot;}], &quot;type&quot;: &quot;FeatureCollection&quot;});\n\n        \n    \n    geo_json_1de77f8ee04b9bfbdd9752ddf1f76d49.bindTooltip(\n    function(layer){\n    let div = L.DomUtil.create(&#x27;div&#x27;);\n    \n    let handleObject = feature=&gt;typeof(feature)==&#x27;object&#x27; ? JSON.stringify(feature) : feature;\n    let fields = [&quot;Tipo Transporte&quot;, &quot;Tiempo&quot;, &quot;Costo&quot;, &quot;Latitude&quot;, &quot;Longitude&quot;, &quot;loc&quot;];\n    let aliases = [&quot;Tipo Transporte&quot;, &quot;Tiempo&quot;, &quot;Costo&quot;, &quot;Latitude&quot;, &quot;Longitude&quot;, &quot;loc&quot;];\n    let table = &#x27;&lt;table&gt;&#x27; +\n        String(\n        fields.map(\n        (v,i)=&gt;\n        `&lt;tr&gt;\n            &lt;th&gt;${aliases[i]}&lt;/th&gt;\n            \n            &lt;td&gt;${handleObject(layer.feature.properties[v])}&lt;/td&gt;\n        &lt;/tr&gt;`).join(&#x27;&#x27;))\n    +&#x27;&lt;/table&gt;&#x27;;\n    div.innerHTML=table;\n    \n    return div\n    }\n    ,{&quot;className&quot;: &quot;foliumtooltip&quot;, &quot;sticky&quot;: true});\n                     \n&lt;/script&gt;\" style=\"position:absolute;width:100%;height:100%;left:0;top:0;border:none !important;\" allowfullscreen webkitallowfullscreen mozallowfullscreen></iframe></div></div>"
     },
     "execution_count": 16,
     "metadata": {},
     "output_type": "execute_result"
    }
   ],
   "source": [
    "m = gdf.explore(tiles=\"CartoDB positron\")\n",
    "\n",
    "m"
   ],
   "metadata": {
    "collapsed": false,
    "pycharm": {
     "name": "#%%\n"
    }
   }
  },
  {
   "cell_type": "code",
   "execution_count": 17,
   "outputs": [],
   "source": [
    "points = gdf[['Longitude', 'Latitude']].values.tolist()\n"
   ],
   "metadata": {
    "collapsed": false,
    "pycharm": {
     "name": "#%%\n"
    }
   }
  },
  {
   "cell_type": "code",
   "execution_count": 18,
   "outputs": [],
   "source": [
    "from numpy import sin, cos, arccos, pi, round\n",
    "\n",
    "x = points[0]\n",
    "y = points[1]\n",
    "\n",
    "def rad2deg(radians):\n",
    "    degrees = radians * 180 / pi\n",
    "    return degrees\n",
    "\n",
    "def deg2rad(degrees):\n",
    "    radians = degrees * pi / 180\n",
    "    return radians\n",
    "\n",
    "def getDistanceBetweenPointsNew(latitude1, longitude1, latitude2, longitude2, unit = 'miles'):\n",
    "\n",
    "    theta = longitude1 - longitude2\n",
    "\n",
    "    distance = 60 * 1.1515 * rad2deg(\n",
    "        arccos(\n",
    "            (sin(deg2rad(latitude1)) * sin(deg2rad(latitude2))) +\n",
    "            (cos(deg2rad(latitude1)) * cos(deg2rad(latitude2)) * cos(deg2rad(theta)))\n",
    "        )\n",
    "    )\n",
    "\n",
    "    if unit == 'miles':\n",
    "        return round(distance, 2)\n",
    "    if unit == 'kilometers':\n",
    "        return round(distance * 1.609344, 3)\n"
   ],
   "metadata": {
    "collapsed": false,
    "pycharm": {
     "name": "#%%\n"
    }
   }
  },
  {
   "cell_type": "code",
   "execution_count": null,
   "outputs": [],
   "source": [
    "distances = []\n",
    "for i in range(0, len(points)):\n",
    "    k = i + 1\n",
    "    if k == len(points):\n",
    "        print(\"Se acabo\")\n",
    "    else:\n",
    "        x = points[i]\n",
    "        x2 = points[k]\n",
    "        distances.append(getDistanceBetweenPointsNew(x[0], x[1], x2[0], x2[1], 'kilometers') * 1000)\n",
    "        # print(\"[{0}] vs [{1}]\".format(points[i], points[k]))\n",
    "\n",
    "distances\n",
    "df_distances = pd.DataFrame(distances, columns=['Distancias'])\n",
    "df_distances"
   ],
   "metadata": {
    "collapsed": false,
    "pycharm": {
     "name": "#%%\n"
    }
   }
  },
  {
   "cell_type": "code",
   "execution_count": 20,
   "outputs": [
    {
     "data": {
      "text/plain": "<folium.folium.Map at 0x279826beaa0>",
      "text/html": "<div style=\"width:100%;\"><div style=\"position:relative;width:100%;height:0;padding-bottom:60%;\"><span style=\"color:#565656\">Make this Notebook Trusted to load map: File -> Trust Notebook</span><iframe srcdoc=\"&lt;!DOCTYPE html&gt;\n&lt;head&gt;    \n    &lt;meta http-equiv=&quot;content-type&quot; content=&quot;text/html; charset=UTF-8&quot; /&gt;\n    \n        &lt;script&gt;\n            L_NO_TOUCH = false;\n            L_DISABLE_3D = false;\n        &lt;/script&gt;\n    \n    &lt;style&gt;html, body {width: 100%;height: 100%;margin: 0;padding: 0;}&lt;/style&gt;\n    &lt;style&gt;#map {position:absolute;top:0;bottom:0;right:0;left:0;}&lt;/style&gt;\n    &lt;script src=&quot;https://cdn.jsdelivr.net/npm/leaflet@1.6.0/dist/leaflet.js&quot;&gt;&lt;/script&gt;\n    &lt;script src=&quot;https://code.jquery.com/jquery-1.12.4.min.js&quot;&gt;&lt;/script&gt;\n    &lt;script src=&quot;https://maxcdn.bootstrapcdn.com/bootstrap/3.2.0/js/bootstrap.min.js&quot;&gt;&lt;/script&gt;\n    &lt;script src=&quot;https://cdnjs.cloudflare.com/ajax/libs/Leaflet.awesome-markers/2.0.2/leaflet.awesome-markers.js&quot;&gt;&lt;/script&gt;\n    &lt;link rel=&quot;stylesheet&quot; href=&quot;https://cdn.jsdelivr.net/npm/leaflet@1.6.0/dist/leaflet.css&quot;/&gt;\n    &lt;link rel=&quot;stylesheet&quot; href=&quot;https://maxcdn.bootstrapcdn.com/bootstrap/3.2.0/css/bootstrap.min.css&quot;/&gt;\n    &lt;link rel=&quot;stylesheet&quot; href=&quot;https://maxcdn.bootstrapcdn.com/bootstrap/3.2.0/css/bootstrap-theme.min.css&quot;/&gt;\n    &lt;link rel=&quot;stylesheet&quot; href=&quot;https://maxcdn.bootstrapcdn.com/font-awesome/4.6.3/css/font-awesome.min.css&quot;/&gt;\n    &lt;link rel=&quot;stylesheet&quot; href=&quot;https://cdnjs.cloudflare.com/ajax/libs/Leaflet.awesome-markers/2.0.2/leaflet.awesome-markers.css&quot;/&gt;\n    &lt;link rel=&quot;stylesheet&quot; href=&quot;https://cdn.jsdelivr.net/gh/python-visualization/folium/folium/templates/leaflet.awesome.rotate.min.css&quot;/&gt;\n    \n            &lt;meta name=&quot;viewport&quot; content=&quot;width=device-width,\n                initial-scale=1.0, maximum-scale=1.0, user-scalable=no&quot; /&gt;\n            &lt;style&gt;\n                #map_d6f6f2cb0a296a955e23300bb86e1d69 {\n                    position: relative;\n                    width: 100.0%;\n                    height: 100.0%;\n                    left: 0.0%;\n                    top: 0.0%;\n                }\n            &lt;/style&gt;\n        \n    \n                    &lt;style&gt;\n                        .foliumtooltip {\n                            \n                        }\n                       .foliumtooltip table{\n                            margin: auto;\n                        }\n                        .foliumtooltip tr{\n                            text-align: left;\n                        }\n                        .foliumtooltip th{\n                            padding: 2px; padding-right: 8px;\n                        }\n                    &lt;/style&gt;\n            \n&lt;/head&gt;\n&lt;body&gt;    \n    \n            &lt;div class=&quot;folium-map&quot; id=&quot;map_d6f6f2cb0a296a955e23300bb86e1d69&quot; &gt;&lt;/div&gt;\n        \n&lt;/body&gt;\n&lt;script&gt;    \n    \n            var map_d6f6f2cb0a296a955e23300bb86e1d69 = L.map(\n                &quot;map_d6f6f2cb0a296a955e23300bb86e1d69&quot;,\n                {\n                    center: [19.3316259637757, -99.167557595944],\n                    crs: L.CRS.EPSG3857,\n                    zoom: 10,\n                    zoomControl: true,\n                    preferCanvas: false,\n                }\n            );\n            L.control.scale().addTo(map_d6f6f2cb0a296a955e23300bb86e1d69);\n\n            \n\n        \n    \n            var tile_layer_53a19d58de71cb44a3b37d60a93120a9 = L.tileLayer(\n                &quot;https://a.basemaps.cartocdn.com/light_all/{z}/{x}/{y}{r}.png&quot;,\n                {&quot;attribution&quot;: &quot;\\u0026copy; \\u003ca href=\\&quot;https://www.openstreetmap.org/copyright\\&quot;\\u003eOpenStreetMap\\u003c/a\\u003e contributors \\u0026copy; \\u003ca href=\\&quot;https://carto.com/attributions\\&quot;\\u003eCARTO\\u003c/a\\u003e&quot;, &quot;detectRetina&quot;: false, &quot;maxNativeZoom&quot;: 20, &quot;maxZoom&quot;: 20, &quot;minZoom&quot;: 0, &quot;noWrap&quot;: false, &quot;opacity&quot;: 1, &quot;subdomains&quot;: &quot;abc&quot;, &quot;tms&quot;: false}\n            ).addTo(map_d6f6f2cb0a296a955e23300bb86e1d69);\n        \n    \n            map_d6f6f2cb0a296a955e23300bb86e1d69.fitBounds(\n                [[19.27947360377738, -99.19071438138118], [19.38377832377402, -99.14440081050682]],\n                {}\n            );\n        \n    \n        function geo_json_504a7b40b939aae39d46e3754eec2abb_styler(feature) {\n            switch(feature.id) {\n                default:\n                    return {&quot;fillOpacity&quot;: 0.5, &quot;weight&quot;: 2};\n            }\n        }\n        function geo_json_504a7b40b939aae39d46e3754eec2abb_highlighter(feature) {\n            switch(feature.id) {\n                default:\n                    return {&quot;fillOpacity&quot;: 0.75};\n            }\n        }\n        function geo_json_504a7b40b939aae39d46e3754eec2abb_pointToLayer(feature, latlng) {\n            var opts = {&quot;bubblingMouseEvents&quot;: true, &quot;color&quot;: &quot;#3388ff&quot;, &quot;dashArray&quot;: null, &quot;dashOffset&quot;: null, &quot;fill&quot;: true, &quot;fillColor&quot;: &quot;#3388ff&quot;, &quot;fillOpacity&quot;: 0.2, &quot;fillRule&quot;: &quot;evenodd&quot;, &quot;lineCap&quot;: &quot;round&quot;, &quot;lineJoin&quot;: &quot;round&quot;, &quot;opacity&quot;: 1.0, &quot;radius&quot;: 2, &quot;stroke&quot;: true, &quot;weight&quot;: 3};\n            \n            let style = geo_json_504a7b40b939aae39d46e3754eec2abb_styler(feature)\n            Object.assign(opts, style)\n            \n            return new L.CircleMarker(latlng, opts)\n        }\n\n        function geo_json_504a7b40b939aae39d46e3754eec2abb_onEachFeature(feature, layer) {\n            layer.on({\n                mouseout: function(e) {\n                    if(typeof e.target.setStyle === &quot;function&quot;){\n                        geo_json_504a7b40b939aae39d46e3754eec2abb.resetStyle(e.target);\n                    }\n                },\n                mouseover: function(e) {\n                    if(typeof e.target.setStyle === &quot;function&quot;){\n                        const highlightStyle = geo_json_504a7b40b939aae39d46e3754eec2abb_highlighter(e.target.feature)\n                        e.target.setStyle(highlightStyle);\n                    }\n                },\n            });\n        };\n        var geo_json_504a7b40b939aae39d46e3754eec2abb = L.geoJson(null, {\n                onEachFeature: geo_json_504a7b40b939aae39d46e3754eec2abb_onEachFeature,\n            \n                style: geo_json_504a7b40b939aae39d46e3754eec2abb_styler,\n                pointToLayer: geo_json_504a7b40b939aae39d46e3754eec2abb_pointToLayer\n        });\n\n        function geo_json_504a7b40b939aae39d46e3754eec2abb_add (data) {\n            geo_json_504a7b40b939aae39d46e3754eec2abb\n                .addData(data)\n                .addTo(map_d6f6f2cb0a296a955e23300bb86e1d69);\n        }\n            geo_json_504a7b40b939aae39d46e3754eec2abb_add({&quot;bbox&quot;: [-99.19071438138118, 19.27947360377738, -99.14440081050682, 19.38377832377402], &quot;features&quot;: [{&quot;bbox&quot;: [-99.1906271466764, 19.383082625228962, -99.1906271466764, 19.383082625228962], &quot;geometry&quot;: {&quot;coordinates&quot;: [-99.1906271466764, 19.383082625228962], &quot;type&quot;: &quot;Point&quot;}, &quot;id&quot;: &quot;0&quot;, &quot;properties&quot;: {&quot;Costo&quot;: 0.0, &quot;Latitude&quot;: 19.383082625228962, &quot;Longitude&quot;: -99.1906271466764, &quot;Tiempo&quot;: &quot;05:30&quot;, &quot;Tipo Transporte&quot;: &quot;CAMINAR&quot;, &quot;loc&quot;: {&quot;coordinates&quot;: [-99.1906271466764, 19.383082625228962], &quot;type&quot;: &quot;Point&quot;}}, &quot;type&quot;: &quot;Feature&quot;}, {&quot;bbox&quot;: [-99.19071438138118, 19.38367013560702, -99.19071438138118, 19.38367013560702], &quot;geometry&quot;: {&quot;coordinates&quot;: [-99.19071438138118, 19.38367013560702], &quot;type&quot;: &quot;Point&quot;}, &quot;id&quot;: &quot;1&quot;, &quot;properties&quot;: {&quot;Costo&quot;: 0.0, &quot;Latitude&quot;: 19.38367013560702, &quot;Longitude&quot;: -99.19071438138118, &quot;Tiempo&quot;: &quot;05:33&quot;, &quot;Tipo Transporte&quot;: &quot;CAMINAR&quot;, &quot;loc&quot;: {&quot;coordinates&quot;: [-99.19071438138118, 19.38367013560702], &quot;type&quot;: &quot;Point&quot;}}, &quot;type&quot;: &quot;Feature&quot;}, {&quot;bbox&quot;: [-99.18416246474426, 19.382961076037986, -99.18416246474426, 19.382961076037986], &quot;geometry&quot;: {&quot;coordinates&quot;: [-99.18416246474426, 19.382961076037986], &quot;type&quot;: &quot;Point&quot;}, &quot;id&quot;: &quot;2&quot;, &quot;properties&quot;: {&quot;Costo&quot;: 0.0, &quot;Latitude&quot;: 19.382961076037986, &quot;Longitude&quot;: -99.18416246474426, &quot;Tiempo&quot;: &quot;05:40&quot;, &quot;Tipo Transporte&quot;: &quot;CAMINAR&quot;, &quot;loc&quot;: {&quot;coordinates&quot;: [-99.18416246474426, 19.382961076037986], &quot;type&quot;: &quot;Point&quot;}}, &quot;type&quot;: &quot;Feature&quot;}, {&quot;bbox&quot;: [-99.18375208678239, 19.38377832377402, -99.18375208678239, 19.38377832377402], &quot;geometry&quot;: {&quot;coordinates&quot;: [-99.18375208678239, 19.38377832377402], &quot;type&quot;: &quot;Point&quot;}, &quot;id&quot;: &quot;3&quot;, &quot;properties&quot;: {&quot;Costo&quot;: 0.0, &quot;Latitude&quot;: 19.38377832377402, &quot;Longitude&quot;: -99.18375208678239, &quot;Tiempo&quot;: &quot;05:43&quot;, &quot;Tipo Transporte&quot;: &quot;CAMINAR&quot;, &quot;loc&quot;: {&quot;coordinates&quot;: [-99.18375208678239, 19.38377832377402], &quot;type&quot;: &quot;Point&quot;}}, &quot;type&quot;: &quot;Feature&quot;}, {&quot;bbox&quot;: [-99.18137564967644, 19.382705527130742, -99.18137564967644, 19.382705527130742], &quot;geometry&quot;: {&quot;coordinates&quot;: [-99.18137564967644, 19.382705527130742], &quot;type&quot;: &quot;Point&quot;}, &quot;id&quot;: &quot;4&quot;, &quot;properties&quot;: {&quot;Costo&quot;: 0.0, &quot;Latitude&quot;: 19.382705527130742, &quot;Longitude&quot;: -99.18137564967644, &quot;Tiempo&quot;: &quot;05:48&quot;, &quot;Tipo Transporte&quot;: &quot;CAMINAR&quot;, &quot;loc&quot;: {&quot;coordinates&quot;: [-99.18137564967644, 19.382705527130742], &quot;type&quot;: &quot;Point&quot;}}, &quot;type&quot;: &quot;Feature&quot;}, {&quot;bbox&quot;: [-99.1794927391155, 19.3816681463057, -99.1794927391155, 19.3816681463057], &quot;geometry&quot;: {&quot;coordinates&quot;: [-99.1794927391155, 19.3816681463057], &quot;type&quot;: &quot;Point&quot;}, &quot;id&quot;: &quot;5&quot;, &quot;properties&quot;: {&quot;Costo&quot;: 0.0, &quot;Latitude&quot;: 19.3816681463057, &quot;Longitude&quot;: -99.1794927391155, &quot;Tiempo&quot;: &quot;05:52&quot;, &quot;Tipo Transporte&quot;: &quot;CAMINAR&quot;, &quot;loc&quot;: {&quot;coordinates&quot;: [-99.1794927391155, 19.3816681463057], &quot;type&quot;: &quot;Point&quot;}}, &quot;type&quot;: &quot;Feature&quot;}, {&quot;bbox&quot;: [-99.17617752875515, 19.382839627094555, -99.17617752875515, 19.382839627094555], &quot;geometry&quot;: {&quot;coordinates&quot;: [-99.17617752875515, 19.382839627094555], &quot;type&quot;: &quot;Point&quot;}, &quot;id&quot;: &quot;6&quot;, &quot;properties&quot;: {&quot;Costo&quot;: 0.0, &quot;Latitude&quot;: 19.382839627094555, &quot;Longitude&quot;: -99.17617752875515, &quot;Tiempo&quot;: &quot;06:00&quot;, &quot;Tipo Transporte&quot;: &quot;CAMINAR&quot;, &quot;loc&quot;: {&quot;coordinates&quot;: [-99.17617752875515, 19.382839627094555], &quot;type&quot;: &quot;Point&quot;}}, &quot;type&quot;: &quot;Feature&quot;}, {&quot;bbox&quot;: [-99.17615338887623, 19.38250058168496, -99.17615338887623, 19.38250058168496], &quot;geometry&quot;: {&quot;coordinates&quot;: [-99.17615338887623, 19.38250058168496], &quot;type&quot;: &quot;Point&quot;}, &quot;id&quot;: &quot;7&quot;, &quot;properties&quot;: {&quot;Costo&quot;: 6.0, &quot;Latitude&quot;: 19.38250058168496, &quot;Longitude&quot;: -99.17615338887623, &quot;Tiempo&quot;: &quot;06:15&quot;, &quot;Tipo Transporte&quot;: &quot;METROBUS&quot;, &quot;loc&quot;: {&quot;coordinates&quot;: [-99.17615338887623, 19.38250058168496], &quot;type&quot;: &quot;Point&quot;}}, &quot;type&quot;: &quot;Feature&quot;}, {&quot;bbox&quot;: [-99.19045862470468, 19.33979501073667, -99.19045862470468, 19.33979501073667], &quot;geometry&quot;: {&quot;coordinates&quot;: [-99.19045862470468, 19.33979501073667], &quot;type&quot;: &quot;Point&quot;}, &quot;id&quot;: &quot;8&quot;, &quot;properties&quot;: {&quot;Costo&quot;: 0.0, &quot;Latitude&quot;: 19.33979501073667, &quot;Longitude&quot;: -99.19045862470468, &quot;Tiempo&quot;: &quot;07:25&quot;, &quot;Tipo Transporte&quot;: &quot;METROBUS&quot;, &quot;loc&quot;: {&quot;coordinates&quot;: [-99.19045862470468, 19.33979501073667], &quot;type&quot;: &quot;Point&quot;}}, &quot;type&quot;: &quot;Feature&quot;}, {&quot;bbox&quot;: [-99.18500837633597, 19.29577244917112, -99.18500837633597, 19.29577244917112], &quot;geometry&quot;: {&quot;coordinates&quot;: [-99.18500837633597, 19.29577244917112], &quot;type&quot;: &quot;Point&quot;}, &quot;id&quot;: &quot;9&quot;, &quot;properties&quot;: {&quot;Costo&quot;: 0.0, &quot;Latitude&quot;: 19.29577244917112, &quot;Longitude&quot;: -99.18500837633597, &quot;Tiempo&quot;: &quot;07:45&quot;, &quot;Tipo Transporte&quot;: &quot;METROBUS&quot;, &quot;loc&quot;: {&quot;coordinates&quot;: [-99.18500837633597, 19.29577244917112], &quot;type&quot;: &quot;Point&quot;}}, &quot;type&quot;: &quot;Feature&quot;}, {&quot;bbox&quot;: [-99.17370018345714, 19.29071942361733, -99.17370018345714, 19.29071942361733], &quot;geometry&quot;: {&quot;coordinates&quot;: [-99.17370018345714, 19.29071942361733], &quot;type&quot;: &quot;Point&quot;}, &quot;id&quot;: &quot;10&quot;, &quot;properties&quot;: {&quot;Costo&quot;: 0.0, &quot;Latitude&quot;: 19.29071942361733, &quot;Longitude&quot;: -99.17370018345714, &quot;Tiempo&quot;: &quot;07:58&quot;, &quot;Tipo Transporte&quot;: &quot;METROBUS&quot;, &quot;loc&quot;: {&quot;coordinates&quot;: [-99.17370018345714, 19.29071942361733], &quot;type&quot;: &quot;Point&quot;}}, &quot;type&quot;: &quot;Feature&quot;}, {&quot;bbox&quot;: [-99.17584595047266, 19.28463330819647, -99.17584595047266, 19.28463330819647], &quot;geometry&quot;: {&quot;coordinates&quot;: [-99.17584595047266, 19.28463330819647], &quot;type&quot;: &quot;Point&quot;}, &quot;id&quot;: &quot;11&quot;, &quot;properties&quot;: {&quot;Costo&quot;: 0.0, &quot;Latitude&quot;: 19.28463330819647, &quot;Longitude&quot;: -99.17584595047266, &quot;Tiempo&quot;: &quot;08:05&quot;, &quot;Tipo Transporte&quot;: &quot;METROBUS&quot;, &quot;loc&quot;: {&quot;coordinates&quot;: [-99.17584595047266, 19.28463330819647], &quot;type&quot;: &quot;Point&quot;}}, &quot;type&quot;: &quot;Feature&quot;}, {&quot;bbox&quot;: [-99.17499837220686, 19.28268894403653, -99.17499837220686, 19.28268894403653], &quot;geometry&quot;: {&quot;coordinates&quot;: [-99.17499837220686, 19.28268894403653], &quot;type&quot;: &quot;Point&quot;}, &quot;id&quot;: &quot;12&quot;, &quot;properties&quot;: {&quot;Costo&quot;: 0.0, &quot;Latitude&quot;: 19.28268894403653, &quot;Longitude&quot;: -99.17499837220686, &quot;Tiempo&quot;: &quot;08:15&quot;, &quot;Tipo Transporte&quot;: &quot;METROBUS&quot;, &quot;loc&quot;: {&quot;coordinates&quot;: [-99.17499837220686, 19.28268894403653], &quot;type&quot;: &quot;Point&quot;}}, &quot;type&quot;: &quot;Feature&quot;}, {&quot;bbox&quot;: [-99.17006310807118, 19.280339473298586, -99.17006310807118, 19.280339473298586], &quot;geometry&quot;: {&quot;coordinates&quot;: [-99.17006310807118, 19.280339473298586], &quot;type&quot;: &quot;Point&quot;}, &quot;id&quot;: &quot;13&quot;, &quot;properties&quot;: {&quot;Costo&quot;: 0.0, &quot;Latitude&quot;: 19.280339473298586, &quot;Longitude&quot;: -99.17006310807118, &quot;Tiempo&quot;: &quot;08:25&quot;, &quot;Tipo Transporte&quot;: &quot;METROBUS&quot;, &quot;loc&quot;: {&quot;coordinates&quot;: [-99.17006310807118, 19.280339473298586], &quot;type&quot;: &quot;Point&quot;}}, &quot;type&quot;: &quot;Feature&quot;}, {&quot;bbox&quot;: [-99.16795757381107, 19.27947360377738, -99.16795757381107, 19.27947360377738], &quot;geometry&quot;: {&quot;coordinates&quot;: [-99.16795757381107, 19.27947360377738], &quot;type&quot;: &quot;Point&quot;}, &quot;id&quot;: &quot;14&quot;, &quot;properties&quot;: {&quot;Costo&quot;: 0.0, &quot;Latitude&quot;: 19.27947360377738, &quot;Longitude&quot;: -99.16795757381107, &quot;Tiempo&quot;: &quot;08:29&quot;, &quot;Tipo Transporte&quot;: &quot;CAMINAR&quot;, &quot;loc&quot;: {&quot;coordinates&quot;: [-99.16795757381107, 19.27947360377738], &quot;type&quot;: &quot;Point&quot;}}, &quot;type&quot;: &quot;Feature&quot;}, {&quot;bbox&quot;: [-99.16673180433538, 19.279612219151442, -99.16673180433538, 19.279612219151442], &quot;geometry&quot;: {&quot;coordinates&quot;: [-99.16673180433538, 19.279612219151442], &quot;type&quot;: &quot;Point&quot;}, &quot;id&quot;: &quot;15&quot;, &quot;properties&quot;: {&quot;Costo&quot;: 0.0, &quot;Latitude&quot;: 19.279612219151442, &quot;Longitude&quot;: -99.16673180433538, &quot;Tiempo&quot;: &quot;08:31&quot;, &quot;Tipo Transporte&quot;: &quot;CAMINAR, TOMA CAMION&quot;, &quot;loc&quot;: {&quot;coordinates&quot;: [-99.16673180433538, 19.279612219151442], &quot;type&quot;: &quot;Point&quot;}}, &quot;type&quot;: &quot;Feature&quot;}, {&quot;bbox&quot;: [-99.16221067774308, 19.29011799530174, -99.16221067774308, 19.29011799530174], &quot;geometry&quot;: {&quot;coordinates&quot;: [-99.16221067774308, 19.29011799530174], &quot;type&quot;: &quot;Point&quot;}, &quot;id&quot;: &quot;16&quot;, &quot;properties&quot;: {&quot;Costo&quot;: 7.5, &quot;Latitude&quot;: 19.29011799530174, &quot;Longitude&quot;: -99.16221067774308, &quot;Tiempo&quot;: &quot;08:35&quot;, &quot;Tipo Transporte&quot;: &quot;CAMION&quot;, &quot;loc&quot;: {&quot;coordinates&quot;: [-99.16221067774308, 19.29011799530174], &quot;type&quot;: &quot;Point&quot;}}, &quot;type&quot;: &quot;Feature&quot;}, {&quot;bbox&quot;: [-99.14440081050682, 19.304962766722397, -99.14440081050682, 19.304962766722397], &quot;geometry&quot;: {&quot;coordinates&quot;: [-99.14440081050682, 19.304962766722397], &quot;type&quot;: &quot;Point&quot;}, &quot;id&quot;: &quot;17&quot;, &quot;properties&quot;: {&quot;Costo&quot;: 0.0, &quot;Latitude&quot;: 19.304962766722397, &quot;Longitude&quot;: -99.14440081050682, &quot;Tiempo&quot;: &quot;08:40&quot;, &quot;Tipo Transporte&quot;: &quot;CAMION&quot;, &quot;loc&quot;: {&quot;coordinates&quot;: [-99.14440081050682, 19.304962766722397], &quot;type&quot;: &quot;Point&quot;}}, &quot;type&quot;: &quot;Feature&quot;}, {&quot;bbox&quot;: [-99.14475486206437, 19.305286784907125, -99.14475486206437, 19.305286784907125], &quot;geometry&quot;: {&quot;coordinates&quot;: [-99.14475486206437, 19.305286784907125], &quot;type&quot;: &quot;Point&quot;}, &quot;id&quot;: &quot;18&quot;, &quot;properties&quot;: {&quot;Costo&quot;: 0.0, &quot;Latitude&quot;: 19.305286784907125, &quot;Longitude&quot;: -99.14475486206437, &quot;Tiempo&quot;: &quot;08:45&quot;, &quot;Tipo Transporte&quot;: &quot;CAMION&quot;, &quot;loc&quot;: {&quot;coordinates&quot;: [-99.14475486206437, 19.305286784907125], &quot;type&quot;: &quot;Point&quot;}}, &quot;type&quot;: &quot;Feature&quot;}, {&quot;bbox&quot;: [-99.15205046991713, 19.297955716470298, -99.15205046991713, 19.297955716470298], &quot;geometry&quot;: {&quot;coordinates&quot;: [-99.15205046991713, 19.297955716470298], &quot;type&quot;: &quot;Point&quot;}, &quot;id&quot;: &quot;19&quot;, &quot;properties&quot;: {&quot;Costo&quot;: 0.0, &quot;Latitude&quot;: 19.297955716470298, &quot;Longitude&quot;: -99.15205046991713, &quot;Tiempo&quot;: &quot;08:49&quot;, &quot;Tipo Transporte&quot;: &quot;CAMION&quot;, &quot;loc&quot;: {&quot;coordinates&quot;: [-99.15205046991713, 19.297955716470298], &quot;type&quot;: &quot;Point&quot;}}, &quot;type&quot;: &quot;Feature&quot;}, {&quot;bbox&quot;: [-99.15646002113401, 19.29700386857389, -99.15646002113401, 19.29700386857389], &quot;geometry&quot;: {&quot;coordinates&quot;: [-99.15646002113401, 19.29700386857389], &quot;type&quot;: &quot;Point&quot;}, &quot;id&quot;: &quot;20&quot;, &quot;properties&quot;: {&quot;Costo&quot;: 0.0, &quot;Latitude&quot;: 19.29700386857389, &quot;Longitude&quot;: -99.15646002113401, &quot;Tiempo&quot;: &quot;08:53&quot;, &quot;Tipo Transporte&quot;: &quot;CAMION&quot;, &quot;loc&quot;: {&quot;coordinates&quot;: [-99.15646002113401, 19.29700386857389], &quot;type&quot;: &quot;Point&quot;}}, &quot;type&quot;: &quot;Feature&quot;}, {&quot;bbox&quot;: [-99.16091248769119, 19.30130739211318, -99.16091248769119, 19.30130739211318], &quot;geometry&quot;: {&quot;coordinates&quot;: [-99.16091248769119, 19.30130739211318], &quot;type&quot;: &quot;Point&quot;}, &quot;id&quot;: &quot;21&quot;, &quot;properties&quot;: {&quot;Costo&quot;: 0.0, &quot;Latitude&quot;: 19.30130739211318, &quot;Longitude&quot;: -99.16091248769119, &quot;Tiempo&quot;: &quot;08:55&quot;, &quot;Tipo Transporte&quot;: &quot;CAMION&quot;, &quot;loc&quot;: {&quot;coordinates&quot;: [-99.16091248769119, 19.30130739211318], &quot;type&quot;: &quot;Point&quot;}}, &quot;type&quot;: &quot;Feature&quot;}, {&quot;bbox&quot;: [-99.16109487788752, 19.302249089227733, -99.16109487788752, 19.302249089227733], &quot;geometry&quot;: {&quot;coordinates&quot;: [-99.16109487788752, 19.302249089227733], &quot;type&quot;: &quot;Point&quot;}, &quot;id&quot;: &quot;22&quot;, &quot;properties&quot;: {&quot;Costo&quot;: 0.0, &quot;Latitude&quot;: 19.302249089227733, &quot;Longitude&quot;: -99.16109487788752, &quot;Tiempo&quot;: &quot;08:57&quot;, &quot;Tipo Transporte&quot;: &quot;CAMION&quot;, &quot;loc&quot;: {&quot;coordinates&quot;: [-99.16109487788752, 19.302249089227733], &quot;type&quot;: &quot;Point&quot;}}, &quot;type&quot;: &quot;Feature&quot;}, {&quot;bbox&quot;: [-99.15983960418345, 19.303292037770092, -99.15983960418345, 19.303292037770092], &quot;geometry&quot;: {&quot;coordinates&quot;: [-99.15983960418345, 19.303292037770092], &quot;type&quot;: &quot;Point&quot;}, &quot;id&quot;: &quot;23&quot;, &quot;properties&quot;: {&quot;Costo&quot;: 0.0, &quot;Latitude&quot;: 19.303292037770092, &quot;Longitude&quot;: -99.15983960418345, &quot;Tiempo&quot;: &quot;08:59&quot;, &quot;Tipo Transporte&quot;: &quot;CAMION&quot;, &quot;loc&quot;: {&quot;coordinates&quot;: [-99.15983960418345, 19.303292037770092], &quot;type&quot;: &quot;Point&quot;}}, &quot;type&quot;: &quot;Feature&quot;}, {&quot;bbox&quot;: [-99.15809080406581, 19.302340220918882, -99.15809080406581, 19.302340220918882], &quot;geometry&quot;: {&quot;coordinates&quot;: [-99.15809080406581, 19.302340220918882], &quot;type&quot;: &quot;Point&quot;}, &quot;id&quot;: &quot;24&quot;, &quot;properties&quot;: {&quot;Costo&quot;: 0.0, &quot;Latitude&quot;: 19.302340220918882, &quot;Longitude&quot;: -99.15809080406581, &quot;Tiempo&quot;: &quot;09:03&quot;, &quot;Tipo Transporte&quot;: &quot;CAMION&quot;, &quot;loc&quot;: {&quot;coordinates&quot;: [-99.15809080406581, 19.302340220918882], &quot;type&quot;: &quot;Point&quot;}}, &quot;type&quot;: &quot;Feature&quot;}, {&quot;bbox&quot;: [-99.15795535252295, 19.30242818826706, -99.15795535252295, 19.30242818826706], &quot;geometry&quot;: {&quot;coordinates&quot;: [-99.15795535252295, 19.30242818826706], &quot;type&quot;: &quot;Point&quot;}, &quot;id&quot;: &quot;25&quot;, &quot;properties&quot;: {&quot;Costo&quot;: 0.0, &quot;Latitude&quot;: 19.30242818826706, &quot;Longitude&quot;: -99.15795535252295, &quot;Tiempo&quot;: &quot;09:07&quot;, &quot;Tipo Transporte&quot;: &quot;CAMION&quot;, &quot;loc&quot;: {&quot;coordinates&quot;: [-99.15795535252295, 19.30242818826706], &quot;type&quot;: &quot;Point&quot;}}, &quot;type&quot;: &quot;Feature&quot;}, {&quot;bbox&quot;: [-99.16088633667069, 19.305281722202317, -99.16088633667069, 19.305281722202317], &quot;geometry&quot;: {&quot;coordinates&quot;: [-99.16088633667069, 19.305281722202317], &quot;type&quot;: &quot;Point&quot;}, &quot;id&quot;: &quot;26&quot;, &quot;properties&quot;: {&quot;Costo&quot;: 0.0, &quot;Latitude&quot;: 19.305281722202317, &quot;Longitude&quot;: -99.16088633667069, &quot;Tiempo&quot;: &quot;09:10&quot;, &quot;Tipo Transporte&quot;: &quot;CAMION&quot;, &quot;loc&quot;: {&quot;coordinates&quot;: [-99.16088633667069, 19.305281722202317], &quot;type&quot;: &quot;Point&quot;}}, &quot;type&quot;: &quot;Feature&quot;}, {&quot;bbox&quot;: [-99.16098289619842, 19.30804344501267, -99.16098289619842, 19.30804344501267], &quot;geometry&quot;: {&quot;coordinates&quot;: [-99.16098289619842, 19.30804344501267], &quot;type&quot;: &quot;Point&quot;}, &quot;id&quot;: &quot;27&quot;, &quot;properties&quot;: {&quot;Costo&quot;: 0.0, &quot;Latitude&quot;: 19.30804344501267, &quot;Longitude&quot;: -99.16098289619842, &quot;Tiempo&quot;: &quot;09:15&quot;, &quot;Tipo Transporte&quot;: &quot;CAMINAR&quot;, &quot;loc&quot;: {&quot;coordinates&quot;: [-99.16098289619842, 19.30804344501267], &quot;type&quot;: &quot;Point&quot;}}, &quot;type&quot;: &quot;Feature&quot;}, {&quot;bbox&quot;: [-99.16073613299064, 19.308987634714825, -99.16073613299064, 19.308987634714825], &quot;geometry&quot;: {&quot;coordinates&quot;: [-99.16073613299064, 19.308987634714825], &quot;type&quot;: &quot;Point&quot;}, &quot;id&quot;: &quot;28&quot;, &quot;properties&quot;: {&quot;Costo&quot;: 0.0, &quot;Latitude&quot;: 19.308987634714825, &quot;Longitude&quot;: -99.16073613299064, &quot;Tiempo&quot;: &quot;09:18&quot;, &quot;Tipo Transporte&quot;: &quot;CAMINAR&quot;, &quot;loc&quot;: {&quot;coordinates&quot;: [-99.16073613299064, 19.308987634714825], &quot;type&quot;: &quot;Point&quot;}}, &quot;type&quot;: &quot;Feature&quot;}, {&quot;bbox&quot;: [-99.15997706790888, 19.308820566699055, -99.15997706790888, 19.308820566699055], &quot;geometry&quot;: {&quot;coordinates&quot;: [-99.15997706790888, 19.308820566699055], &quot;type&quot;: &quot;Point&quot;}, &quot;id&quot;: &quot;29&quot;, &quot;properties&quot;: {&quot;Costo&quot;: 0.0, &quot;Latitude&quot;: 19.308820566699055, &quot;Longitude&quot;: -99.15997706790888, &quot;Tiempo&quot;: &quot;09:22&quot;, &quot;Tipo Transporte&quot;: &quot;CAMINAR&quot;, &quot;loc&quot;: {&quot;coordinates&quot;: [-99.15997706790888, 19.308820566699055], &quot;type&quot;: &quot;Point&quot;}}, &quot;type&quot;: &quot;Feature&quot;}], &quot;type&quot;: &quot;FeatureCollection&quot;});\n\n        \n    \n    geo_json_504a7b40b939aae39d46e3754eec2abb.bindTooltip(\n    function(layer){\n    let div = L.DomUtil.create(&#x27;div&#x27;);\n    \n    let handleObject = feature=&gt;typeof(feature)==&#x27;object&#x27; ? JSON.stringify(feature) : feature;\n    let fields = [&quot;Tipo Transporte&quot;, &quot;Tiempo&quot;, &quot;Costo&quot;, &quot;Latitude&quot;, &quot;Longitude&quot;, &quot;loc&quot;];\n    let aliases = [&quot;Tipo Transporte&quot;, &quot;Tiempo&quot;, &quot;Costo&quot;, &quot;Latitude&quot;, &quot;Longitude&quot;, &quot;loc&quot;];\n    let table = &#x27;&lt;table&gt;&#x27; +\n        String(\n        fields.map(\n        (v,i)=&gt;\n        `&lt;tr&gt;\n            &lt;th&gt;${aliases[i]}&lt;/th&gt;\n            \n            &lt;td&gt;${handleObject(layer.feature.properties[v])}&lt;/td&gt;\n        &lt;/tr&gt;`).join(&#x27;&#x27;))\n    +&#x27;&lt;/table&gt;&#x27;;\n    div.innerHTML=table;\n    \n    return div\n    }\n    ,{&quot;className&quot;: &quot;foliumtooltip&quot;, &quot;sticky&quot;: true});\n                     \n    \n            var poly_line_001713aac271f0db51cdf74a0066ca2f = L.polyline(\n                [[19.383082625228962, -99.1906271466764], [19.38367013560702, -99.19071438138118], [19.382961076037986, -99.18416246474426], [19.38377832377402, -99.18375208678239], [19.382705527130742, -99.18137564967644], [19.3816681463057, -99.1794927391155], [19.382839627094555, -99.17617752875515], [19.38250058168496, -99.17615338887623], [19.33979501073667, -99.19045862470468], [19.29577244917112, -99.18500837633597], [19.29071942361733, -99.17370018345714], [19.28463330819647, -99.17584595047266], [19.28268894403653, -99.17499837220686], [19.280339473298586, -99.17006310807118], [19.27947360377738, -99.16795757381107], [19.279612219151442, -99.16673180433538], [19.29011799530174, -99.16221067774308], [19.304962766722397, -99.14440081050682], [19.305286784907125, -99.14475486206437], [19.297955716470298, -99.15205046991713], [19.29700386857389, -99.15646002113401], [19.30130739211318, -99.16091248769119], [19.302249089227733, -99.16109487788752], [19.303292037770092, -99.15983960418345], [19.302340220918882, -99.15809080406581], [19.30242818826706, -99.15795535252295], [19.305281722202317, -99.16088633667069], [19.30804344501267, -99.16098289619842], [19.308987634714825, -99.16073613299064], [19.308820566699055, -99.15997706790888]],\n                {&quot;bubblingMouseEvents&quot;: true, &quot;color&quot;: &quot;purple&quot;, &quot;dashArray&quot;: null, &quot;dashOffset&quot;: null, &quot;fill&quot;: false, &quot;fillColor&quot;: &quot;purple&quot;, &quot;fillOpacity&quot;: 0.2, &quot;fillRule&quot;: &quot;evenodd&quot;, &quot;lineCap&quot;: &quot;round&quot;, &quot;lineJoin&quot;: &quot;round&quot;, &quot;noClip&quot;: false, &quot;opacity&quot;: 1, &quot;smoothFactor&quot;: 1.0, &quot;stroke&quot;: true, &quot;weight&quot;: 2.5}\n            ).addTo(map_d6f6f2cb0a296a955e23300bb86e1d69);\n        \n&lt;/script&gt;\" style=\"position:absolute;width:100%;height:100%;left:0;top:0;border:none !important;\" allowfullscreen webkitallowfullscreen mozallowfullscreen></iframe></div></div>"
     },
     "execution_count": 20,
     "metadata": {},
     "output_type": "execute_result"
    }
   ],
   "source": [
    "m = gdf.explore(tiles=\"CartoDB positron\")\n",
    "folium.PolyLine(gdf[['Latitude','Longitude']].values.tolist(), color=\"purple\", weight=2.5, opacity=1).add_to(m)\n",
    "m"
   ],
   "metadata": {
    "collapsed": false,
    "pycharm": {
     "name": "#%%\n"
    }
   }
  },
  {
   "cell_type": "code",
   "execution_count": null,
   "outputs": [],
   "source": [],
   "metadata": {
    "collapsed": false,
    "pycharm": {
     "name": "#%%\n"
    }
   }
  }
 ],
 "metadata": {
  "kernelspec": {
   "display_name": "Python 3",
   "language": "python",
   "name": "python3"
  },
  "language_info": {
   "codemirror_mode": {
    "name": "ipython",
    "version": 2
   },
   "file_extension": ".py",
   "mimetype": "text/x-python",
   "name": "python",
   "nbconvert_exporter": "python",
   "pygments_lexer": "ipython2",
   "version": "2.7.6"
  }
 },
 "nbformat": 4,
 "nbformat_minor": 0
}