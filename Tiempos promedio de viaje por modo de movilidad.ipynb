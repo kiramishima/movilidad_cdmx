{
 "cells": [
  {
   "cell_type": "code",
   "execution_count": 1,
   "metadata": {
    "collapsed": true,
    "pycharm": {
     "name": "#%%\n"
    }
   },
   "outputs": [],
   "source": [
    "import pandas as pd"
   ]
  },
  {
   "cell_type": "code",
   "execution_count": 2,
   "outputs": [
    {
     "data": {
      "text/plain": "  Estrato socioecómico Población  Tiempo promedio de viaje\n0                 Bajo   General                        88\n1           Medio bajo   General                        57\n2           Medio alto   General                        46\n3                 Alto   General                        49\n4                 Bajo   Hombres                       102",
      "text/html": "<div>\n<style scoped>\n    .dataframe tbody tr th:only-of-type {\n        vertical-align: middle;\n    }\n\n    .dataframe tbody tr th {\n        vertical-align: top;\n    }\n\n    .dataframe thead th {\n        text-align: right;\n    }\n</style>\n<table border=\"1\" class=\"dataframe\">\n  <thead>\n    <tr style=\"text-align: right;\">\n      <th></th>\n      <th>Estrato socioecómico</th>\n      <th>Población</th>\n      <th>Tiempo promedio de viaje</th>\n    </tr>\n  </thead>\n  <tbody>\n    <tr>\n      <th>0</th>\n      <td>Bajo</td>\n      <td>General</td>\n      <td>88</td>\n    </tr>\n    <tr>\n      <th>1</th>\n      <td>Medio bajo</td>\n      <td>General</td>\n      <td>57</td>\n    </tr>\n    <tr>\n      <th>2</th>\n      <td>Medio alto</td>\n      <td>General</td>\n      <td>46</td>\n    </tr>\n    <tr>\n      <th>3</th>\n      <td>Alto</td>\n      <td>General</td>\n      <td>49</td>\n    </tr>\n    <tr>\n      <th>4</th>\n      <td>Bajo</td>\n      <td>Hombres</td>\n      <td>102</td>\n    </tr>\n  </tbody>\n</table>\n</div>"
     },
     "execution_count": 2,
     "metadata": {},
     "output_type": "execute_result"
    }
   ],
   "source": [
    "tiemposDF = pd.read_csv(\"DATASET/tiempos_viaje_estrato_socioeconomico_2017_65.csv\")\n",
    "tiemposDF.head()"
   ],
   "metadata": {
    "collapsed": false,
    "pycharm": {
     "name": "#%%\n"
    }
   }
  },
  {
   "cell_type": "code",
   "execution_count": 3,
   "outputs": [
    {
     "name": "stdout",
     "output_type": "stream",
     "text": [
      "Tipo de datos\n",
      "<class 'pandas.core.frame.DataFrame'>\n",
      "Columnas del shape\n",
      "Index(['Estrato socioecómico', 'Población', 'Tiempo promedio de viaje'], dtype='object')\n",
      "SHAPE\n",
      "(12, 3)\n",
      "Info\n",
      "<class 'pandas.core.frame.DataFrame'>\n",
      "RangeIndex: 12 entries, 0 to 11\n",
      "Data columns (total 3 columns):\n",
      " #   Column                    Non-Null Count  Dtype \n",
      "---  ------                    --------------  ----- \n",
      " 0   Estrato socioecómico      12 non-null     object\n",
      " 1   Población                 12 non-null     object\n",
      " 2   Tiempo promedio de viaje  12 non-null     int64 \n",
      "dtypes: int64(1), object(2)\n",
      "memory usage: 416.0+ bytes\n",
      "None\n"
     ]
    }
   ],
   "source": [
    "# Print info\n",
    "print('Tipo de datos')\n",
    "print(type(tiemposDF))\n",
    "\n",
    "print('Columnas del shape')\n",
    "print(tiemposDF.columns)\n",
    "\n",
    "print('SHAPE')\n",
    "print(tiemposDF.shape)\n",
    "\n",
    "print('Info')\n",
    "print(tiemposDF.info())"
   ],
   "metadata": {
    "collapsed": false,
    "pycharm": {
     "name": "#%%\n"
    }
   }
  },
  {
   "cell_type": "code",
   "execution_count": 4,
   "outputs": [
    {
     "data": {
      "text/plain": "   Estrato socioecómico Población  Tiempo promedio de viaje\n0                  Bajo   General                        88\n1            Medio bajo   General                        57\n2            Medio alto   General                        46\n3                  Alto   General                        49\n4                  Bajo   Hombres                       102\n5            Medio bajo   Hombres                        64\n6            Medio alto   Hombres                        51\n7                  Alto   Hombres                        54\n8                  Bajo   Mujeres                        70\n9            Medio bajo   Mujeres                        49\n10           Medio alto   Mujeres                        42\n11                 Alto   Mujeres                        45",
      "text/html": "<div>\n<style scoped>\n    .dataframe tbody tr th:only-of-type {\n        vertical-align: middle;\n    }\n\n    .dataframe tbody tr th {\n        vertical-align: top;\n    }\n\n    .dataframe thead th {\n        text-align: right;\n    }\n</style>\n<table border=\"1\" class=\"dataframe\">\n  <thead>\n    <tr style=\"text-align: right;\">\n      <th></th>\n      <th>Estrato socioecómico</th>\n      <th>Población</th>\n      <th>Tiempo promedio de viaje</th>\n    </tr>\n  </thead>\n  <tbody>\n    <tr>\n      <th>0</th>\n      <td>Bajo</td>\n      <td>General</td>\n      <td>88</td>\n    </tr>\n    <tr>\n      <th>1</th>\n      <td>Medio bajo</td>\n      <td>General</td>\n      <td>57</td>\n    </tr>\n    <tr>\n      <th>2</th>\n      <td>Medio alto</td>\n      <td>General</td>\n      <td>46</td>\n    </tr>\n    <tr>\n      <th>3</th>\n      <td>Alto</td>\n      <td>General</td>\n      <td>49</td>\n    </tr>\n    <tr>\n      <th>4</th>\n      <td>Bajo</td>\n      <td>Hombres</td>\n      <td>102</td>\n    </tr>\n    <tr>\n      <th>5</th>\n      <td>Medio bajo</td>\n      <td>Hombres</td>\n      <td>64</td>\n    </tr>\n    <tr>\n      <th>6</th>\n      <td>Medio alto</td>\n      <td>Hombres</td>\n      <td>51</td>\n    </tr>\n    <tr>\n      <th>7</th>\n      <td>Alto</td>\n      <td>Hombres</td>\n      <td>54</td>\n    </tr>\n    <tr>\n      <th>8</th>\n      <td>Bajo</td>\n      <td>Mujeres</td>\n      <td>70</td>\n    </tr>\n    <tr>\n      <th>9</th>\n      <td>Medio bajo</td>\n      <td>Mujeres</td>\n      <td>49</td>\n    </tr>\n    <tr>\n      <th>10</th>\n      <td>Medio alto</td>\n      <td>Mujeres</td>\n      <td>42</td>\n    </tr>\n    <tr>\n      <th>11</th>\n      <td>Alto</td>\n      <td>Mujeres</td>\n      <td>45</td>\n    </tr>\n  </tbody>\n</table>\n</div>"
     },
     "execution_count": 4,
     "metadata": {},
     "output_type": "execute_result"
    }
   ],
   "source": [
    "tiemposDF"
   ],
   "metadata": {
    "collapsed": false,
    "pycharm": {
     "name": "#%%\n"
    }
   }
  },
  {
   "cell_type": "code",
   "execution_count": null,
   "outputs": [],
   "source": [],
   "metadata": {
    "collapsed": false,
    "pycharm": {
     "name": "#%%\n"
    }
   }
  }
 ],
 "metadata": {
  "kernelspec": {
   "display_name": "Python 3",
   "language": "python",
   "name": "python3"
  },
  "language_info": {
   "codemirror_mode": {
    "name": "ipython",
    "version": 2
   },
   "file_extension": ".py",
   "mimetype": "text/x-python",
   "name": "python",
   "nbconvert_exporter": "python",
   "pygments_lexer": "ipython2",
   "version": "2.7.6"
  }
 },
 "nbformat": 4,
 "nbformat_minor": 0
}