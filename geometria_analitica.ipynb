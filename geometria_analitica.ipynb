{
 "cells": [
  {
   "cell_type": "code",
   "execution_count": 2,
   "metadata": {
    "collapsed": true,
    "pycharm": {
     "name": "#%%\n"
    }
   },
   "outputs": [],
   "source": [
    "# Import matplotlib.pyplot\n",
    "from random import random\n",
    "\n",
    "import matplotlib.pyplot as plt\n",
    "# Import pandas\n",
    "import pandas as pd\n",
    "# Import geopandas\n",
    "import geopandas as gpd\n",
    "# import Folium\n",
    "import folium\n",
    "import shapely.geometry"
   ]
  },
  {
   "cell_type": "code",
   "execution_count": 3,
   "outputs": [
    {
     "data": {
      "text/plain": "                                Coordenadas Tipo Transporte  \\\n0   (19.383082625228962, -99.1906271466764)         CAMINAR   \n1   (19.38367013560702, -99.19071438138118)         CAMINAR   \n2  (19.383189401820953, -99.18691637376372)         CAMINAR   \n3  (19.383189401820953, -99.18691637376372)          CAMION   \n4  (19.362798100345877, -99.18939848852227)          CAMION   \n\n  Coordenadas de Accidente Tipo Accidente Tiempo  Costo Descripcion Accidente  \n0                  Ninguna        Ninguno  05:30  $0.00                   NaN  \n1                  Ninguna        Ninguno  05:33  $0.00                   NaN  \n2                  Ninguna        Ninguno  05:37  $0.00                   NaN  \n3                  Ninguna        Ninguno  05:42  $7.00                   NaN  \n4                  Ninguna        Ninguno  05:50  $0.00                   NaN  ",
      "text/html": "<div>\n<style scoped>\n    .dataframe tbody tr th:only-of-type {\n        vertical-align: middle;\n    }\n\n    .dataframe tbody tr th {\n        vertical-align: top;\n    }\n\n    .dataframe thead th {\n        text-align: right;\n    }\n</style>\n<table border=\"1\" class=\"dataframe\">\n  <thead>\n    <tr style=\"text-align: right;\">\n      <th></th>\n      <th>Coordenadas</th>\n      <th>Tipo Transporte</th>\n      <th>Coordenadas de Accidente</th>\n      <th>Tipo Accidente</th>\n      <th>Tiempo</th>\n      <th>Costo</th>\n      <th>Descripcion Accidente</th>\n    </tr>\n  </thead>\n  <tbody>\n    <tr>\n      <th>0</th>\n      <td>(19.383082625228962, -99.1906271466764)</td>\n      <td>CAMINAR</td>\n      <td>Ninguna</td>\n      <td>Ninguno</td>\n      <td>05:30</td>\n      <td>$0.00</td>\n      <td>NaN</td>\n    </tr>\n    <tr>\n      <th>1</th>\n      <td>(19.38367013560702, -99.19071438138118)</td>\n      <td>CAMINAR</td>\n      <td>Ninguna</td>\n      <td>Ninguno</td>\n      <td>05:33</td>\n      <td>$0.00</td>\n      <td>NaN</td>\n    </tr>\n    <tr>\n      <th>2</th>\n      <td>(19.383189401820953, -99.18691637376372)</td>\n      <td>CAMINAR</td>\n      <td>Ninguna</td>\n      <td>Ninguno</td>\n      <td>05:37</td>\n      <td>$0.00</td>\n      <td>NaN</td>\n    </tr>\n    <tr>\n      <th>3</th>\n      <td>(19.383189401820953, -99.18691637376372)</td>\n      <td>CAMION</td>\n      <td>Ninguna</td>\n      <td>Ninguno</td>\n      <td>05:42</td>\n      <td>$7.00</td>\n      <td>NaN</td>\n    </tr>\n    <tr>\n      <th>4</th>\n      <td>(19.362798100345877, -99.18939848852227)</td>\n      <td>CAMION</td>\n      <td>Ninguna</td>\n      <td>Ninguno</td>\n      <td>05:50</td>\n      <td>$0.00</td>\n      <td>NaN</td>\n    </tr>\n  </tbody>\n</table>\n</div>"
     },
     "execution_count": 3,
     "metadata": {},
     "output_type": "execute_result"
    }
   ],
   "source": [
    "# Vamos por nuestros datos\n",
    "df = pd.read_csv('DATASET/recorrido_1.csv')\n",
    "# Vemos su contenido\n",
    "df.head()"
   ],
   "metadata": {
    "collapsed": false,
    "pycharm": {
     "name": "#%%\n"
    }
   }
  },
  {
   "cell_type": "code",
   "execution_count": 4,
   "outputs": [
    {
     "name": "stdout",
     "output_type": "stream",
     "text": [
      "<class 'pandas.core.frame.DataFrame'>\n",
      "RangeIndex: 85 entries, 0 to 84\n",
      "Data columns (total 7 columns):\n",
      " #   Column                    Non-Null Count  Dtype \n",
      "---  ------                    --------------  ----- \n",
      " 0   Coordenadas               85 non-null     object\n",
      " 1   Tipo Transporte           85 non-null     object\n",
      " 2   Coordenadas de Accidente  85 non-null     object\n",
      " 3   Tipo Accidente            85 non-null     object\n",
      " 4   Tiempo                    85 non-null     object\n",
      " 5   Costo                     85 non-null     object\n",
      " 6   Descripcion Accidente     3 non-null      object\n",
      "dtypes: object(7)\n",
      "memory usage: 4.8+ KB\n"
     ]
    },
    {
     "data": {
      "text/plain": "(85, 7)"
     },
     "execution_count": 4,
     "metadata": {},
     "output_type": "execute_result"
    }
   ],
   "source": [
    "# Vemos su descripcion\n",
    "df.info()\n",
    "\n",
    "# Vemos su tamaño mxn , m = filas, n = columnas\n",
    "df.shape"
   ],
   "metadata": {
    "collapsed": false,
    "pycharm": {
     "name": "#%%\n"
    }
   }
  },
  {
   "cell_type": "code",
   "execution_count": 5,
   "outputs": [],
   "source": [
    "# Acomodamos los datos\n",
    "df.Coordenadas =  df.Coordenadas.str.strip('()')\n",
    "df[['Latitude', 'Longitude']] = df.Coordenadas.str.split(',', expand=True)\n",
    "df.Costo =  df.Costo.str.strip('$')\n",
    "# Casteamos los datos al tipo de dato\n",
    "df = df.astype({'Longitude': float, 'Latitude': float, 'Costo': float})\n",
    "\n"
   ],
   "metadata": {
    "collapsed": false,
    "pycharm": {
     "name": "#%%\n"
    }
   }
  },
  {
   "cell_type": "code",
   "execution_count": 6,
   "outputs": [
    {
     "name": "stdout",
     "output_type": "stream",
     "text": [
      "<class 'pandas.core.frame.DataFrame'>\n",
      "RangeIndex: 85 entries, 0 to 84\n",
      "Data columns (total 9 columns):\n",
      " #   Column                    Non-Null Count  Dtype  \n",
      "---  ------                    --------------  -----  \n",
      " 0   Coordenadas               85 non-null     object \n",
      " 1   Tipo Transporte           85 non-null     object \n",
      " 2   Coordenadas de Accidente  85 non-null     object \n",
      " 3   Tipo Accidente            85 non-null     object \n",
      " 4   Tiempo                    85 non-null     object \n",
      " 5   Costo                     85 non-null     float64\n",
      " 6   Descripcion Accidente     3 non-null      object \n",
      " 7   Latitude                  85 non-null     float64\n",
      " 8   Longitude                 85 non-null     float64\n",
      "dtypes: float64(3), object(6)\n",
      "memory usage: 6.1+ KB\n"
     ]
    }
   ],
   "source": [
    "df.info()"
   ],
   "metadata": {
    "collapsed": false,
    "pycharm": {
     "name": "#%%\n"
    }
   }
  },
  {
   "cell_type": "code",
   "execution_count": 7,
   "outputs": [
    {
     "data": {
      "text/plain": "  Tipo Transporte Coordenadas de Accidente Tipo Accidente Tiempo  Costo  \\\n0         CAMINAR                  Ninguna        Ninguno  05:30    0.0   \n1         CAMINAR                  Ninguna        Ninguno  05:33    0.0   \n2         CAMINAR                  Ninguna        Ninguno  05:37    0.0   \n3          CAMION                  Ninguna        Ninguno  05:42    7.0   \n4          CAMION                  Ninguna        Ninguno  05:50    0.0   \n\n  Descripcion Accidente   Latitude  Longitude  \n0                   NaN  19.383083 -99.190627  \n1                   NaN  19.383670 -99.190714  \n2                   NaN  19.383189 -99.186916  \n3                   NaN  19.383189 -99.186916  \n4                   NaN  19.362798 -99.189398  ",
      "text/html": "<div>\n<style scoped>\n    .dataframe tbody tr th:only-of-type {\n        vertical-align: middle;\n    }\n\n    .dataframe tbody tr th {\n        vertical-align: top;\n    }\n\n    .dataframe thead th {\n        text-align: right;\n    }\n</style>\n<table border=\"1\" class=\"dataframe\">\n  <thead>\n    <tr style=\"text-align: right;\">\n      <th></th>\n      <th>Tipo Transporte</th>\n      <th>Coordenadas de Accidente</th>\n      <th>Tipo Accidente</th>\n      <th>Tiempo</th>\n      <th>Costo</th>\n      <th>Descripcion Accidente</th>\n      <th>Latitude</th>\n      <th>Longitude</th>\n    </tr>\n  </thead>\n  <tbody>\n    <tr>\n      <th>0</th>\n      <td>CAMINAR</td>\n      <td>Ninguna</td>\n      <td>Ninguno</td>\n      <td>05:30</td>\n      <td>0.0</td>\n      <td>NaN</td>\n      <td>19.383083</td>\n      <td>-99.190627</td>\n    </tr>\n    <tr>\n      <th>1</th>\n      <td>CAMINAR</td>\n      <td>Ninguna</td>\n      <td>Ninguno</td>\n      <td>05:33</td>\n      <td>0.0</td>\n      <td>NaN</td>\n      <td>19.383670</td>\n      <td>-99.190714</td>\n    </tr>\n    <tr>\n      <th>2</th>\n      <td>CAMINAR</td>\n      <td>Ninguna</td>\n      <td>Ninguno</td>\n      <td>05:37</td>\n      <td>0.0</td>\n      <td>NaN</td>\n      <td>19.383189</td>\n      <td>-99.186916</td>\n    </tr>\n    <tr>\n      <th>3</th>\n      <td>CAMION</td>\n      <td>Ninguna</td>\n      <td>Ninguno</td>\n      <td>05:42</td>\n      <td>7.0</td>\n      <td>NaN</td>\n      <td>19.383189</td>\n      <td>-99.186916</td>\n    </tr>\n    <tr>\n      <th>4</th>\n      <td>CAMION</td>\n      <td>Ninguna</td>\n      <td>Ninguno</td>\n      <td>05:50</td>\n      <td>0.0</td>\n      <td>NaN</td>\n      <td>19.362798</td>\n      <td>-99.189398</td>\n    </tr>\n  </tbody>\n</table>\n</div>"
     },
     "execution_count": 7,
     "metadata": {},
     "output_type": "execute_result"
    }
   ],
   "source": [
    "# Eliminamos la columna Coordenadas\n",
    "df = df.drop('Coordenadas', axis=1)\n",
    "# Vemos el resultaod\n",
    "df.head()"
   ],
   "metadata": {
    "collapsed": false,
    "pycharm": {
     "name": "#%%\n"
    }
   }
  },
  {
   "cell_type": "code",
   "execution_count": 12,
   "outputs": [
    {
     "name": "stdout",
     "output_type": "stream",
     "text": [
      "<class 'geopandas.geodataframe.GeoDataFrame'>\n",
      "RangeIndex: 85 entries, 0 to 84\n",
      "Data columns (total 10 columns):\n",
      " #   Column                    Non-Null Count  Dtype   \n",
      "---  ------                    --------------  -----   \n",
      " 0   Tipo Transporte           85 non-null     object  \n",
      " 1   Coordenadas de Accidente  85 non-null     object  \n",
      " 2   Tipo Accidente            85 non-null     object  \n",
      " 3   Tiempo                    85 non-null     object  \n",
      " 4   Costo                     85 non-null     float64 \n",
      " 5   Descripcion Accidente     3 non-null      object  \n",
      " 6   Latitude                  85 non-null     float64 \n",
      " 7   Longitude                 85 non-null     float64 \n",
      " 8   geometry                  85 non-null     geometry\n",
      " 9   loc                       85 non-null     object  \n",
      "dtypes: float64(3), geometry(1), object(6)\n",
      "memory usage: 6.8+ KB\n"
     ]
    }
   ],
   "source": [
    "# Pasamos la informacion a un GeoDataframe\n",
    "gdf = gpd.GeoDataFrame(df, geometry=gpd.points_from_xy(df.Longitude, df.Latitude), crs =\"EPSG:4326\")\n",
    "\n",
    "gdf['loc'] = gdf.geometry.apply(lambda x:shapely.geometry.mapping(x))\n",
    "# Show\n",
    "gdf.info()"
   ],
   "metadata": {
    "collapsed": false,
    "pycharm": {
     "name": "#%%\n"
    }
   }
  },
  {
   "cell_type": "code",
   "execution_count": 13,
   "outputs": [
    {
     "data": {
      "text/plain": "  Tipo Transporte Coordenadas de Accidente Tipo Accidente Tiempo  Costo  \\\n0         CAMINAR                  Ninguna        Ninguno  05:30    0.0   \n1         CAMINAR                  Ninguna        Ninguno  05:33    0.0   \n2         CAMINAR                  Ninguna        Ninguno  05:37    0.0   \n3          CAMION                  Ninguna        Ninguno  05:42    7.0   \n4          CAMION                  Ninguna        Ninguno  05:50    0.0   \n\n  Descripcion Accidente   Latitude  Longitude                    geometry  \\\n0                   NaN  19.383083 -99.190627  POINT (-99.19063 19.38308)   \n1                   NaN  19.383670 -99.190714  POINT (-99.19071 19.38367)   \n2                   NaN  19.383189 -99.186916  POINT (-99.18692 19.38319)   \n3                   NaN  19.383189 -99.186916  POINT (-99.18692 19.38319)   \n4                   NaN  19.362798 -99.189398  POINT (-99.18940 19.36280)   \n\n                                                 loc  \n0  {'type': 'Point', 'coordinates': (-99.19062714...  \n1  {'type': 'Point', 'coordinates': (-99.19071438...  \n2  {'type': 'Point', 'coordinates': (-99.18691637...  \n3  {'type': 'Point', 'coordinates': (-99.18691637...  \n4  {'type': 'Point', 'coordinates': (-99.18939848...  ",
      "text/html": "<div>\n<style scoped>\n    .dataframe tbody tr th:only-of-type {\n        vertical-align: middle;\n    }\n\n    .dataframe tbody tr th {\n        vertical-align: top;\n    }\n\n    .dataframe thead th {\n        text-align: right;\n    }\n</style>\n<table border=\"1\" class=\"dataframe\">\n  <thead>\n    <tr style=\"text-align: right;\">\n      <th></th>\n      <th>Tipo Transporte</th>\n      <th>Coordenadas de Accidente</th>\n      <th>Tipo Accidente</th>\n      <th>Tiempo</th>\n      <th>Costo</th>\n      <th>Descripcion Accidente</th>\n      <th>Latitude</th>\n      <th>Longitude</th>\n      <th>geometry</th>\n      <th>loc</th>\n    </tr>\n  </thead>\n  <tbody>\n    <tr>\n      <th>0</th>\n      <td>CAMINAR</td>\n      <td>Ninguna</td>\n      <td>Ninguno</td>\n      <td>05:30</td>\n      <td>0.0</td>\n      <td>NaN</td>\n      <td>19.383083</td>\n      <td>-99.190627</td>\n      <td>POINT (-99.19063 19.38308)</td>\n      <td>{'type': 'Point', 'coordinates': (-99.19062714...</td>\n    </tr>\n    <tr>\n      <th>1</th>\n      <td>CAMINAR</td>\n      <td>Ninguna</td>\n      <td>Ninguno</td>\n      <td>05:33</td>\n      <td>0.0</td>\n      <td>NaN</td>\n      <td>19.383670</td>\n      <td>-99.190714</td>\n      <td>POINT (-99.19071 19.38367)</td>\n      <td>{'type': 'Point', 'coordinates': (-99.19071438...</td>\n    </tr>\n    <tr>\n      <th>2</th>\n      <td>CAMINAR</td>\n      <td>Ninguna</td>\n      <td>Ninguno</td>\n      <td>05:37</td>\n      <td>0.0</td>\n      <td>NaN</td>\n      <td>19.383189</td>\n      <td>-99.186916</td>\n      <td>POINT (-99.18692 19.38319)</td>\n      <td>{'type': 'Point', 'coordinates': (-99.18691637...</td>\n    </tr>\n    <tr>\n      <th>3</th>\n      <td>CAMION</td>\n      <td>Ninguna</td>\n      <td>Ninguno</td>\n      <td>05:42</td>\n      <td>7.0</td>\n      <td>NaN</td>\n      <td>19.383189</td>\n      <td>-99.186916</td>\n      <td>POINT (-99.18692 19.38319)</td>\n      <td>{'type': 'Point', 'coordinates': (-99.18691637...</td>\n    </tr>\n    <tr>\n      <th>4</th>\n      <td>CAMION</td>\n      <td>Ninguna</td>\n      <td>Ninguno</td>\n      <td>05:50</td>\n      <td>0.0</td>\n      <td>NaN</td>\n      <td>19.362798</td>\n      <td>-99.189398</td>\n      <td>POINT (-99.18940 19.36280)</td>\n      <td>{'type': 'Point', 'coordinates': (-99.18939848...</td>\n    </tr>\n  </tbody>\n</table>\n</div>"
     },
     "execution_count": 13,
     "metadata": {},
     "output_type": "execute_result"
    }
   ],
   "source": [
    "gdf.head()"
   ],
   "metadata": {
    "collapsed": false,
    "pycharm": {
     "name": "#%%\n"
    }
   }
  },
  {
   "cell_type": "code",
   "execution_count": 14,
   "outputs": [],
   "source": [
    "cdmx = [19.432608, -99.133209]\n",
    "\n",
    "# Creamos el mapa\n",
    "m = folium.Map(location=cdmx, zoom_start=12, tiles='cartodbpositron')"
   ],
   "metadata": {
    "collapsed": false,
    "pycharm": {
     "name": "#%%\n"
    }
   }
  },
  {
   "cell_type": "code",
   "execution_count": 15,
   "outputs": [
    {
     "data": {
      "text/plain": "<folium.folium.Map at 0x25f9267bd60>",
      "text/html": "<div style=\"width:100%;\"><div style=\"position:relative;width:100%;height:0;padding-bottom:60%;\"><span style=\"color:#565656\">Make this Notebook Trusted to load map: File -> Trust Notebook</span><iframe srcdoc=\"&lt;!DOCTYPE html&gt;\n&lt;head&gt;    \n    &lt;meta http-equiv=&quot;content-type&quot; content=&quot;text/html; charset=UTF-8&quot; /&gt;\n    \n        &lt;script&gt;\n            L_NO_TOUCH = false;\n            L_DISABLE_3D = false;\n        &lt;/script&gt;\n    \n    &lt;style&gt;html, body {width: 100%;height: 100%;margin: 0;padding: 0;}&lt;/style&gt;\n    &lt;style&gt;#map {position:absolute;top:0;bottom:0;right:0;left:0;}&lt;/style&gt;\n    &lt;script src=&quot;https://cdn.jsdelivr.net/npm/leaflet@1.6.0/dist/leaflet.js&quot;&gt;&lt;/script&gt;\n    &lt;script src=&quot;https://code.jquery.com/jquery-1.12.4.min.js&quot;&gt;&lt;/script&gt;\n    &lt;script src=&quot;https://maxcdn.bootstrapcdn.com/bootstrap/3.2.0/js/bootstrap.min.js&quot;&gt;&lt;/script&gt;\n    &lt;script src=&quot;https://cdnjs.cloudflare.com/ajax/libs/Leaflet.awesome-markers/2.0.2/leaflet.awesome-markers.js&quot;&gt;&lt;/script&gt;\n    &lt;link rel=&quot;stylesheet&quot; href=&quot;https://cdn.jsdelivr.net/npm/leaflet@1.6.0/dist/leaflet.css&quot;/&gt;\n    &lt;link rel=&quot;stylesheet&quot; href=&quot;https://maxcdn.bootstrapcdn.com/bootstrap/3.2.0/css/bootstrap.min.css&quot;/&gt;\n    &lt;link rel=&quot;stylesheet&quot; href=&quot;https://maxcdn.bootstrapcdn.com/bootstrap/3.2.0/css/bootstrap-theme.min.css&quot;/&gt;\n    &lt;link rel=&quot;stylesheet&quot; href=&quot;https://maxcdn.bootstrapcdn.com/font-awesome/4.6.3/css/font-awesome.min.css&quot;/&gt;\n    &lt;link rel=&quot;stylesheet&quot; href=&quot;https://cdnjs.cloudflare.com/ajax/libs/Leaflet.awesome-markers/2.0.2/leaflet.awesome-markers.css&quot;/&gt;\n    &lt;link rel=&quot;stylesheet&quot; href=&quot;https://cdn.jsdelivr.net/gh/python-visualization/folium/folium/templates/leaflet.awesome.rotate.min.css&quot;/&gt;\n    \n            &lt;meta name=&quot;viewport&quot; content=&quot;width=device-width,\n                initial-scale=1.0, maximum-scale=1.0, user-scalable=no&quot; /&gt;\n            &lt;style&gt;\n                #map_6ea4c1201f2ee1f014ca1ab4b55070bd {\n                    position: relative;\n                    width: 100.0%;\n                    height: 100.0%;\n                    left: 0.0%;\n                    top: 0.0%;\n                }\n            &lt;/style&gt;\n        \n&lt;/head&gt;\n&lt;body&gt;    \n    \n            &lt;div class=&quot;folium-map&quot; id=&quot;map_6ea4c1201f2ee1f014ca1ab4b55070bd&quot; &gt;&lt;/div&gt;\n        \n&lt;/body&gt;\n&lt;script&gt;    \n    \n            var map_6ea4c1201f2ee1f014ca1ab4b55070bd = L.map(\n                &quot;map_6ea4c1201f2ee1f014ca1ab4b55070bd&quot;,\n                {\n                    center: [19.432608, -99.133209],\n                    crs: L.CRS.EPSG3857,\n                    zoom: 12,\n                    zoomControl: true,\n                    preferCanvas: false,\n                }\n            );\n\n            \n\n        \n    \n            var tile_layer_ad72774c2d2643b839b214b2badd61e5 = L.tileLayer(\n                &quot;https://cartodb-basemaps-{s}.global.ssl.fastly.net/light_all/{z}/{x}/{y}.png&quot;,\n                {&quot;attribution&quot;: &quot;\\u0026copy; \\u003ca href=\\&quot;http://www.openstreetmap.org/copyright\\&quot;\\u003eOpenStreetMap\\u003c/a\\u003e contributors \\u0026copy; \\u003ca href=\\&quot;http://cartodb.com/attributions\\&quot;\\u003eCartoDB\\u003c/a\\u003e, CartoDB \\u003ca href =\\&quot;http://cartodb.com/attributions\\&quot;\\u003eattributions\\u003c/a\\u003e&quot;, &quot;detectRetina&quot;: false, &quot;maxNativeZoom&quot;: 18, &quot;maxZoom&quot;: 18, &quot;minZoom&quot;: 0, &quot;noWrap&quot;: false, &quot;opacity&quot;: 1, &quot;subdomains&quot;: &quot;abc&quot;, &quot;tms&quot;: false}\n            ).addTo(map_6ea4c1201f2ee1f014ca1ab4b55070bd);\n        \n    \n\n        function geo_json_80af5fbcfa1892b4ad7be6b3cc57d00f_onEachFeature(feature, layer) {\n            layer.on({\n            });\n        };\n        var geo_json_80af5fbcfa1892b4ad7be6b3cc57d00f = L.geoJson(null, {\n                onEachFeature: geo_json_80af5fbcfa1892b4ad7be6b3cc57d00f_onEachFeature,\n            \n        });\n\n        function geo_json_80af5fbcfa1892b4ad7be6b3cc57d00f_add (data) {\n            geo_json_80af5fbcfa1892b4ad7be6b3cc57d00f\n                .addData(data)\n                .addTo(map_6ea4c1201f2ee1f014ca1ab4b55070bd);\n        }\n            geo_json_80af5fbcfa1892b4ad7be6b3cc57d00f_add({&quot;bbox&quot;: [-99.22128863310168, 19.29589383263844, -99.15570443021623, 19.38367013560702], &quot;features&quot;: [{&quot;bbox&quot;: [-99.1906271466764, 19.383082625228962, -99.1906271466764, 19.383082625228962], &quot;geometry&quot;: {&quot;coordinates&quot;: [-99.1906271466764, 19.383082625228962], &quot;type&quot;: &quot;Point&quot;}, &quot;id&quot;: &quot;0&quot;, &quot;properties&quot;: {}, &quot;type&quot;: &quot;Feature&quot;}, {&quot;bbox&quot;: [-99.19071438138118, 19.38367013560702, -99.19071438138118, 19.38367013560702], &quot;geometry&quot;: {&quot;coordinates&quot;: [-99.19071438138118, 19.38367013560702], &quot;type&quot;: &quot;Point&quot;}, &quot;id&quot;: &quot;1&quot;, &quot;properties&quot;: {}, &quot;type&quot;: &quot;Feature&quot;}, {&quot;bbox&quot;: [-99.18691637376372, 19.383189401820953, -99.18691637376372, 19.383189401820953], &quot;geometry&quot;: {&quot;coordinates&quot;: [-99.18691637376372, 19.383189401820953], &quot;type&quot;: &quot;Point&quot;}, &quot;id&quot;: &quot;2&quot;, &quot;properties&quot;: {}, &quot;type&quot;: &quot;Feature&quot;}, {&quot;bbox&quot;: [-99.18691637376372, 19.383189401820953, -99.18691637376372, 19.383189401820953], &quot;geometry&quot;: {&quot;coordinates&quot;: [-99.18691637376372, 19.383189401820953], &quot;type&quot;: &quot;Point&quot;}, &quot;id&quot;: &quot;3&quot;, &quot;properties&quot;: {}, &quot;type&quot;: &quot;Feature&quot;}, {&quot;bbox&quot;: [-99.18939848852227, 19.362798100345877, -99.18939848852227, 19.362798100345877], &quot;geometry&quot;: {&quot;coordinates&quot;: [-99.18939848852227, 19.362798100345877], &quot;type&quot;: &quot;Point&quot;}, &quot;id&quot;: &quot;4&quot;, &quot;properties&quot;: {}, &quot;type&quot;: &quot;Feature&quot;}, {&quot;bbox&quot;: [-99.18929792681007, 19.36335035857047, -99.18929792681007, 19.36335035857047], &quot;geometry&quot;: {&quot;coordinates&quot;: [-99.18929792681007, 19.36335035857047], &quot;type&quot;: &quot;Point&quot;}, &quot;id&quot;: &quot;5&quot;, &quot;properties&quot;: {}, &quot;type&quot;: &quot;Feature&quot;}, {&quot;bbox&quot;: [-99.19094748520327, 19.363366806752282, -99.19094748520327, 19.363366806752282], &quot;geometry&quot;: {&quot;coordinates&quot;: [-99.19094748520327, 19.363366806752282], &quot;type&quot;: &quot;Point&quot;}, &quot;id&quot;: &quot;6&quot;, &quot;properties&quot;: {}, &quot;type&quot;: &quot;Feature&quot;}, {&quot;bbox&quot;: [-99.1911848607275, 19.36195731806358, -99.1911848607275, 19.36195731806358], &quot;geometry&quot;: {&quot;coordinates&quot;: [-99.1911848607275, 19.36195731806358], &quot;type&quot;: &quot;Point&quot;}, &quot;id&quot;: &quot;7&quot;, &quot;properties&quot;: {}, &quot;type&quot;: &quot;Feature&quot;}, {&quot;bbox&quot;: [-99.19180445103517, 19.360743933375186, -99.19180445103517, 19.360743933375186], &quot;geometry&quot;: {&quot;coordinates&quot;: [-99.19180445103517, 19.360743933375186], &quot;type&quot;: &quot;Point&quot;}, &quot;id&quot;: &quot;8&quot;, &quot;properties&quot;: {}, &quot;type&quot;: &quot;Feature&quot;}, {&quot;bbox&quot;: [-99.19286794690024, 19.359639353229568, -99.19286794690024, 19.359639353229568], &quot;geometry&quot;: {&quot;coordinates&quot;: [-99.19286794690024, 19.359639353229568], &quot;type&quot;: &quot;Point&quot;}, &quot;id&quot;: &quot;9&quot;, &quot;properties&quot;: {}, &quot;type&quot;: &quot;Feature&quot;}, {&quot;bbox&quot;: [-99.19483802941778, 19.35794767359772, -99.19483802941778, 19.35794767359772], &quot;geometry&quot;: {&quot;coordinates&quot;: [-99.19483802941778, 19.35794767359772], &quot;type&quot;: &quot;Point&quot;}, &quot;id&quot;: &quot;10&quot;, &quot;properties&quot;: {}, &quot;type&quot;: &quot;Feature&quot;}, {&quot;bbox&quot;: [-99.1955380860187, 19.357484577978862, -99.1955380860187, 19.357484577978862], &quot;geometry&quot;: {&quot;coordinates&quot;: [-99.1955380860187, 19.357484577978862], &quot;type&quot;: &quot;Point&quot;}, &quot;id&quot;: &quot;11&quot;, &quot;properties&quot;: {}, &quot;type&quot;: &quot;Feature&quot;}, {&quot;bbox&quot;: [-99.19854618336596, 19.356202833812038, -99.19854618336596, 19.356202833812038], &quot;geometry&quot;: {&quot;coordinates&quot;: [-99.19854618336596, 19.356202833812038], &quot;type&quot;: &quot;Point&quot;}, &quot;id&quot;: &quot;12&quot;, &quot;properties&quot;: {}, &quot;type&quot;: &quot;Feature&quot;}, {&quot;bbox&quot;: [-99.1996043147961, 19.35471862981145, -99.1996043147961, 19.35471862981145], &quot;geometry&quot;: {&quot;coordinates&quot;: [-99.1996043147961, 19.35471862981145], &quot;type&quot;: &quot;Point&quot;}, &quot;id&quot;: &quot;13&quot;, &quot;properties&quot;: {}, &quot;type&quot;: &quot;Feature&quot;}, {&quot;bbox&quot;: [-99.20014482299915, 19.353460733328404, -99.20014482299915, 19.353460733328404], &quot;geometry&quot;: {&quot;coordinates&quot;: [-99.20014482299915, 19.353460733328404], &quot;type&quot;: &quot;Point&quot;}, &quot;id&quot;: &quot;14&quot;, &quot;properties&quot;: {}, &quot;type&quot;: &quot;Feature&quot;}, {&quot;bbox&quot;: [-99.20106213846421, 19.349479983112893, -99.20106213846421, 19.349479983112893], &quot;geometry&quot;: {&quot;coordinates&quot;: [-99.20106213846421, 19.349479983112893], &quot;type&quot;: &quot;Point&quot;}, &quot;id&quot;: &quot;15&quot;, &quot;properties&quot;: {}, &quot;type&quot;: &quot;Feature&quot;}, {&quot;bbox&quot;: [-99.20127269189767, 19.348582845751878, -99.20127269189767, 19.348582845751878], &quot;geometry&quot;: {&quot;coordinates&quot;: [-99.20127269189767, 19.348582845751878], &quot;type&quot;: &quot;Point&quot;}, &quot;id&quot;: &quot;16&quot;, &quot;properties&quot;: {}, &quot;type&quot;: &quot;Feature&quot;}, {&quot;bbox&quot;: [-99.20168172875911, 19.34739593432179, -99.20168172875911, 19.34739593432179], &quot;geometry&quot;: {&quot;coordinates&quot;: [-99.20168172875911, 19.34739593432179], &quot;type&quot;: &quot;Point&quot;}, &quot;id&quot;: &quot;17&quot;, &quot;properties&quot;: {}, &quot;type&quot;: &quot;Feature&quot;}, {&quot;bbox&quot;: [-99.20203132897294, 19.346239307986004, -99.20203132897294, 19.346239307986004], &quot;geometry&quot;: {&quot;coordinates&quot;: [-99.20203132897294, 19.346239307986004], &quot;type&quot;: &quot;Point&quot;}, &quot;id&quot;: &quot;18&quot;, &quot;properties&quot;: {}, &quot;type&quot;: &quot;Feature&quot;}, {&quot;bbox&quot;: [-99.20228747993725, 19.344930902324073, -99.20228747993725, 19.344930902324073], &quot;geometry&quot;: {&quot;coordinates&quot;: [-99.20228747993725, 19.344930902324073], &quot;type&quot;: &quot;Point&quot;}, &quot;id&quot;: &quot;19&quot;, &quot;properties&quot;: {}, &quot;type&quot;: &quot;Feature&quot;}, {&quot;bbox&quot;: [-99.20252351434395, 19.342187518681488, -99.20252351434395, 19.342187518681488], &quot;geometry&quot;: {&quot;coordinates&quot;: [-99.20252351434395, 19.342187518681488], &quot;type&quot;: &quot;Point&quot;}, &quot;id&quot;: &quot;20&quot;, &quot;properties&quot;: {}, &quot;type&quot;: &quot;Feature&quot;}, {&quot;bbox&quot;: [-99.20249962048533, 19.34201613014302, -99.20249962048533, 19.34201613014302], &quot;geometry&quot;: {&quot;coordinates&quot;: [-99.20249962048533, 19.34201613014302], &quot;type&quot;: &quot;Point&quot;}, &quot;id&quot;: &quot;21&quot;, &quot;properties&quot;: {}, &quot;type&quot;: &quot;Feature&quot;}, {&quot;bbox&quot;: [-99.2029180450737, 19.34021164505855, -99.2029180450737, 19.34021164505855], &quot;geometry&quot;: {&quot;coordinates&quot;: [-99.2029180450737, 19.34021164505855], &quot;type&quot;: &quot;Point&quot;}, &quot;id&quot;: &quot;22&quot;, &quot;properties&quot;: {}, &quot;type&quot;: &quot;Feature&quot;}, {&quot;bbox&quot;: [-99.20437344357785, 19.337934766819334, -99.20437344357785, 19.337934766819334], &quot;geometry&quot;: {&quot;coordinates&quot;: [-99.20437344357785, 19.337934766819334], &quot;type&quot;: &quot;Point&quot;}, &quot;id&quot;: &quot;23&quot;, &quot;properties&quot;: {}, &quot;type&quot;: &quot;Feature&quot;}, {&quot;bbox&quot;: [-99.20647227215339, 19.336180854842418, -99.20647227215339, 19.336180854842418], &quot;geometry&quot;: {&quot;coordinates&quot;: [-99.20647227215339, 19.336180854842418], &quot;type&quot;: &quot;Point&quot;}, &quot;id&quot;: &quot;24&quot;, &quot;properties&quot;: {}, &quot;type&quot;: &quot;Feature&quot;}, {&quot;bbox&quot;: [-99.2076108698727, 19.3352317604146, -99.2076108698727, 19.3352317604146], &quot;geometry&quot;: {&quot;coordinates&quot;: [-99.2076108698727, 19.3352317604146], &quot;type&quot;: &quot;Point&quot;}, &quot;id&quot;: &quot;25&quot;, &quot;properties&quot;: {}, &quot;type&quot;: &quot;Feature&quot;}, {&quot;bbox&quot;: [-99.20782142326108, 19.33500144600713, -99.20782142326108, 19.33500144600713], &quot;geometry&quot;: {&quot;coordinates&quot;: [-99.20782142326108, 19.33500144600713], &quot;type&quot;: &quot;Point&quot;}, &quot;id&quot;: &quot;26&quot;, &quot;properties&quot;: {}, &quot;type&quot;: &quot;Feature&quot;}, {&quot;bbox&quot;: [-99.20911223637025, 19.33342720033877, -99.20911223637025, 19.33342720033877], &quot;geometry&quot;: {&quot;coordinates&quot;: [-99.20911223637025, 19.33342720033877], &quot;type&quot;: &quot;Point&quot;}, &quot;id&quot;: &quot;27&quot;, &quot;properties&quot;: {}, &quot;type&quot;: &quot;Feature&quot;}, {&quot;bbox&quot;: [-99.20953267264608, 19.33269322209122, -99.20953267264608, 19.33269322209122], &quot;geometry&quot;: {&quot;coordinates&quot;: [-99.20953267264608, 19.33269322209122], &quot;type&quot;: &quot;Point&quot;}, &quot;id&quot;: &quot;28&quot;, &quot;properties&quot;: {}, &quot;type&quot;: &quot;Feature&quot;}, {&quot;bbox&quot;: [-99.20965471316245, 19.332388873244348, -99.20965471316245, 19.332388873244348], &quot;geometry&quot;: {&quot;coordinates&quot;: [-99.20965471316245, 19.332388873244348], &quot;type&quot;: &quot;Point&quot;}, &quot;id&quot;: &quot;29&quot;, &quot;properties&quot;: {}, &quot;type&quot;: &quot;Feature&quot;}, {&quot;bbox&quot;: [-99.2102427874904, 19.331149326043793, -99.2102427874904, 19.331149326043793], &quot;geometry&quot;: {&quot;coordinates&quot;: [-99.2102427874904, 19.331149326043793], &quot;type&quot;: &quot;Point&quot;}, &quot;id&quot;: &quot;30&quot;, &quot;properties&quot;: {}, &quot;type&quot;: &quot;Feature&quot;}, {&quot;bbox&quot;: [-99.2106478010615, 19.33027613247372, -99.2106478010615, 19.33027613247372], &quot;geometry&quot;: {&quot;coordinates&quot;: [-99.2106478010615, 19.33027613247372], &quot;type&quot;: &quot;Point&quot;}, &quot;id&quot;: &quot;31&quot;, &quot;properties&quot;: {}, &quot;type&quot;: &quot;Feature&quot;}, {&quot;bbox&quot;: [-99.21232442303811, 19.327091571869055, -99.21232442303811, 19.327091571869055], &quot;geometry&quot;: {&quot;coordinates&quot;: [-99.21232442303811, 19.327091571869055], &quot;type&quot;: &quot;Point&quot;}, &quot;id&quot;: &quot;32&quot;, &quot;properties&quot;: {}, &quot;type&quot;: &quot;Feature&quot;}, {&quot;bbox&quot;: [-99.21301612173058, 19.32622508343608, -99.21301612173058, 19.32622508343608], &quot;geometry&quot;: {&quot;coordinates&quot;: [-99.21301612173058, 19.32622508343608], &quot;type&quot;: &quot;Point&quot;}, &quot;id&quot;: &quot;33&quot;, &quot;properties&quot;: {}, &quot;type&quot;: &quot;Feature&quot;}, {&quot;bbox&quot;: [-99.21324947389351, 19.326059298572265, -99.21324947389351, 19.326059298572265], &quot;geometry&quot;: {&quot;coordinates&quot;: [-99.21324947389351, 19.326059298572265], &quot;type&quot;: &quot;Point&quot;}, &quot;id&quot;: &quot;34&quot;, &quot;properties&quot;: {}, &quot;type&quot;: &quot;Feature&quot;}, {&quot;bbox&quot;: [-99.21393678994396, 19.325411976660106, -99.21393678994396, 19.325411976660106], &quot;geometry&quot;: {&quot;coordinates&quot;: [-99.21393678994396, 19.325411976660106], &quot;type&quot;: &quot;Point&quot;}, &quot;id&quot;: &quot;35&quot;, &quot;properties&quot;: {}, &quot;type&quot;: &quot;Feature&quot;}, {&quot;bbox&quot;: [-99.21400920959783, 19.325317693974245, -99.21400920959783, 19.325317693974245], &quot;geometry&quot;: {&quot;coordinates&quot;: [-99.21400920959783, 19.325317693974245], &quot;type&quot;: &quot;Point&quot;}, &quot;id&quot;: &quot;36&quot;, &quot;properties&quot;: {}, &quot;type&quot;: &quot;Feature&quot;}, {&quot;bbox&quot;: [-99.21842380588275, 19.32230016113968, -99.21842380588275, 19.32230016113968], &quot;geometry&quot;: {&quot;coordinates&quot;: [-99.21842380588275, 19.32230016113968], &quot;type&quot;: &quot;Point&quot;}, &quot;id&quot;: &quot;37&quot;, &quot;properties&quot;: {}, &quot;type&quot;: &quot;Feature&quot;}, {&quot;bbox&quot;: [-99.21865581696463, 19.322105897088434, -99.21865581696463, 19.322105897088434], &quot;geometry&quot;: {&quot;coordinates&quot;: [-99.21865581696463, 19.322105897088434], &quot;type&quot;: &quot;Point&quot;}, &quot;id&quot;: &quot;38&quot;, &quot;properties&quot;: {}, &quot;type&quot;: &quot;Feature&quot;}, {&quot;bbox&quot;: [-99.2199785883933, 19.321231618590815, -99.2199785883933, 19.321231618590815], &quot;geometry&quot;: {&quot;coordinates&quot;: [-99.2199785883933, 19.321231618590815], &quot;type&quot;: &quot;Point&quot;}, &quot;id&quot;: &quot;39&quot;, &quot;properties&quot;: {}, &quot;type&quot;: &quot;Feature&quot;}, {&quot;bbox&quot;: [-99.21994506078325, 19.32117973015242, -99.21994506078325, 19.32117973015242], &quot;geometry&quot;: {&quot;coordinates&quot;: [-99.21994506078325, 19.32117973015242], &quot;type&quot;: &quot;Point&quot;}, &quot;id&quot;: &quot;40&quot;, &quot;properties&quot;: {}, &quot;type&quot;: &quot;Feature&quot;}, {&quot;bbox&quot;: [-99.22039433078902, 19.320905733635264, -99.22039433078902, 19.320905733635264], &quot;geometry&quot;: {&quot;coordinates&quot;: [-99.22039433078902, 19.320905733635264], &quot;type&quot;: &quot;Point&quot;}, &quot;id&quot;: &quot;41&quot;, &quot;properties&quot;: {}, &quot;type&quot;: &quot;Feature&quot;}, {&quot;bbox&quot;: [-99.22063572960583, 19.320676664598615, -99.22063572960583, 19.320676664598615], &quot;geometry&quot;: {&quot;coordinates&quot;: [-99.22063572960583, 19.320676664598615], &quot;type&quot;: &quot;Point&quot;}, &quot;id&quot;: &quot;42&quot;, &quot;properties&quot;: {}, &quot;type&quot;: &quot;Feature&quot;}, {&quot;bbox&quot;: [-99.22094753642278, 19.320231181355553, -99.22094753642278, 19.320231181355553], &quot;geometry&quot;: {&quot;coordinates&quot;: [-99.22094753642278, 19.320231181355553], &quot;type&quot;: &quot;Point&quot;}, &quot;id&quot;: &quot;43&quot;, &quot;properties&quot;: {}, &quot;type&quot;: &quot;Feature&quot;}, {&quot;bbox&quot;: [-99.22115339595442, 19.319784431320397, -99.22115339595442, 19.319784431320397], &quot;geometry&quot;: {&quot;coordinates&quot;: [-99.22115339595442, 19.319784431320397], &quot;type&quot;: &quot;Point&quot;}, &quot;id&quot;: &quot;44&quot;, &quot;properties&quot;: {}, &quot;type&quot;: &quot;Feature&quot;}, {&quot;bbox&quot;: [-99.22128863310168, 19.31911296930071, -99.22128863310168, 19.31911296930071], &quot;geometry&quot;: {&quot;coordinates&quot;: [-99.22128863310168, 19.31911296930071], &quot;type&quot;: &quot;Point&quot;}, &quot;id&quot;: &quot;45&quot;, &quot;properties&quot;: {}, &quot;type&quot;: &quot;Feature&quot;}, {&quot;bbox&quot;: [-99.22121825453742, 19.31835504008246, -99.22121825453742, 19.31835504008246], &quot;geometry&quot;: {&quot;coordinates&quot;: [-99.22121825453742, 19.31835504008246], &quot;type&quot;: &quot;Point&quot;}, &quot;id&quot;: &quot;46&quot;, &quot;properties&quot;: {}, &quot;type&quot;: &quot;Feature&quot;}, {&quot;bbox&quot;: [-99.22103319376414, 19.317229039653377, -99.22103319376414, 19.317229039653377], &quot;geometry&quot;: {&quot;coordinates&quot;: [-99.22103319376414, 19.317229039653377], &quot;type&quot;: &quot;Point&quot;}, &quot;id&quot;: &quot;47&quot;, &quot;properties&quot;: {}, &quot;type&quot;: &quot;Feature&quot;}, {&quot;bbox&quot;: [-99.22028543396061, 19.313629503424714, -99.22028543396061, 19.313629503424714], &quot;geometry&quot;: {&quot;coordinates&quot;: [-99.22028543396061, 19.313629503424714], &quot;type&quot;: &quot;Point&quot;}, &quot;id&quot;: &quot;48&quot;, &quot;properties&quot;: {}, &quot;type&quot;: &quot;Feature&quot;}, {&quot;bbox&quot;: [-99.2203015272226, 19.31343712751285, -99.2203015272226, 19.31343712751285], &quot;geometry&quot;: {&quot;coordinates&quot;: [-99.2203015272226, 19.31343712751285], &quot;type&quot;: &quot;Point&quot;}, &quot;id&quot;: &quot;49&quot;, &quot;properties&quot;: {}, &quot;type&quot;: &quot;Feature&quot;}, {&quot;bbox&quot;: [-99.21769679892617, 19.3094559258734, -99.21769679892617, 19.3094559258734], &quot;geometry&quot;: {&quot;coordinates&quot;: [-99.21769679892617, 19.3094559258734], &quot;type&quot;: &quot;Point&quot;}, &quot;id&quot;: &quot;50&quot;, &quot;properties&quot;: {}, &quot;type&quot;: &quot;Feature&quot;}, {&quot;bbox&quot;: [-99.21761365042397, 19.309417955985968, -99.21761365042397, 19.309417955985968], &quot;geometry&quot;: {&quot;coordinates&quot;: [-99.21761365042397, 19.309417955985968], &quot;type&quot;: &quot;Point&quot;}, &quot;id&quot;: &quot;51&quot;, &quot;properties&quot;: {}, &quot;type&quot;: &quot;Feature&quot;}, {&quot;bbox&quot;: [-99.2131187665574, 19.30727441285394, -99.2131187665574, 19.30727441285394], &quot;geometry&quot;: {&quot;coordinates&quot;: [-99.2131187665574, 19.30727441285394], &quot;type&quot;: &quot;Point&quot;}, &quot;id&quot;: &quot;52&quot;, &quot;properties&quot;: {}, &quot;type&quot;: &quot;Feature&quot;}, {&quot;bbox&quot;: [-99.20261639218555, 19.305280788969025, -99.20261639218555, 19.305280788969025], &quot;geometry&quot;: {&quot;coordinates&quot;: [-99.20261639218555, 19.305280788969025], &quot;type&quot;: &quot;Point&quot;}, &quot;id&quot;: &quot;53&quot;, &quot;properties&quot;: {}, &quot;type&quot;: &quot;Feature&quot;}, {&quot;bbox&quot;: [-99.2001137557908, 19.304386438454802, -99.2001137557908, 19.304386438454802], &quot;geometry&quot;: {&quot;coordinates&quot;: [-99.2001137557908, 19.304386438454802], &quot;type&quot;: &quot;Point&quot;}, &quot;id&quot;: &quot;54&quot;, &quot;properties&quot;: {}, &quot;type&quot;: &quot;Feature&quot;}, {&quot;bbox&quot;: [-99.19689002530595, 19.30267904027917, -99.19689002530595, 19.30267904027917], &quot;geometry&quot;: {&quot;coordinates&quot;: [-99.19689002530595, 19.30267904027917], &quot;type&quot;: &quot;Point&quot;}, &quot;id&quot;: &quot;55&quot;, &quot;properties&quot;: {}, &quot;type&quot;: &quot;Feature&quot;}, {&quot;bbox&quot;: [-99.19456488118135, 19.302230982384092, -99.19456488118135, 19.302230982384092], &quot;geometry&quot;: {&quot;coordinates&quot;: [-99.19456488118135, 19.302230982384092], &quot;type&quot;: &quot;Point&quot;}, &quot;id&quot;: &quot;56&quot;, &quot;properties&quot;: {}, &quot;type&quot;: &quot;Feature&quot;}, {&quot;bbox&quot;: [-99.18805847564981, 19.30282073009625, -99.18805847564981, 19.30282073009625], &quot;geometry&quot;: {&quot;coordinates&quot;: [-99.18805847564981, 19.30282073009625], &quot;type&quot;: &quot;Point&quot;}, &quot;id&quot;: &quot;57&quot;, &quot;properties&quot;: {}, &quot;type&quot;: &quot;Feature&quot;}, {&quot;bbox&quot;: [-99.18796392779069, 19.302860600078045, -99.18796392779069, 19.302860600078045], &quot;geometry&quot;: {&quot;coordinates&quot;: [-99.18796392779069, 19.302860600078045], &quot;type&quot;: &quot;Point&quot;}, &quot;id&quot;: &quot;58&quot;, &quot;properties&quot;: {}, &quot;type&quot;: &quot;Feature&quot;}, {&quot;bbox&quot;: [-99.1808100062752, 19.303617394858378, -99.1808100062752, 19.303617394858378], &quot;geometry&quot;: {&quot;coordinates&quot;: [-99.1808100062752, 19.303617394858378], &quot;type&quot;: &quot;Point&quot;}, &quot;id&quot;: &quot;59&quot;, &quot;properties&quot;: {}, &quot;type&quot;: &quot;Feature&quot;}, {&quot;bbox&quot;: [-99.17639509064078, 19.30342500717513, -99.17639509064078, 19.30342500717513], &quot;geometry&quot;: {&quot;coordinates&quot;: [-99.17639509064078, 19.30342500717513], &quot;type&quot;: &quot;Point&quot;}, &quot;id&quot;: &quot;60&quot;, &quot;properties&quot;: {}, &quot;type&quot;: &quot;Feature&quot;}, {&quot;bbox&quot;: [-99.17612686951733, 19.303430070019527, -99.17612686951733, 19.303430070019527], &quot;geometry&quot;: {&quot;coordinates&quot;: [-99.17612686951733, 19.303430070019527], &quot;type&quot;: &quot;Point&quot;}, &quot;id&quot;: &quot;61&quot;, &quot;properties&quot;: {}, &quot;type&quot;: &quot;Feature&quot;}, {&quot;bbox&quot;: [-99.16191218698734, 19.301411185306165, -99.16191218698734, 19.301411185306165], &quot;geometry&quot;: {&quot;coordinates&quot;: [-99.16191218698734, 19.301411185306165], &quot;type&quot;: &quot;Point&quot;}, &quot;id&quot;: &quot;62&quot;, &quot;properties&quot;: {}, &quot;type&quot;: &quot;Feature&quot;}, {&quot;bbox&quot;: [-99.16068909978847, 19.30099096414349, -99.16068909978847, 19.30099096414349], &quot;geometry&quot;: {&quot;coordinates&quot;: [-99.16068909978847, 19.30099096414349], &quot;type&quot;: &quot;Point&quot;}, &quot;id&quot;: &quot;63&quot;, &quot;properties&quot;: {}, &quot;type&quot;: &quot;Feature&quot;}, {&quot;bbox&quot;: [-99.15924607102463, 19.30013026678882, -99.15924607102463, 19.30013026678882], &quot;geometry&quot;: {&quot;coordinates&quot;: [-99.15924607102463, 19.30013026678882], &quot;type&quot;: &quot;Point&quot;}, &quot;id&quot;: &quot;64&quot;, &quot;properties&quot;: {}, &quot;type&quot;: &quot;Feature&quot;}, {&quot;bbox&quot;: [-99.15570443021623, 19.29589383263844, -99.15570443021623, 19.29589383263844], &quot;geometry&quot;: {&quot;coordinates&quot;: [-99.15570443021623, 19.29589383263844], &quot;type&quot;: &quot;Point&quot;}, &quot;id&quot;: &quot;65&quot;, &quot;properties&quot;: {}, &quot;type&quot;: &quot;Feature&quot;}, {&quot;bbox&quot;: [-99.15646346398496, 19.297000842692533, -99.15646346398496, 19.297000842692533], &quot;geometry&quot;: {&quot;coordinates&quot;: [-99.15646346398496, 19.297000842692533], &quot;type&quot;: &quot;Point&quot;}, &quot;id&quot;: &quot;66&quot;, &quot;properties&quot;: {}, &quot;type&quot;: &quot;Feature&quot;}, {&quot;bbox&quot;: [-99.15617110322911, 19.297048941523155, -99.15617110322911, 19.297048941523155], &quot;geometry&quot;: {&quot;coordinates&quot;: [-99.15617110322911, 19.297048941523155], &quot;type&quot;: &quot;Point&quot;}, &quot;id&quot;: &quot;67&quot;, &quot;properties&quot;: {}, &quot;type&quot;: &quot;Feature&quot;}, {&quot;bbox&quot;: [-99.15650101495115, 19.296950212361562, -99.15650101495115, 19.296950212361562], &quot;geometry&quot;: {&quot;coordinates&quot;: [-99.15650101495115, 19.296950212361562], &quot;type&quot;: &quot;Point&quot;}, &quot;id&quot;: &quot;68&quot;, &quot;properties&quot;: {}, &quot;type&quot;: &quot;Feature&quot;}, {&quot;bbox&quot;: [-99.16063664514962, 19.301002097518097, -99.16063664514962, 19.301002097518097], &quot;geometry&quot;: {&quot;coordinates&quot;: [-99.16063664514962, 19.301002097518097], &quot;type&quot;: &quot;Point&quot;}, &quot;id&quot;: &quot;69&quot;, &quot;properties&quot;: {}, &quot;type&quot;: &quot;Feature&quot;}, {&quot;bbox&quot;: [-99.16107920963194, 19.301602051493493, -99.16107920963194, 19.301602051493493], &quot;geometry&quot;: {&quot;coordinates&quot;: [-99.16107920963194, 19.301602051493493], &quot;type&quot;: &quot;Point&quot;}, &quot;id&quot;: &quot;70&quot;, &quot;properties&quot;: {}, &quot;type&quot;: &quot;Feature&quot;}, {&quot;bbox&quot;: [-99.16105238754426, 19.302356420835842, -99.16105238754426, 19.302356420835842], &quot;geometry&quot;: {&quot;coordinates&quot;: [-99.16105238754426, 19.302356420835842], &quot;type&quot;: &quot;Point&quot;}, &quot;id&quot;: &quot;71&quot;, &quot;properties&quot;: {}, &quot;type&quot;: &quot;Feature&quot;}, {&quot;bbox&quot;: [-99.15994463532249, 19.303293049070998, -99.15994463532249, 19.303293049070998], &quot;geometry&quot;: {&quot;coordinates&quot;: [-99.15994463532249, 19.303293049070998], &quot;type&quot;: &quot;Point&quot;}, &quot;id&quot;: &quot;72&quot;, &quot;properties&quot;: {}, &quot;type&quot;: &quot;Feature&quot;}, {&quot;bbox&quot;: [-99.15931431626169, 19.303300643332058, -99.15931431626169, 19.303300643332058], &quot;geometry&quot;: {&quot;coordinates&quot;: [-99.15931431626169, 19.303300643332058], &quot;type&quot;: &quot;Point&quot;}, &quot;id&quot;: &quot;73&quot;, &quot;properties&quot;: {}, &quot;type&quot;: &quot;Feature&quot;}, {&quot;bbox&quot;: [-99.1589173493638, 19.303158883733953, -99.1589173493638, 19.303158883733953], &quot;geometry&quot;: {&quot;coordinates&quot;: [-99.1589173493638, 19.303158883733953], &quot;type&quot;: &quot;Point&quot;}, &quot;id&quot;: &quot;74&quot;, &quot;properties&quot;: {}, &quot;type&quot;: &quot;Feature&quot;}, {&quot;bbox&quot;: [-99.15807245360145, 19.302303260694107, -99.15807245360145, 19.302303260694107], &quot;geometry&quot;: {&quot;coordinates&quot;: [-99.15807245360145, 19.302303260694107], &quot;type&quot;: &quot;Point&quot;}, &quot;id&quot;: &quot;75&quot;, &quot;properties&quot;: {}, &quot;type&quot;: &quot;Feature&quot;}, {&quot;bbox&quot;: [-99.15795309530175, 19.302426035280362, -99.15795309530175, 19.302426035280362], &quot;geometry&quot;: {&quot;coordinates&quot;: [-99.15795309530175, 19.302426035280362], &quot;type&quot;: &quot;Point&quot;}, &quot;id&quot;: &quot;76&quot;, &quot;properties&quot;: {}, &quot;type&quot;: &quot;Feature&quot;}, {&quot;bbox&quot;: [-99.15911449172769, 19.30344493423495, -99.15911449172769, 19.30344493423495], &quot;geometry&quot;: {&quot;coordinates&quot;: [-99.15911449172769, 19.30344493423495], &quot;type&quot;: &quot;Point&quot;}, &quot;id&quot;: &quot;77&quot;, &quot;properties&quot;: {}, &quot;type&quot;: &quot;Feature&quot;}, {&quot;bbox&quot;: [-99.16087133857266, 19.305218183021804, -99.16087133857266, 19.305218183021804], &quot;geometry&quot;: {&quot;coordinates&quot;: [-99.16087133857266, 19.305218183021804], &quot;type&quot;: &quot;Point&quot;}, &quot;id&quot;: &quot;78&quot;, &quot;properties&quot;: {}, &quot;type&quot;: &quot;Feature&quot;}, {&quot;bbox&quot;: [-99.16095950154214, 19.30802244472683, -99.16095950154214, 19.30802244472683], &quot;geometry&quot;: {&quot;coordinates&quot;: [-99.16095950154214, 19.30802244472683], &quot;type&quot;: &quot;Point&quot;}, &quot;id&quot;: &quot;79&quot;, &quot;properties&quot;: {}, &quot;type&quot;: &quot;Feature&quot;}, {&quot;bbox&quot;: [-99.16100845185215, 19.308136355312083, -99.16100845185215, 19.308136355312083], &quot;geometry&quot;: {&quot;coordinates&quot;: [-99.16100845185215, 19.308136355312083], &quot;type&quot;: &quot;Point&quot;}, &quot;id&quot;: &quot;80&quot;, &quot;properties&quot;: {}, &quot;type&quot;: &quot;Feature&quot;}, {&quot;bbox&quot;: [-99.16070270614281, 19.308984998499277, -99.16070270614281, 19.308984998499277], &quot;geometry&quot;: {&quot;coordinates&quot;: [-99.16070270614281, 19.308984998499277], &quot;type&quot;: &quot;Point&quot;}, &quot;id&quot;: &quot;81&quot;, &quot;properties&quot;: {}, &quot;type&quot;: &quot;Feature&quot;}, {&quot;bbox&quot;: [-99.16017028770207, 19.308830587154848, -99.16017028770207, 19.308830587154848], &quot;geometry&quot;: {&quot;coordinates&quot;: [-99.16017028770207, 19.308830587154848], &quot;type&quot;: &quot;Point&quot;}, &quot;id&quot;: &quot;82&quot;, &quot;properties&quot;: {}, &quot;type&quot;: &quot;Feature&quot;}, {&quot;bbox&quot;: [-99.16002743386771, 19.3089908542213, -99.16002743386771, 19.3089908542213], &quot;geometry&quot;: {&quot;coordinates&quot;: [-99.16002743386771, 19.3089908542213], &quot;type&quot;: &quot;Point&quot;}, &quot;id&quot;: &quot;83&quot;, &quot;properties&quot;: {}, &quot;type&quot;: &quot;Feature&quot;}, {&quot;bbox&quot;: [-99.15990807557746, 19.308978830392764, -99.15990807557746, 19.308978830392764], &quot;geometry&quot;: {&quot;coordinates&quot;: [-99.15990807557746, 19.308978830392764], &quot;type&quot;: &quot;Point&quot;}, &quot;id&quot;: &quot;84&quot;, &quot;properties&quot;: {}, &quot;type&quot;: &quot;Feature&quot;}], &quot;type&quot;: &quot;FeatureCollection&quot;});\n\n        \n    \n            var layer_control_66422ff22829ef464a6adcc4c78f9006 = {\n                base_layers : {\n                    &quot;cartodbpositron&quot; : tile_layer_ad72774c2d2643b839b214b2badd61e5,\n                },\n                overlays :  {\n                    &quot;macro_element_80af5fbcfa1892b4ad7be6b3cc57d00f&quot; : geo_json_80af5fbcfa1892b4ad7be6b3cc57d00f,\n                },\n            };\n            L.control.layers(\n                layer_control_66422ff22829ef464a6adcc4c78f9006.base_layers,\n                layer_control_66422ff22829ef464a6adcc4c78f9006.overlays,\n                {&quot;autoZIndex&quot;: true, &quot;collapsed&quot;: true, &quot;position&quot;: &quot;topright&quot;}\n            ).addTo(map_6ea4c1201f2ee1f014ca1ab4b55070bd);\n        \n&lt;/script&gt;\" style=\"position:absolute;width:100%;height:100%;left:0;top:0;border:none !important;\" allowfullscreen webkitallowfullscreen mozallowfullscreen></iframe></div></div>"
     },
     "execution_count": 15,
     "metadata": {},
     "output_type": "execute_result"
    }
   ],
   "source": [
    "geopath = gdf.geometry.to_json()\n",
    "#print(geopath)\n",
    "poligonos = folium.features.GeoJson(geopath)\n",
    "m.add_child(poligonos)\n",
    "folium.LayerControl().add_to(m)\n",
    "m"
   ],
   "metadata": {
    "collapsed": false,
    "pycharm": {
     "name": "#%%\n"
    }
   }
  },
  {
   "cell_type": "code",
   "execution_count": null,
   "outputs": [],
   "source": [
    "# todo terminar de calcular las distancias y pintar las Lineas si es posible :D"
   ],
   "metadata": {
    "collapsed": false,
    "pycharm": {
     "name": "#%%\n"
    }
   }
  },
  {
   "cell_type": "code",
   "execution_count": 54,
   "outputs": [
    {
     "data": {
      "text/plain": "                                  Coordenadas Tipo Transporte  \\\n0     (19.383082625228962, -99.1906271466764)         CAMINAR   \n1     (19.38367013560702, -99.19071438138118)         CAMINAR   \n2    (19.382961076037986, -99.18416246474426)         CAMINAR   \n3     (19.38377832377402, -99.18375208678239)         CAMINAR   \n4    (19.382705527130742, -99.18137564967644)         CAMINAR   \n5       (19.3816681463057, -99.1794927391155)         CAMINAR   \n6    (19.382839627094555, -99.17617752875515)         CAMINAR   \n7     (19.38250058168496, -99.17615338887623)         CAMINAR   \n8     (19.33979501073667, -99.19045862470468)        METROBUS   \n9     (19.29577244917112, -99.18500837633597)        METROBUS   \n10    (19.29071942361733, -99.17370018345714)        METROBUS   \n11    (19.28463330819647, -99.17584595047266)        METROBUS   \n12    (19.28268894403653, -99.17499837220686)        METROBUS   \n13   (19.280339473298586, -99.17006310807118)        METROBUS   \n14    (19.27947360377738, -99.16795757381107)         CAMINAR   \n15  (19.279612219151442, -99.166731804335389)         CAMINAR   \n16    (19.29011799530174, -99.16221067774308)          CAMION   \n17   (19.304962766722397, -99.14440081050682)          CAMION   \n18   (19.305286784907125, -99.14475486206437)          CAMION   \n19   (19.297955716470298, -99.15205046991713)          CAMION   \n20    (19.29700386857389, -99.15646002113401)          CAMION   \n21    (19.30130739211318, -99.16091248769119)          CAMION   \n22   (19.302249089227733, -99.16109487788752)          CAMION   \n23   (19.303292037770092, -99.15983960418345)          CAMION   \n24   (19.302340220918882, -99.15809080406581)          CAMION   \n25    (19.30242818826706, -99.15795535252295)          CAMION   \n26   (19.305281722202317, -99.16088633667069)          CAMION   \n27    (19.30804344501267, -99.16098289619842)         CAMINAR   \n28   (19.308987634714825, -99.16073613299064)         CAMINAR   \n29   (19.308820566699055, -99.15997706790888)         CAMINAR   \n\n   Coordenadas de Accidente Tipo Accidente  Tiempo  Costo  \n0                   Ninguna        Ninguno  5:30AM  $0.00  \n1                   Ninguna        Ninguno  5:33AM  $0.00  \n2                   Ninguna        Ninguno  5:40AM  $0.00  \n3                   Ninguna        Ninguno  5:43AM  $0.00  \n4                   Ninguna        Ninguno  5:48AM  $0.00  \n5                   Ninguna        Ninguno  5:52AM  $0.00  \n6                   Ninguna        Ninguno  6:00AM  $0.00  \n7                   Ninguna        Ninguno  6:15AM  $0.00  \n8                   Ninguna        Ninguno  7:25AM  $6.00  \n9                   Ninguna        Ninguno  7:45AM  $0.00  \n10                  Ninguna        Ninguno  7:58AM  $0.00  \n11                  Ninguna        Ninguno  8:05AM  $0.00  \n12                  Ninguna        Ninguno  8:15AM  $0.00  \n13                  Ninguna        Ninguno  8:25AM  $0.00  \n14                  Ninguna        Ninguno  8:29AM  $0.00  \n15                  Ninguna        Ninguno  8:31AM  $0.00  \n16                  Ninguna        Ninguno  8:35AM  $6.00  \n17                  Ninguna        Ninguno  8:40AM  $0.00  \n18                  Ninguna        Ninguno  8:45AM  $0.00  \n19                  Ninguna        Ninguno  8:49AM  $0.00  \n20                  Ninguna        Ninguno  8:53AM  $0.00  \n21                  Ninguna        Ninguno  8:55AM  $0.00  \n22                  Ninguna        Ninguno  8:57AM  $0.00  \n23                  Ninguna        Ninguno  8:59AM  $0.00  \n24                  Ninguna        Ninguno  9:03AM  $0.00  \n25                  Ninguna        Ninguno  9:07AM  $0.00  \n26                  Ninguna        Ninguno  9:10AM  $0.00  \n27                  Ninguna        Ninguno  9:15AM  $0.00  \n28                  Ninguna        Ninguno  9:18AM  $0.00  \n29                  Ninguna        Ninguno  9:22AM  $0.00  ",
      "text/html": "<div>\n<style scoped>\n    .dataframe tbody tr th:only-of-type {\n        vertical-align: middle;\n    }\n\n    .dataframe tbody tr th {\n        vertical-align: top;\n    }\n\n    .dataframe thead th {\n        text-align: right;\n    }\n</style>\n<table border=\"1\" class=\"dataframe\">\n  <thead>\n    <tr style=\"text-align: right;\">\n      <th></th>\n      <th>Coordenadas</th>\n      <th>Tipo Transporte</th>\n      <th>Coordenadas de Accidente</th>\n      <th>Tipo Accidente</th>\n      <th>Tiempo</th>\n      <th>Costo</th>\n    </tr>\n  </thead>\n  <tbody>\n    <tr>\n      <th>0</th>\n      <td>(19.383082625228962, -99.1906271466764)</td>\n      <td>CAMINAR</td>\n      <td>Ninguna</td>\n      <td>Ninguno</td>\n      <td>5:30AM</td>\n      <td>$0.00</td>\n    </tr>\n    <tr>\n      <th>1</th>\n      <td>(19.38367013560702, -99.19071438138118)</td>\n      <td>CAMINAR</td>\n      <td>Ninguna</td>\n      <td>Ninguno</td>\n      <td>5:33AM</td>\n      <td>$0.00</td>\n    </tr>\n    <tr>\n      <th>2</th>\n      <td>(19.382961076037986, -99.18416246474426)</td>\n      <td>CAMINAR</td>\n      <td>Ninguna</td>\n      <td>Ninguno</td>\n      <td>5:40AM</td>\n      <td>$0.00</td>\n    </tr>\n    <tr>\n      <th>3</th>\n      <td>(19.38377832377402, -99.18375208678239)</td>\n      <td>CAMINAR</td>\n      <td>Ninguna</td>\n      <td>Ninguno</td>\n      <td>5:43AM</td>\n      <td>$0.00</td>\n    </tr>\n    <tr>\n      <th>4</th>\n      <td>(19.382705527130742, -99.18137564967644)</td>\n      <td>CAMINAR</td>\n      <td>Ninguna</td>\n      <td>Ninguno</td>\n      <td>5:48AM</td>\n      <td>$0.00</td>\n    </tr>\n    <tr>\n      <th>5</th>\n      <td>(19.3816681463057, -99.1794927391155)</td>\n      <td>CAMINAR</td>\n      <td>Ninguna</td>\n      <td>Ninguno</td>\n      <td>5:52AM</td>\n      <td>$0.00</td>\n    </tr>\n    <tr>\n      <th>6</th>\n      <td>(19.382839627094555, -99.17617752875515)</td>\n      <td>CAMINAR</td>\n      <td>Ninguna</td>\n      <td>Ninguno</td>\n      <td>6:00AM</td>\n      <td>$0.00</td>\n    </tr>\n    <tr>\n      <th>7</th>\n      <td>(19.38250058168496, -99.17615338887623)</td>\n      <td>CAMINAR</td>\n      <td>Ninguna</td>\n      <td>Ninguno</td>\n      <td>6:15AM</td>\n      <td>$0.00</td>\n    </tr>\n    <tr>\n      <th>8</th>\n      <td>(19.33979501073667, -99.19045862470468)</td>\n      <td>METROBUS</td>\n      <td>Ninguna</td>\n      <td>Ninguno</td>\n      <td>7:25AM</td>\n      <td>$6.00</td>\n    </tr>\n    <tr>\n      <th>9</th>\n      <td>(19.29577244917112, -99.18500837633597)</td>\n      <td>METROBUS</td>\n      <td>Ninguna</td>\n      <td>Ninguno</td>\n      <td>7:45AM</td>\n      <td>$0.00</td>\n    </tr>\n    <tr>\n      <th>10</th>\n      <td>(19.29071942361733, -99.17370018345714)</td>\n      <td>METROBUS</td>\n      <td>Ninguna</td>\n      <td>Ninguno</td>\n      <td>7:58AM</td>\n      <td>$0.00</td>\n    </tr>\n    <tr>\n      <th>11</th>\n      <td>(19.28463330819647, -99.17584595047266)</td>\n      <td>METROBUS</td>\n      <td>Ninguna</td>\n      <td>Ninguno</td>\n      <td>8:05AM</td>\n      <td>$0.00</td>\n    </tr>\n    <tr>\n      <th>12</th>\n      <td>(19.28268894403653, -99.17499837220686)</td>\n      <td>METROBUS</td>\n      <td>Ninguna</td>\n      <td>Ninguno</td>\n      <td>8:15AM</td>\n      <td>$0.00</td>\n    </tr>\n    <tr>\n      <th>13</th>\n      <td>(19.280339473298586, -99.17006310807118)</td>\n      <td>METROBUS</td>\n      <td>Ninguna</td>\n      <td>Ninguno</td>\n      <td>8:25AM</td>\n      <td>$0.00</td>\n    </tr>\n    <tr>\n      <th>14</th>\n      <td>(19.27947360377738, -99.16795757381107)</td>\n      <td>CAMINAR</td>\n      <td>Ninguna</td>\n      <td>Ninguno</td>\n      <td>8:29AM</td>\n      <td>$0.00</td>\n    </tr>\n    <tr>\n      <th>15</th>\n      <td>(19.279612219151442, -99.166731804335389)</td>\n      <td>CAMINAR</td>\n      <td>Ninguna</td>\n      <td>Ninguno</td>\n      <td>8:31AM</td>\n      <td>$0.00</td>\n    </tr>\n    <tr>\n      <th>16</th>\n      <td>(19.29011799530174, -99.16221067774308)</td>\n      <td>CAMION</td>\n      <td>Ninguna</td>\n      <td>Ninguno</td>\n      <td>8:35AM</td>\n      <td>$6.00</td>\n    </tr>\n    <tr>\n      <th>17</th>\n      <td>(19.304962766722397, -99.14440081050682)</td>\n      <td>CAMION</td>\n      <td>Ninguna</td>\n      <td>Ninguno</td>\n      <td>8:40AM</td>\n      <td>$0.00</td>\n    </tr>\n    <tr>\n      <th>18</th>\n      <td>(19.305286784907125, -99.14475486206437)</td>\n      <td>CAMION</td>\n      <td>Ninguna</td>\n      <td>Ninguno</td>\n      <td>8:45AM</td>\n      <td>$0.00</td>\n    </tr>\n    <tr>\n      <th>19</th>\n      <td>(19.297955716470298, -99.15205046991713)</td>\n      <td>CAMION</td>\n      <td>Ninguna</td>\n      <td>Ninguno</td>\n      <td>8:49AM</td>\n      <td>$0.00</td>\n    </tr>\n    <tr>\n      <th>20</th>\n      <td>(19.29700386857389, -99.15646002113401)</td>\n      <td>CAMION</td>\n      <td>Ninguna</td>\n      <td>Ninguno</td>\n      <td>8:53AM</td>\n      <td>$0.00</td>\n    </tr>\n    <tr>\n      <th>21</th>\n      <td>(19.30130739211318, -99.16091248769119)</td>\n      <td>CAMION</td>\n      <td>Ninguna</td>\n      <td>Ninguno</td>\n      <td>8:55AM</td>\n      <td>$0.00</td>\n    </tr>\n    <tr>\n      <th>22</th>\n      <td>(19.302249089227733, -99.16109487788752)</td>\n      <td>CAMION</td>\n      <td>Ninguna</td>\n      <td>Ninguno</td>\n      <td>8:57AM</td>\n      <td>$0.00</td>\n    </tr>\n    <tr>\n      <th>23</th>\n      <td>(19.303292037770092, -99.15983960418345)</td>\n      <td>CAMION</td>\n      <td>Ninguna</td>\n      <td>Ninguno</td>\n      <td>8:59AM</td>\n      <td>$0.00</td>\n    </tr>\n    <tr>\n      <th>24</th>\n      <td>(19.302340220918882, -99.15809080406581)</td>\n      <td>CAMION</td>\n      <td>Ninguna</td>\n      <td>Ninguno</td>\n      <td>9:03AM</td>\n      <td>$0.00</td>\n    </tr>\n    <tr>\n      <th>25</th>\n      <td>(19.30242818826706, -99.15795535252295)</td>\n      <td>CAMION</td>\n      <td>Ninguna</td>\n      <td>Ninguno</td>\n      <td>9:07AM</td>\n      <td>$0.00</td>\n    </tr>\n    <tr>\n      <th>26</th>\n      <td>(19.305281722202317, -99.16088633667069)</td>\n      <td>CAMION</td>\n      <td>Ninguna</td>\n      <td>Ninguno</td>\n      <td>9:10AM</td>\n      <td>$0.00</td>\n    </tr>\n    <tr>\n      <th>27</th>\n      <td>(19.30804344501267, -99.16098289619842)</td>\n      <td>CAMINAR</td>\n      <td>Ninguna</td>\n      <td>Ninguno</td>\n      <td>9:15AM</td>\n      <td>$0.00</td>\n    </tr>\n    <tr>\n      <th>28</th>\n      <td>(19.308987634714825, -99.16073613299064)</td>\n      <td>CAMINAR</td>\n      <td>Ninguna</td>\n      <td>Ninguno</td>\n      <td>9:18AM</td>\n      <td>$0.00</td>\n    </tr>\n    <tr>\n      <th>29</th>\n      <td>(19.308820566699055, -99.15997706790888)</td>\n      <td>CAMINAR</td>\n      <td>Ninguna</td>\n      <td>Ninguno</td>\n      <td>9:22AM</td>\n      <td>$0.00</td>\n    </tr>\n  </tbody>\n</table>\n</div>"
     },
     "execution_count": 54,
     "metadata": {},
     "output_type": "execute_result"
    }
   ],
   "source": [
    "# Recorrido 2\n",
    "df2 = pd.read_csv('DATASET/recorrido_2.csv')\n",
    "# Vemos su contenido\n",
    "df2 #.head()"
   ],
   "metadata": {
    "collapsed": false,
    "pycharm": {
     "name": "#%%\n"
    }
   }
  },
  {
   "cell_type": "code",
   "execution_count": 55,
   "outputs": [
    {
     "name": "stdout",
     "output_type": "stream",
     "text": [
      "<class 'pandas.core.frame.DataFrame'>\n",
      "RangeIndex: 30 entries, 0 to 29\n",
      "Data columns (total 6 columns):\n",
      " #   Column                    Non-Null Count  Dtype \n",
      "---  ------                    --------------  ----- \n",
      " 0   Coordenadas               30 non-null     object\n",
      " 1   Tipo Transporte           30 non-null     object\n",
      " 2   Coordenadas de Accidente  30 non-null     object\n",
      " 3   Tipo Accidente            30 non-null     object\n",
      " 4   Tiempo                    30 non-null     object\n",
      " 5   Costo                     30 non-null     object\n",
      "dtypes: object(6)\n",
      "memory usage: 1.5+ KB\n"
     ]
    }
   ],
   "source": [
    "df2.info()"
   ],
   "metadata": {
    "collapsed": false,
    "pycharm": {
     "name": "#%%\n"
    }
   }
  },
  {
   "cell_type": "code",
   "execution_count": 56,
   "outputs": [],
   "source": [
    "df2.Coordenadas =  df2.Coordenadas.str.strip('()')\n",
    "df2[['Longitude', 'Latitude']] = df2.Coordenadas.str.split(',', expand=True)\n",
    "df2.Costo =  df2.Costo.str.strip('$')\n",
    "# Casteamos los datos al tipo de dato\n",
    "df2 = df2.astype({'Longitude': float, 'Latitude': float, 'Costo': float})"
   ],
   "metadata": {
    "collapsed": false,
    "pycharm": {
     "name": "#%%\n"
    }
   }
  },
  {
   "cell_type": "code",
   "execution_count": 57,
   "outputs": [
    {
     "data": {
      "text/plain": "  Tipo Transporte Coordenadas de Accidente Tipo Accidente  Tiempo  Costo  \\\n0         CAMINAR                  Ninguna        Ninguno  5:30AM    0.0   \n1         CAMINAR                  Ninguna        Ninguno  5:33AM    0.0   \n2         CAMINAR                  Ninguna        Ninguno  5:40AM    0.0   \n3         CAMINAR                  Ninguna        Ninguno  5:43AM    0.0   \n4         CAMINAR                  Ninguna        Ninguno  5:48AM    0.0   \n\n   Longitude   Latitude  \n0  19.383083 -99.190627  \n1  19.383670 -99.190714  \n2  19.382961 -99.184162  \n3  19.383778 -99.183752  \n4  19.382706 -99.181376  ",
      "text/html": "<div>\n<style scoped>\n    .dataframe tbody tr th:only-of-type {\n        vertical-align: middle;\n    }\n\n    .dataframe tbody tr th {\n        vertical-align: top;\n    }\n\n    .dataframe thead th {\n        text-align: right;\n    }\n</style>\n<table border=\"1\" class=\"dataframe\">\n  <thead>\n    <tr style=\"text-align: right;\">\n      <th></th>\n      <th>Tipo Transporte</th>\n      <th>Coordenadas de Accidente</th>\n      <th>Tipo Accidente</th>\n      <th>Tiempo</th>\n      <th>Costo</th>\n      <th>Longitude</th>\n      <th>Latitude</th>\n    </tr>\n  </thead>\n  <tbody>\n    <tr>\n      <th>0</th>\n      <td>CAMINAR</td>\n      <td>Ninguna</td>\n      <td>Ninguno</td>\n      <td>5:30AM</td>\n      <td>0.0</td>\n      <td>19.383083</td>\n      <td>-99.190627</td>\n    </tr>\n    <tr>\n      <th>1</th>\n      <td>CAMINAR</td>\n      <td>Ninguna</td>\n      <td>Ninguno</td>\n      <td>5:33AM</td>\n      <td>0.0</td>\n      <td>19.383670</td>\n      <td>-99.190714</td>\n    </tr>\n    <tr>\n      <th>2</th>\n      <td>CAMINAR</td>\n      <td>Ninguna</td>\n      <td>Ninguno</td>\n      <td>5:40AM</td>\n      <td>0.0</td>\n      <td>19.382961</td>\n      <td>-99.184162</td>\n    </tr>\n    <tr>\n      <th>3</th>\n      <td>CAMINAR</td>\n      <td>Ninguna</td>\n      <td>Ninguno</td>\n      <td>5:43AM</td>\n      <td>0.0</td>\n      <td>19.383778</td>\n      <td>-99.183752</td>\n    </tr>\n    <tr>\n      <th>4</th>\n      <td>CAMINAR</td>\n      <td>Ninguna</td>\n      <td>Ninguno</td>\n      <td>5:48AM</td>\n      <td>0.0</td>\n      <td>19.382706</td>\n      <td>-99.181376</td>\n    </tr>\n  </tbody>\n</table>\n</div>"
     },
     "execution_count": 57,
     "metadata": {},
     "output_type": "execute_result"
    }
   ],
   "source": [
    "# Eliminamos la columna Coordenadas\n",
    "df2 = df2.drop('Coordenadas', axis=1)\n",
    "# Vemos el resultaod\n",
    "df2.head()"
   ],
   "metadata": {
    "collapsed": false,
    "pycharm": {
     "name": "#%%\n"
    }
   }
  },
  {
   "cell_type": "code",
   "execution_count": 59,
   "outputs": [
    {
     "name": "stdout",
     "output_type": "stream",
     "text": [
      "<class 'geopandas.geodataframe.GeoDataFrame'>\n",
      "RangeIndex: 30 entries, 0 to 29\n",
      "Data columns (total 9 columns):\n",
      " #   Column                    Non-Null Count  Dtype   \n",
      "---  ------                    --------------  -----   \n",
      " 0   Tipo Transporte           30 non-null     object  \n",
      " 1   Coordenadas de Accidente  30 non-null     object  \n",
      " 2   Tipo Accidente            30 non-null     object  \n",
      " 3   Tiempo                    30 non-null     object  \n",
      " 4   Costo                     30 non-null     float64 \n",
      " 5   Longitude                 30 non-null     float64 \n",
      " 6   Latitude                  30 non-null     float64 \n",
      " 7   geometry                  30 non-null     geometry\n",
      " 8   loc                       30 non-null     object  \n",
      "dtypes: float64(3), geometry(1), object(5)\n",
      "memory usage: 2.2+ KB\n"
     ]
    }
   ],
   "source": [
    "# Pasamos la informacion a un GeoDataframe\n",
    "gdf2 = gpd.GeoDataFrame(df2, geometry=gpd.points_from_xy(df2.Latitude, df2.Longitude), crs =\"EPSG:4326\")\n",
    "\n",
    "gdf2['loc'] = gdf2.geometry.apply(lambda x:shapely.geometry.mapping(x))\n",
    "# Show\n",
    "gdf2.info()"
   ],
   "metadata": {
    "collapsed": false,
    "pycharm": {
     "name": "#%%\n"
    }
   }
  },
  {
   "cell_type": "code",
   "execution_count": 60,
   "outputs": [
    {
     "data": {
      "text/plain": "   Tipo Transporte Coordenadas de Accidente Tipo Accidente  Tiempo  Costo  \\\n0          CAMINAR                  Ninguna        Ninguno  5:30AM    0.0   \n1          CAMINAR                  Ninguna        Ninguno  5:33AM    0.0   \n2          CAMINAR                  Ninguna        Ninguno  5:40AM    0.0   \n3          CAMINAR                  Ninguna        Ninguno  5:43AM    0.0   \n4          CAMINAR                  Ninguna        Ninguno  5:48AM    0.0   \n5          CAMINAR                  Ninguna        Ninguno  5:52AM    0.0   \n6          CAMINAR                  Ninguna        Ninguno  6:00AM    0.0   \n7          CAMINAR                  Ninguna        Ninguno  6:15AM    0.0   \n8         METROBUS                  Ninguna        Ninguno  7:25AM    6.0   \n9         METROBUS                  Ninguna        Ninguno  7:45AM    0.0   \n10        METROBUS                  Ninguna        Ninguno  7:58AM    0.0   \n11        METROBUS                  Ninguna        Ninguno  8:05AM    0.0   \n12        METROBUS                  Ninguna        Ninguno  8:15AM    0.0   \n13        METROBUS                  Ninguna        Ninguno  8:25AM    0.0   \n14         CAMINAR                  Ninguna        Ninguno  8:29AM    0.0   \n15         CAMINAR                  Ninguna        Ninguno  8:31AM    0.0   \n16          CAMION                  Ninguna        Ninguno  8:35AM    6.0   \n17          CAMION                  Ninguna        Ninguno  8:40AM    0.0   \n18          CAMION                  Ninguna        Ninguno  8:45AM    0.0   \n19          CAMION                  Ninguna        Ninguno  8:49AM    0.0   \n20          CAMION                  Ninguna        Ninguno  8:53AM    0.0   \n21          CAMION                  Ninguna        Ninguno  8:55AM    0.0   \n22          CAMION                  Ninguna        Ninguno  8:57AM    0.0   \n23          CAMION                  Ninguna        Ninguno  8:59AM    0.0   \n24          CAMION                  Ninguna        Ninguno  9:03AM    0.0   \n25          CAMION                  Ninguna        Ninguno  9:07AM    0.0   \n26          CAMION                  Ninguna        Ninguno  9:10AM    0.0   \n27         CAMINAR                  Ninguna        Ninguno  9:15AM    0.0   \n28         CAMINAR                  Ninguna        Ninguno  9:18AM    0.0   \n29         CAMINAR                  Ninguna        Ninguno  9:22AM    0.0   \n\n    Longitude   Latitude                    geometry  \\\n0   19.383083 -99.190627  POINT (-99.19063 19.38308)   \n1   19.383670 -99.190714  POINT (-99.19071 19.38367)   \n2   19.382961 -99.184162  POINT (-99.18416 19.38296)   \n3   19.383778 -99.183752  POINT (-99.18375 19.38378)   \n4   19.382706 -99.181376  POINT (-99.18138 19.38271)   \n5   19.381668 -99.179493  POINT (-99.17949 19.38167)   \n6   19.382840 -99.176178  POINT (-99.17618 19.38284)   \n7   19.382501 -99.176153  POINT (-99.17615 19.38250)   \n8   19.339795 -99.190459  POINT (-99.19046 19.33980)   \n9   19.295772 -99.185008  POINT (-99.18501 19.29577)   \n10  19.290719 -99.173700  POINT (-99.17370 19.29072)   \n11  19.284633 -99.175846  POINT (-99.17585 19.28463)   \n12  19.282689 -99.174998  POINT (-99.17500 19.28269)   \n13  19.280339 -99.170063  POINT (-99.17006 19.28034)   \n14  19.279474 -99.167958  POINT (-99.16796 19.27947)   \n15  19.279612 -99.166732  POINT (-99.16673 19.27961)   \n16  19.290118 -99.162211  POINT (-99.16221 19.29012)   \n17  19.304963 -99.144401  POINT (-99.14440 19.30496)   \n18  19.305287 -99.144755  POINT (-99.14475 19.30529)   \n19  19.297956 -99.152050  POINT (-99.15205 19.29796)   \n20  19.297004 -99.156460  POINT (-99.15646 19.29700)   \n21  19.301307 -99.160912  POINT (-99.16091 19.30131)   \n22  19.302249 -99.161095  POINT (-99.16109 19.30225)   \n23  19.303292 -99.159840  POINT (-99.15984 19.30329)   \n24  19.302340 -99.158091  POINT (-99.15809 19.30234)   \n25  19.302428 -99.157955  POINT (-99.15796 19.30243)   \n26  19.305282 -99.160886  POINT (-99.16089 19.30528)   \n27  19.308043 -99.160983  POINT (-99.16098 19.30804)   \n28  19.308988 -99.160736  POINT (-99.16074 19.30899)   \n29  19.308821 -99.159977  POINT (-99.15998 19.30882)   \n\n                                                  loc  \n0   {'type': 'Point', 'coordinates': (-99.19062714...  \n1   {'type': 'Point', 'coordinates': (-99.19071438...  \n2   {'type': 'Point', 'coordinates': (-99.18416246...  \n3   {'type': 'Point', 'coordinates': (-99.18375208...  \n4   {'type': 'Point', 'coordinates': (-99.18137564...  \n5   {'type': 'Point', 'coordinates': (-99.17949273...  \n6   {'type': 'Point', 'coordinates': (-99.17617752...  \n7   {'type': 'Point', 'coordinates': (-99.17615338...  \n8   {'type': 'Point', 'coordinates': (-99.19045862...  \n9   {'type': 'Point', 'coordinates': (-99.18500837...  \n10  {'type': 'Point', 'coordinates': (-99.17370018...  \n11  {'type': 'Point', 'coordinates': (-99.17584595...  \n12  {'type': 'Point', 'coordinates': (-99.17499837...  \n13  {'type': 'Point', 'coordinates': (-99.17006310...  \n14  {'type': 'Point', 'coordinates': (-99.16795757...  \n15  {'type': 'Point', 'coordinates': (-99.16673180...  \n16  {'type': 'Point', 'coordinates': (-99.16221067...  \n17  {'type': 'Point', 'coordinates': (-99.14440081...  \n18  {'type': 'Point', 'coordinates': (-99.14475486...  \n19  {'type': 'Point', 'coordinates': (-99.15205046...  \n20  {'type': 'Point', 'coordinates': (-99.15646002...  \n21  {'type': 'Point', 'coordinates': (-99.16091248...  \n22  {'type': 'Point', 'coordinates': (-99.16109487...  \n23  {'type': 'Point', 'coordinates': (-99.15983960...  \n24  {'type': 'Point', 'coordinates': (-99.15809080...  \n25  {'type': 'Point', 'coordinates': (-99.15795535...  \n26  {'type': 'Point', 'coordinates': (-99.16088633...  \n27  {'type': 'Point', 'coordinates': (-99.16098289...  \n28  {'type': 'Point', 'coordinates': (-99.16073613...  \n29  {'type': 'Point', 'coordinates': (-99.15997706...  ",
      "text/html": "<div>\n<style scoped>\n    .dataframe tbody tr th:only-of-type {\n        vertical-align: middle;\n    }\n\n    .dataframe tbody tr th {\n        vertical-align: top;\n    }\n\n    .dataframe thead th {\n        text-align: right;\n    }\n</style>\n<table border=\"1\" class=\"dataframe\">\n  <thead>\n    <tr style=\"text-align: right;\">\n      <th></th>\n      <th>Tipo Transporte</th>\n      <th>Coordenadas de Accidente</th>\n      <th>Tipo Accidente</th>\n      <th>Tiempo</th>\n      <th>Costo</th>\n      <th>Longitude</th>\n      <th>Latitude</th>\n      <th>geometry</th>\n      <th>loc</th>\n    </tr>\n  </thead>\n  <tbody>\n    <tr>\n      <th>0</th>\n      <td>CAMINAR</td>\n      <td>Ninguna</td>\n      <td>Ninguno</td>\n      <td>5:30AM</td>\n      <td>0.0</td>\n      <td>19.383083</td>\n      <td>-99.190627</td>\n      <td>POINT (-99.19063 19.38308)</td>\n      <td>{'type': 'Point', 'coordinates': (-99.19062714...</td>\n    </tr>\n    <tr>\n      <th>1</th>\n      <td>CAMINAR</td>\n      <td>Ninguna</td>\n      <td>Ninguno</td>\n      <td>5:33AM</td>\n      <td>0.0</td>\n      <td>19.383670</td>\n      <td>-99.190714</td>\n      <td>POINT (-99.19071 19.38367)</td>\n      <td>{'type': 'Point', 'coordinates': (-99.19071438...</td>\n    </tr>\n    <tr>\n      <th>2</th>\n      <td>CAMINAR</td>\n      <td>Ninguna</td>\n      <td>Ninguno</td>\n      <td>5:40AM</td>\n      <td>0.0</td>\n      <td>19.382961</td>\n      <td>-99.184162</td>\n      <td>POINT (-99.18416 19.38296)</td>\n      <td>{'type': 'Point', 'coordinates': (-99.18416246...</td>\n    </tr>\n    <tr>\n      <th>3</th>\n      <td>CAMINAR</td>\n      <td>Ninguna</td>\n      <td>Ninguno</td>\n      <td>5:43AM</td>\n      <td>0.0</td>\n      <td>19.383778</td>\n      <td>-99.183752</td>\n      <td>POINT (-99.18375 19.38378)</td>\n      <td>{'type': 'Point', 'coordinates': (-99.18375208...</td>\n    </tr>\n    <tr>\n      <th>4</th>\n      <td>CAMINAR</td>\n      <td>Ninguna</td>\n      <td>Ninguno</td>\n      <td>5:48AM</td>\n      <td>0.0</td>\n      <td>19.382706</td>\n      <td>-99.181376</td>\n      <td>POINT (-99.18138 19.38271)</td>\n      <td>{'type': 'Point', 'coordinates': (-99.18137564...</td>\n    </tr>\n    <tr>\n      <th>5</th>\n      <td>CAMINAR</td>\n      <td>Ninguna</td>\n      <td>Ninguno</td>\n      <td>5:52AM</td>\n      <td>0.0</td>\n      <td>19.381668</td>\n      <td>-99.179493</td>\n      <td>POINT (-99.17949 19.38167)</td>\n      <td>{'type': 'Point', 'coordinates': (-99.17949273...</td>\n    </tr>\n    <tr>\n      <th>6</th>\n      <td>CAMINAR</td>\n      <td>Ninguna</td>\n      <td>Ninguno</td>\n      <td>6:00AM</td>\n      <td>0.0</td>\n      <td>19.382840</td>\n      <td>-99.176178</td>\n      <td>POINT (-99.17618 19.38284)</td>\n      <td>{'type': 'Point', 'coordinates': (-99.17617752...</td>\n    </tr>\n    <tr>\n      <th>7</th>\n      <td>CAMINAR</td>\n      <td>Ninguna</td>\n      <td>Ninguno</td>\n      <td>6:15AM</td>\n      <td>0.0</td>\n      <td>19.382501</td>\n      <td>-99.176153</td>\n      <td>POINT (-99.17615 19.38250)</td>\n      <td>{'type': 'Point', 'coordinates': (-99.17615338...</td>\n    </tr>\n    <tr>\n      <th>8</th>\n      <td>METROBUS</td>\n      <td>Ninguna</td>\n      <td>Ninguno</td>\n      <td>7:25AM</td>\n      <td>6.0</td>\n      <td>19.339795</td>\n      <td>-99.190459</td>\n      <td>POINT (-99.19046 19.33980)</td>\n      <td>{'type': 'Point', 'coordinates': (-99.19045862...</td>\n    </tr>\n    <tr>\n      <th>9</th>\n      <td>METROBUS</td>\n      <td>Ninguna</td>\n      <td>Ninguno</td>\n      <td>7:45AM</td>\n      <td>0.0</td>\n      <td>19.295772</td>\n      <td>-99.185008</td>\n      <td>POINT (-99.18501 19.29577)</td>\n      <td>{'type': 'Point', 'coordinates': (-99.18500837...</td>\n    </tr>\n    <tr>\n      <th>10</th>\n      <td>METROBUS</td>\n      <td>Ninguna</td>\n      <td>Ninguno</td>\n      <td>7:58AM</td>\n      <td>0.0</td>\n      <td>19.290719</td>\n      <td>-99.173700</td>\n      <td>POINT (-99.17370 19.29072)</td>\n      <td>{'type': 'Point', 'coordinates': (-99.17370018...</td>\n    </tr>\n    <tr>\n      <th>11</th>\n      <td>METROBUS</td>\n      <td>Ninguna</td>\n      <td>Ninguno</td>\n      <td>8:05AM</td>\n      <td>0.0</td>\n      <td>19.284633</td>\n      <td>-99.175846</td>\n      <td>POINT (-99.17585 19.28463)</td>\n      <td>{'type': 'Point', 'coordinates': (-99.17584595...</td>\n    </tr>\n    <tr>\n      <th>12</th>\n      <td>METROBUS</td>\n      <td>Ninguna</td>\n      <td>Ninguno</td>\n      <td>8:15AM</td>\n      <td>0.0</td>\n      <td>19.282689</td>\n      <td>-99.174998</td>\n      <td>POINT (-99.17500 19.28269)</td>\n      <td>{'type': 'Point', 'coordinates': (-99.17499837...</td>\n    </tr>\n    <tr>\n      <th>13</th>\n      <td>METROBUS</td>\n      <td>Ninguna</td>\n      <td>Ninguno</td>\n      <td>8:25AM</td>\n      <td>0.0</td>\n      <td>19.280339</td>\n      <td>-99.170063</td>\n      <td>POINT (-99.17006 19.28034)</td>\n      <td>{'type': 'Point', 'coordinates': (-99.17006310...</td>\n    </tr>\n    <tr>\n      <th>14</th>\n      <td>CAMINAR</td>\n      <td>Ninguna</td>\n      <td>Ninguno</td>\n      <td>8:29AM</td>\n      <td>0.0</td>\n      <td>19.279474</td>\n      <td>-99.167958</td>\n      <td>POINT (-99.16796 19.27947)</td>\n      <td>{'type': 'Point', 'coordinates': (-99.16795757...</td>\n    </tr>\n    <tr>\n      <th>15</th>\n      <td>CAMINAR</td>\n      <td>Ninguna</td>\n      <td>Ninguno</td>\n      <td>8:31AM</td>\n      <td>0.0</td>\n      <td>19.279612</td>\n      <td>-99.166732</td>\n      <td>POINT (-99.16673 19.27961)</td>\n      <td>{'type': 'Point', 'coordinates': (-99.16673180...</td>\n    </tr>\n    <tr>\n      <th>16</th>\n      <td>CAMION</td>\n      <td>Ninguna</td>\n      <td>Ninguno</td>\n      <td>8:35AM</td>\n      <td>6.0</td>\n      <td>19.290118</td>\n      <td>-99.162211</td>\n      <td>POINT (-99.16221 19.29012)</td>\n      <td>{'type': 'Point', 'coordinates': (-99.16221067...</td>\n    </tr>\n    <tr>\n      <th>17</th>\n      <td>CAMION</td>\n      <td>Ninguna</td>\n      <td>Ninguno</td>\n      <td>8:40AM</td>\n      <td>0.0</td>\n      <td>19.304963</td>\n      <td>-99.144401</td>\n      <td>POINT (-99.14440 19.30496)</td>\n      <td>{'type': 'Point', 'coordinates': (-99.14440081...</td>\n    </tr>\n    <tr>\n      <th>18</th>\n      <td>CAMION</td>\n      <td>Ninguna</td>\n      <td>Ninguno</td>\n      <td>8:45AM</td>\n      <td>0.0</td>\n      <td>19.305287</td>\n      <td>-99.144755</td>\n      <td>POINT (-99.14475 19.30529)</td>\n      <td>{'type': 'Point', 'coordinates': (-99.14475486...</td>\n    </tr>\n    <tr>\n      <th>19</th>\n      <td>CAMION</td>\n      <td>Ninguna</td>\n      <td>Ninguno</td>\n      <td>8:49AM</td>\n      <td>0.0</td>\n      <td>19.297956</td>\n      <td>-99.152050</td>\n      <td>POINT (-99.15205 19.29796)</td>\n      <td>{'type': 'Point', 'coordinates': (-99.15205046...</td>\n    </tr>\n    <tr>\n      <th>20</th>\n      <td>CAMION</td>\n      <td>Ninguna</td>\n      <td>Ninguno</td>\n      <td>8:53AM</td>\n      <td>0.0</td>\n      <td>19.297004</td>\n      <td>-99.156460</td>\n      <td>POINT (-99.15646 19.29700)</td>\n      <td>{'type': 'Point', 'coordinates': (-99.15646002...</td>\n    </tr>\n    <tr>\n      <th>21</th>\n      <td>CAMION</td>\n      <td>Ninguna</td>\n      <td>Ninguno</td>\n      <td>8:55AM</td>\n      <td>0.0</td>\n      <td>19.301307</td>\n      <td>-99.160912</td>\n      <td>POINT (-99.16091 19.30131)</td>\n      <td>{'type': 'Point', 'coordinates': (-99.16091248...</td>\n    </tr>\n    <tr>\n      <th>22</th>\n      <td>CAMION</td>\n      <td>Ninguna</td>\n      <td>Ninguno</td>\n      <td>8:57AM</td>\n      <td>0.0</td>\n      <td>19.302249</td>\n      <td>-99.161095</td>\n      <td>POINT (-99.16109 19.30225)</td>\n      <td>{'type': 'Point', 'coordinates': (-99.16109487...</td>\n    </tr>\n    <tr>\n      <th>23</th>\n      <td>CAMION</td>\n      <td>Ninguna</td>\n      <td>Ninguno</td>\n      <td>8:59AM</td>\n      <td>0.0</td>\n      <td>19.303292</td>\n      <td>-99.159840</td>\n      <td>POINT (-99.15984 19.30329)</td>\n      <td>{'type': 'Point', 'coordinates': (-99.15983960...</td>\n    </tr>\n    <tr>\n      <th>24</th>\n      <td>CAMION</td>\n      <td>Ninguna</td>\n      <td>Ninguno</td>\n      <td>9:03AM</td>\n      <td>0.0</td>\n      <td>19.302340</td>\n      <td>-99.158091</td>\n      <td>POINT (-99.15809 19.30234)</td>\n      <td>{'type': 'Point', 'coordinates': (-99.15809080...</td>\n    </tr>\n    <tr>\n      <th>25</th>\n      <td>CAMION</td>\n      <td>Ninguna</td>\n      <td>Ninguno</td>\n      <td>9:07AM</td>\n      <td>0.0</td>\n      <td>19.302428</td>\n      <td>-99.157955</td>\n      <td>POINT (-99.15796 19.30243)</td>\n      <td>{'type': 'Point', 'coordinates': (-99.15795535...</td>\n    </tr>\n    <tr>\n      <th>26</th>\n      <td>CAMION</td>\n      <td>Ninguna</td>\n      <td>Ninguno</td>\n      <td>9:10AM</td>\n      <td>0.0</td>\n      <td>19.305282</td>\n      <td>-99.160886</td>\n      <td>POINT (-99.16089 19.30528)</td>\n      <td>{'type': 'Point', 'coordinates': (-99.16088633...</td>\n    </tr>\n    <tr>\n      <th>27</th>\n      <td>CAMINAR</td>\n      <td>Ninguna</td>\n      <td>Ninguno</td>\n      <td>9:15AM</td>\n      <td>0.0</td>\n      <td>19.308043</td>\n      <td>-99.160983</td>\n      <td>POINT (-99.16098 19.30804)</td>\n      <td>{'type': 'Point', 'coordinates': (-99.16098289...</td>\n    </tr>\n    <tr>\n      <th>28</th>\n      <td>CAMINAR</td>\n      <td>Ninguna</td>\n      <td>Ninguno</td>\n      <td>9:18AM</td>\n      <td>0.0</td>\n      <td>19.308988</td>\n      <td>-99.160736</td>\n      <td>POINT (-99.16074 19.30899)</td>\n      <td>{'type': 'Point', 'coordinates': (-99.16073613...</td>\n    </tr>\n    <tr>\n      <th>29</th>\n      <td>CAMINAR</td>\n      <td>Ninguna</td>\n      <td>Ninguno</td>\n      <td>9:22AM</td>\n      <td>0.0</td>\n      <td>19.308821</td>\n      <td>-99.159977</td>\n      <td>POINT (-99.15998 19.30882)</td>\n      <td>{'type': 'Point', 'coordinates': (-99.15997706...</td>\n    </tr>\n  </tbody>\n</table>\n</div>"
     },
     "execution_count": 60,
     "metadata": {},
     "output_type": "execute_result"
    }
   ],
   "source": [
    "gdf2"
   ],
   "metadata": {
    "collapsed": false,
    "pycharm": {
     "name": "#%%\n"
    }
   }
  },
  {
   "cell_type": "code",
   "execution_count": 95,
   "outputs": [],
   "source": [
    "cdmx = [19.432608, -99.133209]\n",
    "\n",
    "# Creamos el mapa\n",
    "m2 = folium.Map(location=cdmx, zoom_start=12, tiles='cartodbpositron')"
   ],
   "metadata": {
    "collapsed": false,
    "pycharm": {
     "name": "#%%\n"
    }
   }
  },
  {
   "cell_type": "code",
   "execution_count": 96,
   "outputs": [
    {
     "data": {
      "text/plain": "<folium.folium.Map at 0x1cbbc047e20>",
      "text/html": "<div style=\"width:100%;\"><div style=\"position:relative;width:100%;height:0;padding-bottom:60%;\"><span style=\"color:#565656\">Make this Notebook Trusted to load map: File -> Trust Notebook</span><iframe srcdoc=\"&lt;!DOCTYPE html&gt;\n&lt;head&gt;    \n    &lt;meta http-equiv=&quot;content-type&quot; content=&quot;text/html; charset=UTF-8&quot; /&gt;\n    \n        &lt;script&gt;\n            L_NO_TOUCH = false;\n            L_DISABLE_3D = false;\n        &lt;/script&gt;\n    \n    &lt;style&gt;html, body {width: 100%;height: 100%;margin: 0;padding: 0;}&lt;/style&gt;\n    &lt;style&gt;#map {position:absolute;top:0;bottom:0;right:0;left:0;}&lt;/style&gt;\n    &lt;script src=&quot;https://cdn.jsdelivr.net/npm/leaflet@1.6.0/dist/leaflet.js&quot;&gt;&lt;/script&gt;\n    &lt;script src=&quot;https://code.jquery.com/jquery-1.12.4.min.js&quot;&gt;&lt;/script&gt;\n    &lt;script src=&quot;https://maxcdn.bootstrapcdn.com/bootstrap/3.2.0/js/bootstrap.min.js&quot;&gt;&lt;/script&gt;\n    &lt;script src=&quot;https://cdnjs.cloudflare.com/ajax/libs/Leaflet.awesome-markers/2.0.2/leaflet.awesome-markers.js&quot;&gt;&lt;/script&gt;\n    &lt;link rel=&quot;stylesheet&quot; href=&quot;https://cdn.jsdelivr.net/npm/leaflet@1.6.0/dist/leaflet.css&quot;/&gt;\n    &lt;link rel=&quot;stylesheet&quot; href=&quot;https://maxcdn.bootstrapcdn.com/bootstrap/3.2.0/css/bootstrap.min.css&quot;/&gt;\n    &lt;link rel=&quot;stylesheet&quot; href=&quot;https://maxcdn.bootstrapcdn.com/bootstrap/3.2.0/css/bootstrap-theme.min.css&quot;/&gt;\n    &lt;link rel=&quot;stylesheet&quot; href=&quot;https://maxcdn.bootstrapcdn.com/font-awesome/4.6.3/css/font-awesome.min.css&quot;/&gt;\n    &lt;link rel=&quot;stylesheet&quot; href=&quot;https://cdnjs.cloudflare.com/ajax/libs/Leaflet.awesome-markers/2.0.2/leaflet.awesome-markers.css&quot;/&gt;\n    &lt;link rel=&quot;stylesheet&quot; href=&quot;https://cdn.jsdelivr.net/gh/python-visualization/folium/folium/templates/leaflet.awesome.rotate.min.css&quot;/&gt;\n    \n            &lt;meta name=&quot;viewport&quot; content=&quot;width=device-width,\n                initial-scale=1.0, maximum-scale=1.0, user-scalable=no&quot; /&gt;\n            &lt;style&gt;\n                #map_b9ebbf8c5b49703fd12e86d8cc2b3cff {\n                    position: relative;\n                    width: 100.0%;\n                    height: 100.0%;\n                    left: 0.0%;\n                    top: 0.0%;\n                }\n            &lt;/style&gt;\n        \n&lt;/head&gt;\n&lt;body&gt;    \n    \n            &lt;div class=&quot;folium-map&quot; id=&quot;map_b9ebbf8c5b49703fd12e86d8cc2b3cff&quot; &gt;&lt;/div&gt;\n        \n&lt;/body&gt;\n&lt;script&gt;    \n    \n            var map_b9ebbf8c5b49703fd12e86d8cc2b3cff = L.map(\n                &quot;map_b9ebbf8c5b49703fd12e86d8cc2b3cff&quot;,\n                {\n                    center: [19.432608, -99.133209],\n                    crs: L.CRS.EPSG3857,\n                    zoom: 12,\n                    zoomControl: true,\n                    preferCanvas: false,\n                }\n            );\n\n            \n\n        \n    \n            var tile_layer_0f79e292e1e75d12a8f431d76a03b0ae = L.tileLayer(\n                &quot;https://cartodb-basemaps-{s}.global.ssl.fastly.net/light_all/{z}/{x}/{y}.png&quot;,\n                {&quot;attribution&quot;: &quot;\\u0026copy; \\u003ca href=\\&quot;http://www.openstreetmap.org/copyright\\&quot;\\u003eOpenStreetMap\\u003c/a\\u003e contributors \\u0026copy; \\u003ca href=\\&quot;http://cartodb.com/attributions\\&quot;\\u003eCartoDB\\u003c/a\\u003e, CartoDB \\u003ca href =\\&quot;http://cartodb.com/attributions\\&quot;\\u003eattributions\\u003c/a\\u003e&quot;, &quot;detectRetina&quot;: false, &quot;maxNativeZoom&quot;: 18, &quot;maxZoom&quot;: 18, &quot;minZoom&quot;: 0, &quot;noWrap&quot;: false, &quot;opacity&quot;: 1, &quot;subdomains&quot;: &quot;abc&quot;, &quot;tms&quot;: false}\n            ).addTo(map_b9ebbf8c5b49703fd12e86d8cc2b3cff);\n        \n    \n            var layer_control_56e700c6fd3f094c37bbbfe36d52d2c9 = {\n                base_layers : {\n                    &quot;cartodbpositron&quot; : tile_layer_0f79e292e1e75d12a8f431d76a03b0ae,\n                },\n                overlays :  {\n                },\n            };\n            L.control.layers(\n                layer_control_56e700c6fd3f094c37bbbfe36d52d2c9.base_layers,\n                layer_control_56e700c6fd3f094c37bbbfe36d52d2c9.overlays,\n                {&quot;autoZIndex&quot;: true, &quot;collapsed&quot;: true, &quot;position&quot;: &quot;topright&quot;}\n            ).addTo(map_b9ebbf8c5b49703fd12e86d8cc2b3cff);\n        \n&lt;/script&gt;\" style=\"position:absolute;width:100%;height:100%;left:0;top:0;border:none !important;\" allowfullscreen webkitallowfullscreen mozallowfullscreen></iframe></div></div>"
     },
     "execution_count": 96,
     "metadata": {},
     "output_type": "execute_result"
    }
   ],
   "source": [
    "geopath2 = gdf2.geometry.to_json()\n",
    "#print(geopath)\n",
    "poligonos2 = folium.features.GeoJson(geopath2)\n",
    "m.add_child(poligonos2)\n",
    "folium.LayerControl().add_to(m2)\n",
    "m2"
   ],
   "metadata": {
    "collapsed": false,
    "pycharm": {
     "name": "#%%\n"
    }
   }
  },
  {
   "cell_type": "code",
   "execution_count": 69,
   "outputs": [
    {
     "data": {
      "text/plain": "<folium.folium.Map at 0x2dfe37dd930>",
      "text/html": "<div style=\"width:100%;\"><div style=\"position:relative;width:100%;height:0;padding-bottom:60%;\"><span style=\"color:#565656\">Make this Notebook Trusted to load map: File -> Trust Notebook</span><iframe srcdoc=\"&lt;!DOCTYPE html&gt;\n&lt;head&gt;    \n    &lt;meta http-equiv=&quot;content-type&quot; content=&quot;text/html; charset=UTF-8&quot; /&gt;\n    \n        &lt;script&gt;\n            L_NO_TOUCH = false;\n            L_DISABLE_3D = false;\n        &lt;/script&gt;\n    \n    &lt;style&gt;html, body {width: 100%;height: 100%;margin: 0;padding: 0;}&lt;/style&gt;\n    &lt;style&gt;#map {position:absolute;top:0;bottom:0;right:0;left:0;}&lt;/style&gt;\n    &lt;script src=&quot;https://cdn.jsdelivr.net/npm/leaflet@1.6.0/dist/leaflet.js&quot;&gt;&lt;/script&gt;\n    &lt;script src=&quot;https://code.jquery.com/jquery-1.12.4.min.js&quot;&gt;&lt;/script&gt;\n    &lt;script src=&quot;https://maxcdn.bootstrapcdn.com/bootstrap/3.2.0/js/bootstrap.min.js&quot;&gt;&lt;/script&gt;\n    &lt;script src=&quot;https://cdnjs.cloudflare.com/ajax/libs/Leaflet.awesome-markers/2.0.2/leaflet.awesome-markers.js&quot;&gt;&lt;/script&gt;\n    &lt;link rel=&quot;stylesheet&quot; href=&quot;https://cdn.jsdelivr.net/npm/leaflet@1.6.0/dist/leaflet.css&quot;/&gt;\n    &lt;link rel=&quot;stylesheet&quot; href=&quot;https://maxcdn.bootstrapcdn.com/bootstrap/3.2.0/css/bootstrap.min.css&quot;/&gt;\n    &lt;link rel=&quot;stylesheet&quot; href=&quot;https://maxcdn.bootstrapcdn.com/bootstrap/3.2.0/css/bootstrap-theme.min.css&quot;/&gt;\n    &lt;link rel=&quot;stylesheet&quot; href=&quot;https://maxcdn.bootstrapcdn.com/font-awesome/4.6.3/css/font-awesome.min.css&quot;/&gt;\n    &lt;link rel=&quot;stylesheet&quot; href=&quot;https://cdnjs.cloudflare.com/ajax/libs/Leaflet.awesome-markers/2.0.2/leaflet.awesome-markers.css&quot;/&gt;\n    &lt;link rel=&quot;stylesheet&quot; href=&quot;https://cdn.jsdelivr.net/gh/python-visualization/folium/folium/templates/leaflet.awesome.rotate.min.css&quot;/&gt;\n    \n            &lt;meta name=&quot;viewport&quot; content=&quot;width=device-width,\n                initial-scale=1.0, maximum-scale=1.0, user-scalable=no&quot; /&gt;\n            &lt;style&gt;\n                #map_2017650e9470814093899551dbbb72c8 {\n                    position: relative;\n                    width: 100.0%;\n                    height: 100.0%;\n                    left: 0.0%;\n                    top: 0.0%;\n                }\n            &lt;/style&gt;\n        \n    \n                    &lt;style&gt;\n                        .foliumtooltip {\n                            \n                        }\n                       .foliumtooltip table{\n                            margin: auto;\n                        }\n                        .foliumtooltip tr{\n                            text-align: left;\n                        }\n                        .foliumtooltip th{\n                            padding: 2px; padding-right: 8px;\n                        }\n                    &lt;/style&gt;\n            \n&lt;/head&gt;\n&lt;body&gt;    \n    \n            &lt;div class=&quot;folium-map&quot; id=&quot;map_2017650e9470814093899551dbbb72c8&quot; &gt;&lt;/div&gt;\n        \n&lt;/body&gt;\n&lt;script&gt;    \n    \n            var map_2017650e9470814093899551dbbb72c8 = L.map(\n                &quot;map_2017650e9470814093899551dbbb72c8&quot;,\n                {\n                    center: [19.3316259637757, -99.167557595944],\n                    crs: L.CRS.EPSG3857,\n                    zoom: 10,\n                    zoomControl: true,\n                    preferCanvas: false,\n                }\n            );\n            L.control.scale().addTo(map_2017650e9470814093899551dbbb72c8);\n\n            \n\n        \n    \n            var tile_layer_bfc676ec0b65cc172d4a5f4635f54c72 = L.tileLayer(\n                &quot;https://a.basemaps.cartocdn.com/light_all/{z}/{x}/{y}{r}.png&quot;,\n                {&quot;attribution&quot;: &quot;\\u0026copy; \\u003ca href=\\&quot;https://www.openstreetmap.org/copyright\\&quot;\\u003eOpenStreetMap\\u003c/a\\u003e contributors \\u0026copy; \\u003ca href=\\&quot;https://carto.com/attributions\\&quot;\\u003eCARTO\\u003c/a\\u003e&quot;, &quot;detectRetina&quot;: false, &quot;maxNativeZoom&quot;: 20, &quot;maxZoom&quot;: 20, &quot;minZoom&quot;: 0, &quot;noWrap&quot;: false, &quot;opacity&quot;: 1, &quot;subdomains&quot;: &quot;abc&quot;, &quot;tms&quot;: false}\n            ).addTo(map_2017650e9470814093899551dbbb72c8);\n        \n    \n            map_2017650e9470814093899551dbbb72c8.fitBounds(\n                [[19.27947360377738, -99.19071438138118], [19.38377832377402, -99.14440081050682]],\n                {}\n            );\n        \n    \n        function geo_json_62fbf2aef8504f8c8e1dbf549bf7db6b_styler(feature) {\n            switch(feature.id) {\n                default:\n                    return {&quot;fillOpacity&quot;: 0.5, &quot;weight&quot;: 2};\n            }\n        }\n        function geo_json_62fbf2aef8504f8c8e1dbf549bf7db6b_highlighter(feature) {\n            switch(feature.id) {\n                default:\n                    return {&quot;fillOpacity&quot;: 0.75};\n            }\n        }\n        function geo_json_62fbf2aef8504f8c8e1dbf549bf7db6b_pointToLayer(feature, latlng) {\n            var opts = {&quot;bubblingMouseEvents&quot;: true, &quot;color&quot;: &quot;#3388ff&quot;, &quot;dashArray&quot;: null, &quot;dashOffset&quot;: null, &quot;fill&quot;: true, &quot;fillColor&quot;: &quot;#3388ff&quot;, &quot;fillOpacity&quot;: 0.2, &quot;fillRule&quot;: &quot;evenodd&quot;, &quot;lineCap&quot;: &quot;round&quot;, &quot;lineJoin&quot;: &quot;round&quot;, &quot;opacity&quot;: 1.0, &quot;radius&quot;: 2, &quot;stroke&quot;: true, &quot;weight&quot;: 3};\n            \n            let style = geo_json_62fbf2aef8504f8c8e1dbf549bf7db6b_styler(feature)\n            Object.assign(opts, style)\n            \n            return new L.CircleMarker(latlng, opts)\n        }\n\n        function geo_json_62fbf2aef8504f8c8e1dbf549bf7db6b_onEachFeature(feature, layer) {\n            layer.on({\n                mouseout: function(e) {\n                    if(typeof e.target.setStyle === &quot;function&quot;){\n                        geo_json_62fbf2aef8504f8c8e1dbf549bf7db6b.resetStyle(e.target);\n                    }\n                },\n                mouseover: function(e) {\n                    if(typeof e.target.setStyle === &quot;function&quot;){\n                        const highlightStyle = geo_json_62fbf2aef8504f8c8e1dbf549bf7db6b_highlighter(e.target.feature)\n                        e.target.setStyle(highlightStyle);\n                    }\n                },\n            });\n        };\n        var geo_json_62fbf2aef8504f8c8e1dbf549bf7db6b = L.geoJson(null, {\n                onEachFeature: geo_json_62fbf2aef8504f8c8e1dbf549bf7db6b_onEachFeature,\n            \n                style: geo_json_62fbf2aef8504f8c8e1dbf549bf7db6b_styler,\n                pointToLayer: geo_json_62fbf2aef8504f8c8e1dbf549bf7db6b_pointToLayer\n        });\n\n        function geo_json_62fbf2aef8504f8c8e1dbf549bf7db6b_add (data) {\n            geo_json_62fbf2aef8504f8c8e1dbf549bf7db6b\n                .addData(data)\n                .addTo(map_2017650e9470814093899551dbbb72c8);\n        }\n            geo_json_62fbf2aef8504f8c8e1dbf549bf7db6b_add({&quot;bbox&quot;: [-99.19071438138118, 19.27947360377738, -99.14440081050682, 19.38377832377402], &quot;features&quot;: [{&quot;bbox&quot;: [-99.1906271466764, 19.383082625228962, -99.1906271466764, 19.383082625228962], &quot;geometry&quot;: {&quot;coordinates&quot;: [-99.1906271466764, 19.383082625228962], &quot;type&quot;: &quot;Point&quot;}, &quot;id&quot;: &quot;0&quot;, &quot;properties&quot;: {&quot;Coordenadas de Accidente&quot;: &quot;Ninguna&quot;, &quot;Costo&quot;: 0.0, &quot;Latitude&quot;: -99.1906271466764, &quot;Longitude&quot;: 19.383082625228962, &quot;Tiempo&quot;: &quot;5:30AM&quot;, &quot;Tipo Accidente&quot;: &quot;Ninguno&quot;, &quot;Tipo Transporte&quot;: &quot;CAMINAR&quot;, &quot;loc&quot;: {&quot;coordinates&quot;: [-99.1906271466764, 19.383082625228962], &quot;type&quot;: &quot;Point&quot;}}, &quot;type&quot;: &quot;Feature&quot;}, {&quot;bbox&quot;: [-99.19071438138118, 19.38367013560702, -99.19071438138118, 19.38367013560702], &quot;geometry&quot;: {&quot;coordinates&quot;: [-99.19071438138118, 19.38367013560702], &quot;type&quot;: &quot;Point&quot;}, &quot;id&quot;: &quot;1&quot;, &quot;properties&quot;: {&quot;Coordenadas de Accidente&quot;: &quot;Ninguna&quot;, &quot;Costo&quot;: 0.0, &quot;Latitude&quot;: -99.19071438138118, &quot;Longitude&quot;: 19.38367013560702, &quot;Tiempo&quot;: &quot;5:33AM&quot;, &quot;Tipo Accidente&quot;: &quot;Ninguno&quot;, &quot;Tipo Transporte&quot;: &quot;CAMINAR&quot;, &quot;loc&quot;: {&quot;coordinates&quot;: [-99.19071438138118, 19.38367013560702], &quot;type&quot;: &quot;Point&quot;}}, &quot;type&quot;: &quot;Feature&quot;}, {&quot;bbox&quot;: [-99.18416246474426, 19.382961076037986, -99.18416246474426, 19.382961076037986], &quot;geometry&quot;: {&quot;coordinates&quot;: [-99.18416246474426, 19.382961076037986], &quot;type&quot;: &quot;Point&quot;}, &quot;id&quot;: &quot;2&quot;, &quot;properties&quot;: {&quot;Coordenadas de Accidente&quot;: &quot;Ninguna&quot;, &quot;Costo&quot;: 0.0, &quot;Latitude&quot;: -99.18416246474426, &quot;Longitude&quot;: 19.382961076037986, &quot;Tiempo&quot;: &quot;5:40AM&quot;, &quot;Tipo Accidente&quot;: &quot;Ninguno&quot;, &quot;Tipo Transporte&quot;: &quot;CAMINAR&quot;, &quot;loc&quot;: {&quot;coordinates&quot;: [-99.18416246474426, 19.382961076037986], &quot;type&quot;: &quot;Point&quot;}}, &quot;type&quot;: &quot;Feature&quot;}, {&quot;bbox&quot;: [-99.18375208678239, 19.38377832377402, -99.18375208678239, 19.38377832377402], &quot;geometry&quot;: {&quot;coordinates&quot;: [-99.18375208678239, 19.38377832377402], &quot;type&quot;: &quot;Point&quot;}, &quot;id&quot;: &quot;3&quot;, &quot;properties&quot;: {&quot;Coordenadas de Accidente&quot;: &quot;Ninguna&quot;, &quot;Costo&quot;: 0.0, &quot;Latitude&quot;: -99.18375208678239, &quot;Longitude&quot;: 19.38377832377402, &quot;Tiempo&quot;: &quot;5:43AM&quot;, &quot;Tipo Accidente&quot;: &quot;Ninguno&quot;, &quot;Tipo Transporte&quot;: &quot;CAMINAR&quot;, &quot;loc&quot;: {&quot;coordinates&quot;: [-99.18375208678239, 19.38377832377402], &quot;type&quot;: &quot;Point&quot;}}, &quot;type&quot;: &quot;Feature&quot;}, {&quot;bbox&quot;: [-99.18137564967644, 19.382705527130742, -99.18137564967644, 19.382705527130742], &quot;geometry&quot;: {&quot;coordinates&quot;: [-99.18137564967644, 19.382705527130742], &quot;type&quot;: &quot;Point&quot;}, &quot;id&quot;: &quot;4&quot;, &quot;properties&quot;: {&quot;Coordenadas de Accidente&quot;: &quot;Ninguna&quot;, &quot;Costo&quot;: 0.0, &quot;Latitude&quot;: -99.18137564967644, &quot;Longitude&quot;: 19.382705527130742, &quot;Tiempo&quot;: &quot;5:48AM&quot;, &quot;Tipo Accidente&quot;: &quot;Ninguno&quot;, &quot;Tipo Transporte&quot;: &quot;CAMINAR&quot;, &quot;loc&quot;: {&quot;coordinates&quot;: [-99.18137564967644, 19.382705527130742], &quot;type&quot;: &quot;Point&quot;}}, &quot;type&quot;: &quot;Feature&quot;}, {&quot;bbox&quot;: [-99.1794927391155, 19.3816681463057, -99.1794927391155, 19.3816681463057], &quot;geometry&quot;: {&quot;coordinates&quot;: [-99.1794927391155, 19.3816681463057], &quot;type&quot;: &quot;Point&quot;}, &quot;id&quot;: &quot;5&quot;, &quot;properties&quot;: {&quot;Coordenadas de Accidente&quot;: &quot;Ninguna&quot;, &quot;Costo&quot;: 0.0, &quot;Latitude&quot;: -99.1794927391155, &quot;Longitude&quot;: 19.3816681463057, &quot;Tiempo&quot;: &quot;5:52AM&quot;, &quot;Tipo Accidente&quot;: &quot;Ninguno&quot;, &quot;Tipo Transporte&quot;: &quot;CAMINAR&quot;, &quot;loc&quot;: {&quot;coordinates&quot;: [-99.1794927391155, 19.3816681463057], &quot;type&quot;: &quot;Point&quot;}}, &quot;type&quot;: &quot;Feature&quot;}, {&quot;bbox&quot;: [-99.17617752875515, 19.382839627094555, -99.17617752875515, 19.382839627094555], &quot;geometry&quot;: {&quot;coordinates&quot;: [-99.17617752875515, 19.382839627094555], &quot;type&quot;: &quot;Point&quot;}, &quot;id&quot;: &quot;6&quot;, &quot;properties&quot;: {&quot;Coordenadas de Accidente&quot;: &quot;Ninguna&quot;, &quot;Costo&quot;: 0.0, &quot;Latitude&quot;: -99.17617752875515, &quot;Longitude&quot;: 19.382839627094555, &quot;Tiempo&quot;: &quot;6:00AM&quot;, &quot;Tipo Accidente&quot;: &quot;Ninguno&quot;, &quot;Tipo Transporte&quot;: &quot;CAMINAR&quot;, &quot;loc&quot;: {&quot;coordinates&quot;: [-99.17617752875515, 19.382839627094555], &quot;type&quot;: &quot;Point&quot;}}, &quot;type&quot;: &quot;Feature&quot;}, {&quot;bbox&quot;: [-99.17615338887623, 19.38250058168496, -99.17615338887623, 19.38250058168496], &quot;geometry&quot;: {&quot;coordinates&quot;: [-99.17615338887623, 19.38250058168496], &quot;type&quot;: &quot;Point&quot;}, &quot;id&quot;: &quot;7&quot;, &quot;properties&quot;: {&quot;Coordenadas de Accidente&quot;: &quot;Ninguna&quot;, &quot;Costo&quot;: 0.0, &quot;Latitude&quot;: -99.17615338887623, &quot;Longitude&quot;: 19.38250058168496, &quot;Tiempo&quot;: &quot;6:15AM&quot;, &quot;Tipo Accidente&quot;: &quot;Ninguno&quot;, &quot;Tipo Transporte&quot;: &quot;CAMINAR&quot;, &quot;loc&quot;: {&quot;coordinates&quot;: [-99.17615338887623, 19.38250058168496], &quot;type&quot;: &quot;Point&quot;}}, &quot;type&quot;: &quot;Feature&quot;}, {&quot;bbox&quot;: [-99.19045862470468, 19.33979501073667, -99.19045862470468, 19.33979501073667], &quot;geometry&quot;: {&quot;coordinates&quot;: [-99.19045862470468, 19.33979501073667], &quot;type&quot;: &quot;Point&quot;}, &quot;id&quot;: &quot;8&quot;, &quot;properties&quot;: {&quot;Coordenadas de Accidente&quot;: &quot;Ninguna&quot;, &quot;Costo&quot;: 6.0, &quot;Latitude&quot;: -99.19045862470468, &quot;Longitude&quot;: 19.33979501073667, &quot;Tiempo&quot;: &quot;7:25AM&quot;, &quot;Tipo Accidente&quot;: &quot;Ninguno&quot;, &quot;Tipo Transporte&quot;: &quot;METROBUS&quot;, &quot;loc&quot;: {&quot;coordinates&quot;: [-99.19045862470468, 19.33979501073667], &quot;type&quot;: &quot;Point&quot;}}, &quot;type&quot;: &quot;Feature&quot;}, {&quot;bbox&quot;: [-99.18500837633597, 19.29577244917112, -99.18500837633597, 19.29577244917112], &quot;geometry&quot;: {&quot;coordinates&quot;: [-99.18500837633597, 19.29577244917112], &quot;type&quot;: &quot;Point&quot;}, &quot;id&quot;: &quot;9&quot;, &quot;properties&quot;: {&quot;Coordenadas de Accidente&quot;: &quot;Ninguna&quot;, &quot;Costo&quot;: 0.0, &quot;Latitude&quot;: -99.18500837633597, &quot;Longitude&quot;: 19.29577244917112, &quot;Tiempo&quot;: &quot;7:45AM&quot;, &quot;Tipo Accidente&quot;: &quot;Ninguno&quot;, &quot;Tipo Transporte&quot;: &quot;METROBUS&quot;, &quot;loc&quot;: {&quot;coordinates&quot;: [-99.18500837633597, 19.29577244917112], &quot;type&quot;: &quot;Point&quot;}}, &quot;type&quot;: &quot;Feature&quot;}, {&quot;bbox&quot;: [-99.17370018345714, 19.29071942361733, -99.17370018345714, 19.29071942361733], &quot;geometry&quot;: {&quot;coordinates&quot;: [-99.17370018345714, 19.29071942361733], &quot;type&quot;: &quot;Point&quot;}, &quot;id&quot;: &quot;10&quot;, &quot;properties&quot;: {&quot;Coordenadas de Accidente&quot;: &quot;Ninguna&quot;, &quot;Costo&quot;: 0.0, &quot;Latitude&quot;: -99.17370018345714, &quot;Longitude&quot;: 19.29071942361733, &quot;Tiempo&quot;: &quot;7:58AM&quot;, &quot;Tipo Accidente&quot;: &quot;Ninguno&quot;, &quot;Tipo Transporte&quot;: &quot;METROBUS&quot;, &quot;loc&quot;: {&quot;coordinates&quot;: [-99.17370018345714, 19.29071942361733], &quot;type&quot;: &quot;Point&quot;}}, &quot;type&quot;: &quot;Feature&quot;}, {&quot;bbox&quot;: [-99.17584595047266, 19.28463330819647, -99.17584595047266, 19.28463330819647], &quot;geometry&quot;: {&quot;coordinates&quot;: [-99.17584595047266, 19.28463330819647], &quot;type&quot;: &quot;Point&quot;}, &quot;id&quot;: &quot;11&quot;, &quot;properties&quot;: {&quot;Coordenadas de Accidente&quot;: &quot;Ninguna&quot;, &quot;Costo&quot;: 0.0, &quot;Latitude&quot;: -99.17584595047266, &quot;Longitude&quot;: 19.28463330819647, &quot;Tiempo&quot;: &quot;8:05AM&quot;, &quot;Tipo Accidente&quot;: &quot;Ninguno&quot;, &quot;Tipo Transporte&quot;: &quot;METROBUS&quot;, &quot;loc&quot;: {&quot;coordinates&quot;: [-99.17584595047266, 19.28463330819647], &quot;type&quot;: &quot;Point&quot;}}, &quot;type&quot;: &quot;Feature&quot;}, {&quot;bbox&quot;: [-99.17499837220686, 19.28268894403653, -99.17499837220686, 19.28268894403653], &quot;geometry&quot;: {&quot;coordinates&quot;: [-99.17499837220686, 19.28268894403653], &quot;type&quot;: &quot;Point&quot;}, &quot;id&quot;: &quot;12&quot;, &quot;properties&quot;: {&quot;Coordenadas de Accidente&quot;: &quot;Ninguna&quot;, &quot;Costo&quot;: 0.0, &quot;Latitude&quot;: -99.17499837220686, &quot;Longitude&quot;: 19.28268894403653, &quot;Tiempo&quot;: &quot;8:15AM&quot;, &quot;Tipo Accidente&quot;: &quot;Ninguno&quot;, &quot;Tipo Transporte&quot;: &quot;METROBUS&quot;, &quot;loc&quot;: {&quot;coordinates&quot;: [-99.17499837220686, 19.28268894403653], &quot;type&quot;: &quot;Point&quot;}}, &quot;type&quot;: &quot;Feature&quot;}, {&quot;bbox&quot;: [-99.17006310807118, 19.280339473298586, -99.17006310807118, 19.280339473298586], &quot;geometry&quot;: {&quot;coordinates&quot;: [-99.17006310807118, 19.280339473298586], &quot;type&quot;: &quot;Point&quot;}, &quot;id&quot;: &quot;13&quot;, &quot;properties&quot;: {&quot;Coordenadas de Accidente&quot;: &quot;Ninguna&quot;, &quot;Costo&quot;: 0.0, &quot;Latitude&quot;: -99.17006310807118, &quot;Longitude&quot;: 19.280339473298586, &quot;Tiempo&quot;: &quot;8:25AM&quot;, &quot;Tipo Accidente&quot;: &quot;Ninguno&quot;, &quot;Tipo Transporte&quot;: &quot;METROBUS&quot;, &quot;loc&quot;: {&quot;coordinates&quot;: [-99.17006310807118, 19.280339473298586], &quot;type&quot;: &quot;Point&quot;}}, &quot;type&quot;: &quot;Feature&quot;}, {&quot;bbox&quot;: [-99.16795757381107, 19.27947360377738, -99.16795757381107, 19.27947360377738], &quot;geometry&quot;: {&quot;coordinates&quot;: [-99.16795757381107, 19.27947360377738], &quot;type&quot;: &quot;Point&quot;}, &quot;id&quot;: &quot;14&quot;, &quot;properties&quot;: {&quot;Coordenadas de Accidente&quot;: &quot;Ninguna&quot;, &quot;Costo&quot;: 0.0, &quot;Latitude&quot;: -99.16795757381107, &quot;Longitude&quot;: 19.27947360377738, &quot;Tiempo&quot;: &quot;8:29AM&quot;, &quot;Tipo Accidente&quot;: &quot;Ninguno&quot;, &quot;Tipo Transporte&quot;: &quot;CAMINAR&quot;, &quot;loc&quot;: {&quot;coordinates&quot;: [-99.16795757381107, 19.27947360377738], &quot;type&quot;: &quot;Point&quot;}}, &quot;type&quot;: &quot;Feature&quot;}, {&quot;bbox&quot;: [-99.16673180433538, 19.279612219151442, -99.16673180433538, 19.279612219151442], &quot;geometry&quot;: {&quot;coordinates&quot;: [-99.16673180433538, 19.279612219151442], &quot;type&quot;: &quot;Point&quot;}, &quot;id&quot;: &quot;15&quot;, &quot;properties&quot;: {&quot;Coordenadas de Accidente&quot;: &quot;Ninguna&quot;, &quot;Costo&quot;: 0.0, &quot;Latitude&quot;: -99.16673180433538, &quot;Longitude&quot;: 19.279612219151442, &quot;Tiempo&quot;: &quot;8:31AM&quot;, &quot;Tipo Accidente&quot;: &quot;Ninguno&quot;, &quot;Tipo Transporte&quot;: &quot;CAMINAR&quot;, &quot;loc&quot;: {&quot;coordinates&quot;: [-99.16673180433538, 19.279612219151442], &quot;type&quot;: &quot;Point&quot;}}, &quot;type&quot;: &quot;Feature&quot;}, {&quot;bbox&quot;: [-99.16221067774308, 19.29011799530174, -99.16221067774308, 19.29011799530174], &quot;geometry&quot;: {&quot;coordinates&quot;: [-99.16221067774308, 19.29011799530174], &quot;type&quot;: &quot;Point&quot;}, &quot;id&quot;: &quot;16&quot;, &quot;properties&quot;: {&quot;Coordenadas de Accidente&quot;: &quot;Ninguna&quot;, &quot;Costo&quot;: 6.0, &quot;Latitude&quot;: -99.16221067774308, &quot;Longitude&quot;: 19.29011799530174, &quot;Tiempo&quot;: &quot;8:35AM&quot;, &quot;Tipo Accidente&quot;: &quot;Ninguno&quot;, &quot;Tipo Transporte&quot;: &quot;CAMION&quot;, &quot;loc&quot;: {&quot;coordinates&quot;: [-99.16221067774308, 19.29011799530174], &quot;type&quot;: &quot;Point&quot;}}, &quot;type&quot;: &quot;Feature&quot;}, {&quot;bbox&quot;: [-99.14440081050682, 19.304962766722397, -99.14440081050682, 19.304962766722397], &quot;geometry&quot;: {&quot;coordinates&quot;: [-99.14440081050682, 19.304962766722397], &quot;type&quot;: &quot;Point&quot;}, &quot;id&quot;: &quot;17&quot;, &quot;properties&quot;: {&quot;Coordenadas de Accidente&quot;: &quot;Ninguna&quot;, &quot;Costo&quot;: 0.0, &quot;Latitude&quot;: -99.14440081050682, &quot;Longitude&quot;: 19.304962766722397, &quot;Tiempo&quot;: &quot;8:40AM&quot;, &quot;Tipo Accidente&quot;: &quot;Ninguno&quot;, &quot;Tipo Transporte&quot;: &quot;CAMION&quot;, &quot;loc&quot;: {&quot;coordinates&quot;: [-99.14440081050682, 19.304962766722397], &quot;type&quot;: &quot;Point&quot;}}, &quot;type&quot;: &quot;Feature&quot;}, {&quot;bbox&quot;: [-99.14475486206437, 19.305286784907125, -99.14475486206437, 19.305286784907125], &quot;geometry&quot;: {&quot;coordinates&quot;: [-99.14475486206437, 19.305286784907125], &quot;type&quot;: &quot;Point&quot;}, &quot;id&quot;: &quot;18&quot;, &quot;properties&quot;: {&quot;Coordenadas de Accidente&quot;: &quot;Ninguna&quot;, &quot;Costo&quot;: 0.0, &quot;Latitude&quot;: -99.14475486206437, &quot;Longitude&quot;: 19.305286784907125, &quot;Tiempo&quot;: &quot;8:45AM&quot;, &quot;Tipo Accidente&quot;: &quot;Ninguno&quot;, &quot;Tipo Transporte&quot;: &quot;CAMION&quot;, &quot;loc&quot;: {&quot;coordinates&quot;: [-99.14475486206437, 19.305286784907125], &quot;type&quot;: &quot;Point&quot;}}, &quot;type&quot;: &quot;Feature&quot;}, {&quot;bbox&quot;: [-99.15205046991713, 19.297955716470298, -99.15205046991713, 19.297955716470298], &quot;geometry&quot;: {&quot;coordinates&quot;: [-99.15205046991713, 19.297955716470298], &quot;type&quot;: &quot;Point&quot;}, &quot;id&quot;: &quot;19&quot;, &quot;properties&quot;: {&quot;Coordenadas de Accidente&quot;: &quot;Ninguna&quot;, &quot;Costo&quot;: 0.0, &quot;Latitude&quot;: -99.15205046991713, &quot;Longitude&quot;: 19.297955716470298, &quot;Tiempo&quot;: &quot;8:49AM&quot;, &quot;Tipo Accidente&quot;: &quot;Ninguno&quot;, &quot;Tipo Transporte&quot;: &quot;CAMION&quot;, &quot;loc&quot;: {&quot;coordinates&quot;: [-99.15205046991713, 19.297955716470298], &quot;type&quot;: &quot;Point&quot;}}, &quot;type&quot;: &quot;Feature&quot;}, {&quot;bbox&quot;: [-99.15646002113401, 19.29700386857389, -99.15646002113401, 19.29700386857389], &quot;geometry&quot;: {&quot;coordinates&quot;: [-99.15646002113401, 19.29700386857389], &quot;type&quot;: &quot;Point&quot;}, &quot;id&quot;: &quot;20&quot;, &quot;properties&quot;: {&quot;Coordenadas de Accidente&quot;: &quot;Ninguna&quot;, &quot;Costo&quot;: 0.0, &quot;Latitude&quot;: -99.15646002113401, &quot;Longitude&quot;: 19.29700386857389, &quot;Tiempo&quot;: &quot;8:53AM&quot;, &quot;Tipo Accidente&quot;: &quot;Ninguno&quot;, &quot;Tipo Transporte&quot;: &quot;CAMION&quot;, &quot;loc&quot;: {&quot;coordinates&quot;: [-99.15646002113401, 19.29700386857389], &quot;type&quot;: &quot;Point&quot;}}, &quot;type&quot;: &quot;Feature&quot;}, {&quot;bbox&quot;: [-99.16091248769119, 19.30130739211318, -99.16091248769119, 19.30130739211318], &quot;geometry&quot;: {&quot;coordinates&quot;: [-99.16091248769119, 19.30130739211318], &quot;type&quot;: &quot;Point&quot;}, &quot;id&quot;: &quot;21&quot;, &quot;properties&quot;: {&quot;Coordenadas de Accidente&quot;: &quot;Ninguna&quot;, &quot;Costo&quot;: 0.0, &quot;Latitude&quot;: -99.16091248769119, &quot;Longitude&quot;: 19.30130739211318, &quot;Tiempo&quot;: &quot;8:55AM&quot;, &quot;Tipo Accidente&quot;: &quot;Ninguno&quot;, &quot;Tipo Transporte&quot;: &quot;CAMION&quot;, &quot;loc&quot;: {&quot;coordinates&quot;: [-99.16091248769119, 19.30130739211318], &quot;type&quot;: &quot;Point&quot;}}, &quot;type&quot;: &quot;Feature&quot;}, {&quot;bbox&quot;: [-99.16109487788752, 19.302249089227733, -99.16109487788752, 19.302249089227733], &quot;geometry&quot;: {&quot;coordinates&quot;: [-99.16109487788752, 19.302249089227733], &quot;type&quot;: &quot;Point&quot;}, &quot;id&quot;: &quot;22&quot;, &quot;properties&quot;: {&quot;Coordenadas de Accidente&quot;: &quot;Ninguna&quot;, &quot;Costo&quot;: 0.0, &quot;Latitude&quot;: -99.16109487788752, &quot;Longitude&quot;: 19.302249089227733, &quot;Tiempo&quot;: &quot;8:57AM&quot;, &quot;Tipo Accidente&quot;: &quot;Ninguno&quot;, &quot;Tipo Transporte&quot;: &quot;CAMION&quot;, &quot;loc&quot;: {&quot;coordinates&quot;: [-99.16109487788752, 19.302249089227733], &quot;type&quot;: &quot;Point&quot;}}, &quot;type&quot;: &quot;Feature&quot;}, {&quot;bbox&quot;: [-99.15983960418345, 19.303292037770092, -99.15983960418345, 19.303292037770092], &quot;geometry&quot;: {&quot;coordinates&quot;: [-99.15983960418345, 19.303292037770092], &quot;type&quot;: &quot;Point&quot;}, &quot;id&quot;: &quot;23&quot;, &quot;properties&quot;: {&quot;Coordenadas de Accidente&quot;: &quot;Ninguna&quot;, &quot;Costo&quot;: 0.0, &quot;Latitude&quot;: -99.15983960418345, &quot;Longitude&quot;: 19.303292037770092, &quot;Tiempo&quot;: &quot;8:59AM&quot;, &quot;Tipo Accidente&quot;: &quot;Ninguno&quot;, &quot;Tipo Transporte&quot;: &quot;CAMION&quot;, &quot;loc&quot;: {&quot;coordinates&quot;: [-99.15983960418345, 19.303292037770092], &quot;type&quot;: &quot;Point&quot;}}, &quot;type&quot;: &quot;Feature&quot;}, {&quot;bbox&quot;: [-99.15809080406581, 19.302340220918882, -99.15809080406581, 19.302340220918882], &quot;geometry&quot;: {&quot;coordinates&quot;: [-99.15809080406581, 19.302340220918882], &quot;type&quot;: &quot;Point&quot;}, &quot;id&quot;: &quot;24&quot;, &quot;properties&quot;: {&quot;Coordenadas de Accidente&quot;: &quot;Ninguna&quot;, &quot;Costo&quot;: 0.0, &quot;Latitude&quot;: -99.15809080406581, &quot;Longitude&quot;: 19.302340220918882, &quot;Tiempo&quot;: &quot;9:03AM&quot;, &quot;Tipo Accidente&quot;: &quot;Ninguno&quot;, &quot;Tipo Transporte&quot;: &quot;CAMION&quot;, &quot;loc&quot;: {&quot;coordinates&quot;: [-99.15809080406581, 19.302340220918882], &quot;type&quot;: &quot;Point&quot;}}, &quot;type&quot;: &quot;Feature&quot;}, {&quot;bbox&quot;: [-99.15795535252295, 19.30242818826706, -99.15795535252295, 19.30242818826706], &quot;geometry&quot;: {&quot;coordinates&quot;: [-99.15795535252295, 19.30242818826706], &quot;type&quot;: &quot;Point&quot;}, &quot;id&quot;: &quot;25&quot;, &quot;properties&quot;: {&quot;Coordenadas de Accidente&quot;: &quot;Ninguna&quot;, &quot;Costo&quot;: 0.0, &quot;Latitude&quot;: -99.15795535252295, &quot;Longitude&quot;: 19.30242818826706, &quot;Tiempo&quot;: &quot;9:07AM&quot;, &quot;Tipo Accidente&quot;: &quot;Ninguno&quot;, &quot;Tipo Transporte&quot;: &quot;CAMION&quot;, &quot;loc&quot;: {&quot;coordinates&quot;: [-99.15795535252295, 19.30242818826706], &quot;type&quot;: &quot;Point&quot;}}, &quot;type&quot;: &quot;Feature&quot;}, {&quot;bbox&quot;: [-99.16088633667069, 19.305281722202317, -99.16088633667069, 19.305281722202317], &quot;geometry&quot;: {&quot;coordinates&quot;: [-99.16088633667069, 19.305281722202317], &quot;type&quot;: &quot;Point&quot;}, &quot;id&quot;: &quot;26&quot;, &quot;properties&quot;: {&quot;Coordenadas de Accidente&quot;: &quot;Ninguna&quot;, &quot;Costo&quot;: 0.0, &quot;Latitude&quot;: -99.16088633667069, &quot;Longitude&quot;: 19.305281722202317, &quot;Tiempo&quot;: &quot;9:10AM&quot;, &quot;Tipo Accidente&quot;: &quot;Ninguno&quot;, &quot;Tipo Transporte&quot;: &quot;CAMION&quot;, &quot;loc&quot;: {&quot;coordinates&quot;: [-99.16088633667069, 19.305281722202317], &quot;type&quot;: &quot;Point&quot;}}, &quot;type&quot;: &quot;Feature&quot;}, {&quot;bbox&quot;: [-99.16098289619842, 19.30804344501267, -99.16098289619842, 19.30804344501267], &quot;geometry&quot;: {&quot;coordinates&quot;: [-99.16098289619842, 19.30804344501267], &quot;type&quot;: &quot;Point&quot;}, &quot;id&quot;: &quot;27&quot;, &quot;properties&quot;: {&quot;Coordenadas de Accidente&quot;: &quot;Ninguna&quot;, &quot;Costo&quot;: 0.0, &quot;Latitude&quot;: -99.16098289619842, &quot;Longitude&quot;: 19.30804344501267, &quot;Tiempo&quot;: &quot;9:15AM&quot;, &quot;Tipo Accidente&quot;: &quot;Ninguno&quot;, &quot;Tipo Transporte&quot;: &quot;CAMINAR&quot;, &quot;loc&quot;: {&quot;coordinates&quot;: [-99.16098289619842, 19.30804344501267], &quot;type&quot;: &quot;Point&quot;}}, &quot;type&quot;: &quot;Feature&quot;}, {&quot;bbox&quot;: [-99.16073613299064, 19.308987634714825, -99.16073613299064, 19.308987634714825], &quot;geometry&quot;: {&quot;coordinates&quot;: [-99.16073613299064, 19.308987634714825], &quot;type&quot;: &quot;Point&quot;}, &quot;id&quot;: &quot;28&quot;, &quot;properties&quot;: {&quot;Coordenadas de Accidente&quot;: &quot;Ninguna&quot;, &quot;Costo&quot;: 0.0, &quot;Latitude&quot;: -99.16073613299064, &quot;Longitude&quot;: 19.308987634714825, &quot;Tiempo&quot;: &quot;9:18AM&quot;, &quot;Tipo Accidente&quot;: &quot;Ninguno&quot;, &quot;Tipo Transporte&quot;: &quot;CAMINAR&quot;, &quot;loc&quot;: {&quot;coordinates&quot;: [-99.16073613299064, 19.308987634714825], &quot;type&quot;: &quot;Point&quot;}}, &quot;type&quot;: &quot;Feature&quot;}, {&quot;bbox&quot;: [-99.15997706790888, 19.308820566699055, -99.15997706790888, 19.308820566699055], &quot;geometry&quot;: {&quot;coordinates&quot;: [-99.15997706790888, 19.308820566699055], &quot;type&quot;: &quot;Point&quot;}, &quot;id&quot;: &quot;29&quot;, &quot;properties&quot;: {&quot;Coordenadas de Accidente&quot;: &quot;Ninguna&quot;, &quot;Costo&quot;: 0.0, &quot;Latitude&quot;: -99.15997706790888, &quot;Longitude&quot;: 19.308820566699055, &quot;Tiempo&quot;: &quot;9:22AM&quot;, &quot;Tipo Accidente&quot;: &quot;Ninguno&quot;, &quot;Tipo Transporte&quot;: &quot;CAMINAR&quot;, &quot;loc&quot;: {&quot;coordinates&quot;: [-99.15997706790888, 19.308820566699055], &quot;type&quot;: &quot;Point&quot;}}, &quot;type&quot;: &quot;Feature&quot;}], &quot;type&quot;: &quot;FeatureCollection&quot;});\n\n        \n    \n    geo_json_62fbf2aef8504f8c8e1dbf549bf7db6b.bindTooltip(\n    function(layer){\n    let div = L.DomUtil.create(&#x27;div&#x27;);\n    \n    let handleObject = feature=&gt;typeof(feature)==&#x27;object&#x27; ? JSON.stringify(feature) : feature;\n    let fields = [&quot;Tipo Transporte&quot;, &quot;Coordenadas de Accidente&quot;, &quot;Tipo Accidente&quot;, &quot;Tiempo&quot;, &quot;Costo&quot;, &quot;Longitude&quot;, &quot;Latitude&quot;, &quot;loc&quot;];\n    let aliases = [&quot;Tipo Transporte&quot;, &quot;Coordenadas de Accidente&quot;, &quot;Tipo Accidente&quot;, &quot;Tiempo&quot;, &quot;Costo&quot;, &quot;Longitude&quot;, &quot;Latitude&quot;, &quot;loc&quot;];\n    let table = &#x27;&lt;table&gt;&#x27; +\n        String(\n        fields.map(\n        (v,i)=&gt;\n        `&lt;tr&gt;\n            &lt;th&gt;${aliases[i]}&lt;/th&gt;\n            \n            &lt;td&gt;${handleObject(layer.feature.properties[v])}&lt;/td&gt;\n        &lt;/tr&gt;`).join(&#x27;&#x27;))\n    +&#x27;&lt;/table&gt;&#x27;;\n    div.innerHTML=table;\n    \n    return div\n    }\n    ,{&quot;className&quot;: &quot;foliumtooltip&quot;, &quot;sticky&quot;: true});\n                     \n    \n            var poly_line_44b181db2f863bc1719a983faa92762f = L.polyline(\n                [[19.383082625228962, -99.1906271466764], [19.38367013560702, -99.19071438138118], [19.382961076037986, -99.18416246474426], [19.38377832377402, -99.18375208678239], [19.382705527130742, -99.18137564967644], [19.3816681463057, -99.1794927391155], [19.382839627094555, -99.17617752875515], [19.38250058168496, -99.17615338887623], [19.33979501073667, -99.19045862470468], [19.29577244917112, -99.18500837633597], [19.29071942361733, -99.17370018345714], [19.28463330819647, -99.17584595047266], [19.28268894403653, -99.17499837220686], [19.280339473298586, -99.17006310807118], [19.27947360377738, -99.16795757381107], [19.279612219151442, -99.16673180433538], [19.29011799530174, -99.16221067774308], [19.304962766722397, -99.14440081050682], [19.305286784907125, -99.14475486206437], [19.297955716470298, -99.15205046991713], [19.29700386857389, -99.15646002113401], [19.30130739211318, -99.16091248769119], [19.302249089227733, -99.16109487788752], [19.303292037770092, -99.15983960418345], [19.302340220918882, -99.15809080406581], [19.30242818826706, -99.15795535252295], [19.305281722202317, -99.16088633667069], [19.30804344501267, -99.16098289619842], [19.308987634714825, -99.16073613299064], [19.308820566699055, -99.15997706790888]],\n                {&quot;bubblingMouseEvents&quot;: true, &quot;color&quot;: &quot;green&quot;, &quot;dashArray&quot;: null, &quot;dashOffset&quot;: null, &quot;fill&quot;: false, &quot;fillColor&quot;: &quot;green&quot;, &quot;fillOpacity&quot;: 0.2, &quot;fillRule&quot;: &quot;evenodd&quot;, &quot;lineCap&quot;: &quot;round&quot;, &quot;lineJoin&quot;: &quot;round&quot;, &quot;noClip&quot;: false, &quot;opacity&quot;: 1, &quot;smoothFactor&quot;: 1.0, &quot;stroke&quot;: true, &quot;weight&quot;: 2.5}\n            ).addTo(map_2017650e9470814093899551dbbb72c8);\n        \n&lt;/script&gt;\" style=\"position:absolute;width:100%;height:100%;left:0;top:0;border:none !important;\" allowfullscreen webkitallowfullscreen mozallowfullscreen></iframe></div></div>"
     },
     "execution_count": 69,
     "metadata": {},
     "output_type": "execute_result"
    }
   ],
   "source": [
    "m = gdf2.explore(tiles=\"CartoDB positron\")\n",
    "folium.PolyLine(gdf2[['Longitude', 'Latitude']].values.tolist(), color=\"green\", weight=2.5, opacity=1).add_to(m)\n",
    "m"
   ],
   "metadata": {
    "collapsed": false,
    "pycharm": {
     "name": "#%%\n"
    }
   }
  },
  {
   "cell_type": "code",
   "execution_count": 71,
   "outputs": [],
   "source": [
    "m.save(\"D:\\\\Workspace\\\\ws_python\\\\semovi\\\\recorrido_2.html\")"
   ],
   "metadata": {
    "collapsed": false,
    "pycharm": {
     "name": "#%%\n"
    }
   }
  },
  {
   "cell_type": "code",
   "execution_count": 49,
   "outputs": [],
   "source": [
    "points = gdf2[['Longitude', 'Latitude']].values.tolist()"
   ],
   "metadata": {
    "collapsed": false,
    "pycharm": {
     "name": "#%%\n"
    }
   }
  },
  {
   "cell_type": "code",
   "execution_count": 27,
   "outputs": [
    {
     "data": {
      "text/plain": "0.066"
     },
     "execution_count": 27,
     "metadata": {},
     "output_type": "execute_result"
    }
   ],
   "source": [
    "import math\n",
    "from numpy import sin, cos, arccos, pi, round\n",
    "\n",
    "x = points[0]\n",
    "y = points[1]\n",
    "\n",
    "def rad2deg(radians):\n",
    "    degrees = radians * 180 / pi\n",
    "    return degrees\n",
    "\n",
    "def deg2rad(degrees):\n",
    "    radians = degrees * pi / 180\n",
    "    return radians\n",
    "\n",
    "def getDistanceBetweenPointsNew(latitude1, longitude1, latitude2, longitude2, unit = 'miles'):\n",
    "\n",
    "    theta = longitude1 - longitude2\n",
    "\n",
    "    distance = 60 * 1.1515 * rad2deg(\n",
    "        arccos(\n",
    "            (sin(deg2rad(latitude1)) * sin(deg2rad(latitude2))) +\n",
    "            (cos(deg2rad(latitude1)) * cos(deg2rad(latitude2)) * cos(deg2rad(theta)))\n",
    "        )\n",
    "    )\n",
    "\n",
    "    if unit == 'miles':\n",
    "        return round(distance, 2)\n",
    "    if unit == 'kilometers':\n",
    "        return round(distance * 1.609344, 3)\n",
    "\n",
    "\n",
    "getDistanceBetweenPointsNew(x[0], x[1], y[0], y[1], 'kilometers')"
   ],
   "metadata": {
    "collapsed": false,
    "pycharm": {
     "name": "#%%\n"
    }
   }
  },
  {
   "cell_type": "code",
   "execution_count": 34,
   "outputs": [],
   "source": [
    "lettersList = [chr(chNum).upper() for chNum in list(range(ord('a'),ord('z')+1))]"
   ],
   "metadata": {
    "collapsed": false,
    "pycharm": {
     "name": "#%%\n"
    }
   }
  },
  {
   "cell_type": "code",
   "execution_count": 52,
   "outputs": [
    {
     "name": "stdout",
     "output_type": "stream",
     "text": [
      "Se acabo\n"
     ]
    },
    {
     "data": {
      "text/plain": "    Distancias\n0         66.0\n1        692.0\n2        101.0\n3        276.0\n4        229.0\n5        371.0\n6         38.0\n7       4980.0\n8       4928.0\n9       1313.0\n10       713.0\n11       234.0\n12       580.0\n13       241.0\n14       130.0\n15      1261.0\n16      2494.0\n17        52.0\n18      1118.0\n19       475.0\n20       669.0\n21       106.0\n22       175.0\n23       212.0\n24        17.0\n25       442.0\n26       307.0\n27       108.0\n28        82.0",
      "text/html": "<div>\n<style scoped>\n    .dataframe tbody tr th:only-of-type {\n        vertical-align: middle;\n    }\n\n    .dataframe tbody tr th {\n        vertical-align: top;\n    }\n\n    .dataframe thead th {\n        text-align: right;\n    }\n</style>\n<table border=\"1\" class=\"dataframe\">\n  <thead>\n    <tr style=\"text-align: right;\">\n      <th></th>\n      <th>Distancias</th>\n    </tr>\n  </thead>\n  <tbody>\n    <tr>\n      <th>0</th>\n      <td>66.0</td>\n    </tr>\n    <tr>\n      <th>1</th>\n      <td>692.0</td>\n    </tr>\n    <tr>\n      <th>2</th>\n      <td>101.0</td>\n    </tr>\n    <tr>\n      <th>3</th>\n      <td>276.0</td>\n    </tr>\n    <tr>\n      <th>4</th>\n      <td>229.0</td>\n    </tr>\n    <tr>\n      <th>5</th>\n      <td>371.0</td>\n    </tr>\n    <tr>\n      <th>6</th>\n      <td>38.0</td>\n    </tr>\n    <tr>\n      <th>7</th>\n      <td>4980.0</td>\n    </tr>\n    <tr>\n      <th>8</th>\n      <td>4928.0</td>\n    </tr>\n    <tr>\n      <th>9</th>\n      <td>1313.0</td>\n    </tr>\n    <tr>\n      <th>10</th>\n      <td>713.0</td>\n    </tr>\n    <tr>\n      <th>11</th>\n      <td>234.0</td>\n    </tr>\n    <tr>\n      <th>12</th>\n      <td>580.0</td>\n    </tr>\n    <tr>\n      <th>13</th>\n      <td>241.0</td>\n    </tr>\n    <tr>\n      <th>14</th>\n      <td>130.0</td>\n    </tr>\n    <tr>\n      <th>15</th>\n      <td>1261.0</td>\n    </tr>\n    <tr>\n      <th>16</th>\n      <td>2494.0</td>\n    </tr>\n    <tr>\n      <th>17</th>\n      <td>52.0</td>\n    </tr>\n    <tr>\n      <th>18</th>\n      <td>1118.0</td>\n    </tr>\n    <tr>\n      <th>19</th>\n      <td>475.0</td>\n    </tr>\n    <tr>\n      <th>20</th>\n      <td>669.0</td>\n    </tr>\n    <tr>\n      <th>21</th>\n      <td>106.0</td>\n    </tr>\n    <tr>\n      <th>22</th>\n      <td>175.0</td>\n    </tr>\n    <tr>\n      <th>23</th>\n      <td>212.0</td>\n    </tr>\n    <tr>\n      <th>24</th>\n      <td>17.0</td>\n    </tr>\n    <tr>\n      <th>25</th>\n      <td>442.0</td>\n    </tr>\n    <tr>\n      <th>26</th>\n      <td>307.0</td>\n    </tr>\n    <tr>\n      <th>27</th>\n      <td>108.0</td>\n    </tr>\n    <tr>\n      <th>28</th>\n      <td>82.0</td>\n    </tr>\n  </tbody>\n</table>\n</div>"
     },
     "execution_count": 52,
     "metadata": {},
     "output_type": "execute_result"
    }
   ],
   "source": [
    "distances = []\n",
    "for i in range(0, len(points)):\n",
    "    k = i + 1\n",
    "    if k == len(points):\n",
    "        print(\"Se acabo\")\n",
    "    else:\n",
    "        x = points[i]\n",
    "        x2 = points[k]\n",
    "        distances.append(getDistanceBetweenPointsNew(x[0], x[1], x2[0], x2[1], 'kilometers') * 1000)\n",
    "        # print(\"[{0}] vs [{1}]\".format(points[i], points[k]))\n",
    "\n",
    "distances\n",
    "df_distances = pd.DataFrame(distances, columns=['Distancias'])\n",
    "df_distances"
   ],
   "metadata": {
    "collapsed": false,
    "pycharm": {
     "name": "#%%\n"
    }
   }
  },
  {
   "cell_type": "code",
   "execution_count": 33,
   "outputs": [
    {
     "data": {
      "text/plain": "['A',\n 'B',\n 'C',\n 'D',\n 'E',\n 'F',\n 'G',\n 'H',\n 'I',\n 'J',\n 'K',\n 'L',\n 'M',\n 'N',\n 'O',\n 'P',\n 'Q',\n 'R',\n 'S',\n 'T',\n 'U',\n 'V',\n 'W',\n 'X',\n 'Y',\n 'Z']"
     },
     "execution_count": 33,
     "metadata": {},
     "output_type": "execute_result"
    }
   ],
   "source": [],
   "metadata": {
    "collapsed": false,
    "pycharm": {
     "name": "#%%\n"
    }
   }
  }
 ],
 "metadata": {
  "kernelspec": {
   "display_name": "Python 3",
   "language": "python",
   "name": "python3"
  },
  "language_info": {
   "codemirror_mode": {
    "name": "ipython",
    "version": 2
   },
   "file_extension": ".py",
   "mimetype": "text/x-python",
   "name": "python",
   "nbconvert_exporter": "python",
   "pygments_lexer": "ipython2",
   "version": "2.7.6"
  }
 },
 "nbformat": 4,
 "nbformat_minor": 0
}